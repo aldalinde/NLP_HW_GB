{
 "cells": [
  {
   "cell_type": "markdown",
   "metadata": {
    "id": "J0Qjg6vuaHNt"
   },
   "source": [
    "# Neural machine translation with attention"
   ]
  },
  {
   "cell_type": "markdown",
   "metadata": {
    "id": "Q0HyVHFtfWnO"
   },
   "source": [
    "Урок 10. Машинный перевод. Модель seq2seq и механизм внимания\n",
    "Разобраться с моделью перевода (без механизма внимания) как она устроена, запустить для перевода с русского на английский (при желании можно взять другие пары языков)\n",
    "\n",
    "В данном практическом задании напишу и обучу модель перевода с русского на английский\n",
    "на библиотеке pytorch. Добавлю в неё механизм внимания, так как это сложнее и интереснее,\n",
    "а также рекуррентную сеть энкодера сделаю двунаправленной."
   ]
  },
  {
   "cell_type": "markdown",
   "metadata": {},
   "source": [
    "**Changing GRU NN in the encoder to Bidirectional GRU. Using tf.keras.layers.Bidirectional() with GRU as a layer. Processed on colab with GPU in two hours**"
   ]
  },
  {
   "cell_type": "code",
   "execution_count": 1,
   "metadata": {
    "id": "tnxXKDjq3jEL"
   },
   "outputs": [],
   "source": [
    "import tensorflow as tf\n",
    "\n",
    "import matplotlib.pyplot as plt\n",
    "import matplotlib.ticker as ticker\n",
    "from sklearn.model_selection import train_test_split\n",
    "\n",
    "import unicodedata\n",
    "import re\n",
    "import numpy as np\n",
    "import os\n",
    "import io\n",
    "import time"
   ]
  },
  {
   "cell_type": "markdown",
   "metadata": {
    "id": "wfodePkj3jEa"
   },
   "source": [
    "## Download and prepare the dataset\n",
    "\n",
    "We'll use a language dataset provided by http://www.manythings.org/anki/"
   ]
  },
  {
   "cell_type": "code",
   "execution_count": 2,
   "metadata": {
    "colab": {
     "base_uri": "https://localhost:8080/"
    },
    "id": "CNvjhDyAKk3U",
    "outputId": "b1b87815-07b3-46cc-fa44-73fe94253093"
   },
   "outputs": [
    {
     "name": "stdout",
     "output_type": "stream",
     "text": [
      "--2023-05-21 08:09:34--  http://www.manythings.org/anki/rus-eng.zip\n",
      "Resolving www.manythings.org (www.manythings.org)... 173.254.30.110\n",
      "Connecting to www.manythings.org (www.manythings.org)|173.254.30.110|:80... connected.\n",
      "HTTP request sent, awaiting response... 200 OK\n",
      "Length: 15460248 (15M) [application/zip]\n",
      "Saving to: ‘rus-eng.zip’\n",
      "\n",
      "rus-eng.zip         100%[===================>]  14.74M  7.37MB/s    in 2.0s    \n",
      "\n",
      "2023-05-21 08:09:37 (7.37 MB/s) - ‘rus-eng.zip’ saved [15460248/15460248]\n",
      "\n"
     ]
    }
   ],
   "source": [
    "!wget http://www.manythings.org/anki/rus-eng.zip"
   ]
  },
  {
   "cell_type": "code",
   "execution_count": 3,
   "metadata": {
    "id": "ISxPt8pIfWnV"
   },
   "outputs": [],
   "source": [
    "import sys\n",
    "\n",
    "module_path = os.path.abspath(os.path.join(os.pardir))\n",
    "if module_path not in sys.path:\n",
    "    sys.path.append(module_path)"
   ]
  },
  {
   "cell_type": "code",
   "execution_count": 4,
   "metadata": {
    "colab": {
     "base_uri": "https://localhost:8080/"
    },
    "id": "83bg17Lr-7XK",
    "outputId": "f6ee628a-5c5e-4845-9c65-91143e5c1a20"
   },
   "outputs": [
    {
     "name": "stdout",
     "output_type": "stream",
     "text": [
      "Archive:  rus-eng.zip\n",
      "  inflating: rus-eng/rus.txt         \n",
      "  inflating: rus-eng/_about.txt      \n"
     ]
    }
   ],
   "source": [
    "!mkdir rus-eng\n",
    "!unzip rus-eng.zip -d rus-eng/"
   ]
  },
  {
   "cell_type": "code",
   "execution_count": 5,
   "metadata": {
    "colab": {
     "base_uri": "https://localhost:8080/"
    },
    "id": "7o5L92efMMhf",
    "outputId": "a1b06a09-ecf3-458c-b68d-4bf1579c1527"
   },
   "outputs": [
    {
     "name": "stdout",
     "output_type": "stream",
     "text": [
      "total 74M\n",
      "drwxr-xr-x 2 root root 4.0K May 21 08:09 .\n",
      "drwxr-xr-x 1 root root 4.0K May 21 08:09 ..\n",
      "-rw-r--r-- 1 root root 1.5K Apr  2 03:16 _about.txt\n",
      "-rw-r--r-- 1 root root  74M Apr  2 03:16 rus.txt\n"
     ]
    }
   ],
   "source": [
    "!ls /content/rus-eng/ -lah"
   ]
  },
  {
   "cell_type": "code",
   "execution_count": 6,
   "metadata": {
    "id": "kRVATYOgJs1b"
   },
   "outputs": [],
   "source": [
    "#Download the file\n",
    "path_to_file = \"/content/rus-eng/rus.txt\"\n",
    "#path_to_file = \"../data/rus_eng/rus.txt\""
   ]
  },
  {
   "cell_type": "code",
   "execution_count": 7,
   "metadata": {
    "id": "rd0jw-eC3jEh"
   },
   "outputs": [],
   "source": [
    "def preprocess_sentence(w):\n",
    "    w = w.lower().strip()\n",
    "\n",
    "  # creating a space between a word and the punctuation following it\n",
    "  # eg: \"he is a boy.\" => \"he is a boy .\"\n",
    "  # Reference:- https://stackoverflow.com/questions/3645931/python-padding-punctuation-with-white-spaces-keeping-punctuation\n",
    "    w = re.sub(r\"([?.!,])\", r\" \\1 \", w)\n",
    "    w = re.sub(r'[\" \"]+', \" \", w)\n",
    "\n",
    "  # replacing everything with space except (a-z, A-Z, \".\", \"?\", \"!\", \",\")\n",
    "    w = re.sub(r\"[^a-zA-Zа-яА-Я?.!,']+\", \" \", w)\n",
    "\n",
    "    w = w.strip()\n",
    "\n",
    "  # adding a start and an end token to the sentence\n",
    "  # so that the model know when to start and stop predicting.\n",
    "    w = '<start> ' + w + ' <end>'\n",
    "    return w"
   ]
  },
  {
   "cell_type": "code",
   "execution_count": 8,
   "metadata": {
    "colab": {
     "base_uri": "https://localhost:8080/",
     "height": 35
    },
    "id": "yV9lZXQXNbnH",
    "outputId": "b337a4f7-ebe7-458b-d82f-03dada949b46"
   },
   "outputs": [
    {
     "data": {
      "application/vnd.google.colaboratory.intrinsic+json": {
       "type": "string"
      },
      "text/plain": [
       "\"<start> i can't go . <end>\""
      ]
     },
     "execution_count": 8,
     "metadata": {},
     "output_type": "execute_result"
    }
   ],
   "source": [
    "preprocess_sentence(\"I can't go.\")"
   ]
  },
  {
   "cell_type": "code",
   "execution_count": 9,
   "metadata": {
    "id": "OHn4Dct23jEm"
   },
   "outputs": [],
   "source": [
    "# 1. Remove the accents\n",
    "# 2. Clean the sentences\n",
    "# 3. Return word pairs in the format: [ENG, RUS]\n",
    "def create_dataset(path, num_examples):\n",
    "    lines = io.open(path, encoding='UTF-8').read().strip().split('\\n')\n",
    "\n",
    "    word_pairs = [[preprocess_sentence(w) for w in l.split('\\t')[:2]]  for l in lines[:num_examples]]\n",
    "\n",
    "    return zip(*word_pairs)"
   ]
  },
  {
   "cell_type": "code",
   "execution_count": 10,
   "metadata": {
    "colab": {
     "base_uri": "https://localhost:8080/"
    },
    "id": "cTbSbBz55QtF",
    "outputId": "0f574ae6-42eb-44ec-9125-d6c7bbb3dfd4"
   },
   "outputs": [
    {
     "name": "stdout",
     "output_type": "stream",
     "text": [
      "<start> doubtless there exists in this world precisely the right woman for any given man to marry and vice versa but when you consider that a human being has the opportunity of being acquainted with only a few hundred people , and out of the few hundred that there are but a dozen or less whom he knows intimately , and out of the dozen , one or two friends at most , it will easily be seen , when we remember the number of millions who inhabit this world , that probably , since the earth was created , the right man has never yet met the right woman . <end>\n",
      "<start> несомненно , для каждого мужчины в этом мире где то есть подходящая женщина , которая может стать ему женой , обратное верно и для женщин . но если учесть , что у человека может быть максимум несколько сотен знакомых , из которых лишь дюжина , а то и меньше , тех , кого он знает близко , а из этой дюжины у него один или от силы два друга , то можно легко увидеть , что с уч том миллионов живущих на земле людей , ни один подходящий мужчина , возможно , ещ не встретил подходящую женщину . <end>\n"
     ]
    }
   ],
   "source": [
    "en, ru = create_dataset(path_to_file, None)\n",
    "print(en[-1])\n",
    "print(ru[-1])"
   ]
  },
  {
   "cell_type": "code",
   "execution_count": 11,
   "metadata": {
    "id": "bIOn8RCNDJXG"
   },
   "outputs": [],
   "source": [
    "def tokenize(lang):\n",
    "    lang_tokenizer = tf.keras.preprocessing.text.Tokenizer(\n",
    "            filters='')\n",
    "    lang_tokenizer.fit_on_texts(lang)\n",
    "\n",
    "    tensor = lang_tokenizer.texts_to_sequences(lang)\n",
    "\n",
    "    tensor = tf.keras.preprocessing.sequence.pad_sequences(tensor,\n",
    "                                                           padding='post')\n",
    "\n",
    "    return tensor, lang_tokenizer"
   ]
  },
  {
   "cell_type": "code",
   "execution_count": 12,
   "metadata": {
    "id": "eAY9k49G3jE_"
   },
   "outputs": [],
   "source": [
    "def load_dataset(path, num_examples=None):\n",
    "  # creating cleaned input, output pairs\n",
    "    targ_lang, inp_lang = create_dataset(path, num_examples)\n",
    "\n",
    "    input_tensor, inp_lang_tokenizer = tokenize(inp_lang)\n",
    "    target_tensor, targ_lang_tokenizer = tokenize(targ_lang)\n",
    "\n",
    "    return input_tensor, target_tensor, inp_lang_tokenizer, targ_lang_tokenizer"
   ]
  },
  {
   "cell_type": "markdown",
   "metadata": {
    "id": "GOi42V79Ydlr"
   },
   "source": [
    "### Limit the size of the dataset to experiment faster (optional)\n"
   ]
  },
  {
   "cell_type": "code",
   "execution_count": 13,
   "metadata": {
    "colab": {
     "base_uri": "https://localhost:8080/"
    },
    "id": "C8j9g9AnIeZV",
    "outputId": "ee4d1db3-96f8-4e48-b956-baa2b21e1748"
   },
   "outputs": [
    {
     "data": {
      "text/plain": [
       "(467119, 467119)"
      ]
     },
     "execution_count": 13,
     "metadata": {},
     "output_type": "execute_result"
    }
   ],
   "source": [
    "len(en), len(ru)"
   ]
  },
  {
   "cell_type": "code",
   "execution_count": 14,
   "metadata": {
    "id": "cnxC7q-j3jFD"
   },
   "outputs": [],
   "source": [
    "# Try experimenting with the size of that dataset\n",
    "num_examples = 100000\n",
    "input_tensor, target_tensor, inp_lang, targ_lang = load_dataset(path_to_file, num_examples)\n",
    "\n",
    "# Calculate max_length of the target tensors\n",
    "max_length_targ, max_length_inp = target_tensor.shape[1], input_tensor.shape[1]"
   ]
  },
  {
   "cell_type": "code",
   "execution_count": 15,
   "metadata": {
    "colab": {
     "base_uri": "https://localhost:8080/"
    },
    "id": "4QILQkOs3jFG",
    "outputId": "3b91471a-58b9-420a-eb31-e87a8a307506"
   },
   "outputs": [
    {
     "name": "stdout",
     "output_type": "stream",
     "text": [
      "80000 80000 20000 20000\n"
     ]
    }
   ],
   "source": [
    "# Creating training and validation sets using an 80-20 split\n",
    "input_tensor_train, input_tensor_val, target_tensor_train, target_tensor_val = train_test_split(input_tensor, target_tensor, test_size=0.2)\n",
    "\n",
    "# Show length\n",
    "print(len(input_tensor_train), len(target_tensor_train), len(input_tensor_val), len(target_tensor_val))"
   ]
  },
  {
   "cell_type": "code",
   "execution_count": 16,
   "metadata": {
    "id": "lJPmLZGMeD5q"
   },
   "outputs": [],
   "source": [
    "def convert(lang, tensor):\n",
    "    for t in tensor:\n",
    "        if t!=0:\n",
    "            print (\"%d ----> %s\" % (t, lang.index_word[t]))"
   ]
  },
  {
   "cell_type": "code",
   "execution_count": 17,
   "metadata": {
    "colab": {
     "base_uri": "https://localhost:8080/"
    },
    "id": "VXukARTDd7MT",
    "outputId": "f8920281-5eb1-4763-dc43-b2417e63ba66"
   },
   "outputs": [
    {
     "name": "stdout",
     "output_type": "stream",
     "text": [
      "Input Language; index to word mapping\n",
      "1 ----> <start>\n",
      "8 ----> это\n",
      "44 ----> вс\n",
      "9 ----> ,\n",
      "17 ----> что\n",
      "6 ----> том\n",
      "75 ----> сделал\n",
      "3 ----> .\n",
      "2 ----> <end>\n",
      "\n",
      "Target Language; index to word mapping\n",
      "1 ----> <start>\n",
      "61 ----> that's\n",
      "64 ----> all\n",
      "5 ----> tom\n",
      "24 ----> did\n",
      "3 ----> .\n",
      "2 ----> <end>\n"
     ]
    }
   ],
   "source": [
    "print (\"Input Language; index to word mapping\")\n",
    "convert(inp_lang, input_tensor_train[0])\n",
    "print ()\n",
    "print (\"Target Language; index to word mapping\")\n",
    "convert(targ_lang, target_tensor_train[0])"
   ]
  },
  {
   "cell_type": "markdown",
   "metadata": {
    "id": "rgCLkfv5uO3d"
   },
   "source": [
    "### Create a tf.data dataset"
   ]
  },
  {
   "cell_type": "code",
   "execution_count": 18,
   "metadata": {
    "id": "TqHsArVZ3jFS"
   },
   "outputs": [],
   "source": [
    "BUFFER_SIZE = len(input_tensor_train)\n",
    "BATCH_SIZE = 64\n",
    "steps_per_epoch = len(input_tensor_train)//BATCH_SIZE\n",
    "embedding_dim = 256\n",
    "units = 1024\n",
    "vocab_inp_size = len(inp_lang.word_index)+1\n",
    "vocab_tar_size = len(targ_lang.word_index)+1\n",
    "\n",
    "dataset = tf.data.Dataset.from_tensor_slices((input_tensor_train, target_tensor_train)).shuffle(BUFFER_SIZE)\n",
    "dataset = dataset.batch(BATCH_SIZE, drop_remainder=True)"
   ]
  },
  {
   "cell_type": "code",
   "execution_count": 19,
   "metadata": {
    "colab": {
     "base_uri": "https://localhost:8080/"
    },
    "id": "qc6-NK1GtWQt",
    "outputId": "5242f3f6-edc4-4a08-d017-0c52d0798dcd"
   },
   "outputs": [
    {
     "data": {
      "text/plain": [
       "(TensorShape([64, 15]), TensorShape([64, 11]))"
      ]
     },
     "execution_count": 19,
     "metadata": {},
     "output_type": "execute_result"
    }
   ],
   "source": [
    "example_input_batch, example_target_batch = next(iter(dataset))\n",
    "example_input_batch.shape, example_target_batch.shape"
   ]
  },
  {
   "cell_type": "markdown",
   "metadata": {
    "id": "_mAxvae8XLLS"
   },
   "source": [
    "**Bidirectional encoder. Removing custom initial hidden layer, for the model generates the same zero-embedded hidden layer, that is better adjusted by its shape to the bidirectional model**"
   ]
  },
  {
   "cell_type": "code",
   "execution_count": 20,
   "metadata": {
    "id": "nZ2rI24i3jFg"
   },
   "outputs": [],
   "source": [
    "class Encoder(tf.keras.Model):\n",
    "    def __init__(self, vocab_size, embedding_dim, enc_units, batch_sz):\n",
    "        super(Encoder, self).__init__()\n",
    "        self.batch_sz = batch_sz\n",
    "        self.enc_units = enc_units\n",
    "        self.embedding = tf.keras.layers.Embedding(vocab_size, embedding_dim)\n",
    "        # self.gru = tf.keras.layers.GRU(self.enc_units,\n",
    "        #                            return_sequences=True,\n",
    "        #                            return_state=True,\n",
    "        #                            recurrent_initializer='glorot_uniform')\n",
    "        self.gru = tf.keras.layers.Bidirectional(tf.keras.layers.GRU(self.enc_units, return_sequences=True, return_state=True, go_backwards=True,\n",
    "                                                                     recurrent_initializer='glorot_uniform', input_shape=(15, embedding_dim)),\n",
    "                              merge_mode=\"sum\")\n",
    "\n",
    "\n",
    "    # def call(self, x, hidden):\n",
    "    #     x = self.embedding(x)\n",
    "    #     output, state = self.gru(x, initial_state = hidden)\n",
    "    #     return output, state\n",
    "    def call(self, x):\n",
    "        x = self.embedding(x)\n",
    "        output, state, rev = self.gru(x)\n",
    "        return output, state, rev\n",
    "\n",
    " #   def initialize_hidden_state(self):\n",
    " #       return tf.zeros((self.batch_sz, self.enc_units))\n",
    "    \n"
   ]
  },
  {
   "cell_type": "markdown",
   "metadata": {
    "id": "qqhqXVcYgFjz"
   },
   "source": [
    "'''\n",
    "tf.keras.layers.Bidirectional(GRU(10, return_sequences=True, return_state=True, recurrent_initializer='glorot_uniform'),\n",
    "                              merge_mode=\"concat\")\n",
    "    \n",
    "    \n",
    "model = Sequential()\n",
    "model.add(Bidirectional(LSTM(10, return_sequences=True),\n",
    "                             input_shape=(5, 10)))\n",
    "model.add(Bidirectional(LSTM(10)))\n",
    "model.add(Dense(5))\n",
    "model.add(Activation('softmax'))\n",
    "model.compile(loss='categorical_crossentropy', optimizer='rmsprop')\n",
    "'''"
   ]
  },
  {
   "cell_type": "code",
   "execution_count": 21,
   "metadata": {
    "id": "60gSVh05Jl6l"
   },
   "outputs": [],
   "source": [
    "encoder = Encoder(vocab_inp_size, embedding_dim, units, BATCH_SIZE)\n",
    "\n",
    "# sample input\n",
    "#sample_hidden = encoder.initialize_hidden_state()\n",
    "# sample_output, sample_hidden = encoder(example_input_batch, sample_hidden)\n",
    "sample_output, sample_hidden, sample_cell = encoder(example_input_batch)\n",
    "#print ('Encoder output shape: (batch size, sequence length, units) {}'.format(sample_output.shape))\n",
    "#print ('Encoder Hidden state shape: (batch size, units) {}'.format(sample_hidden.shape))"
   ]
  },
  {
   "cell_type": "code",
   "execution_count": 22,
   "metadata": {
    "colab": {
     "base_uri": "https://localhost:8080/"
    },
    "id": "OkYu-D72u3SP",
    "outputId": "6f9938ae-5bd5-4b78-b74e-b6c8fbaec5ea"
   },
   "outputs": [
    {
     "name": "stdout",
     "output_type": "stream",
     "text": [
      "(64, 15, 1024) (64, 1024) (64, 1024)\n"
     ]
    }
   ],
   "source": [
    "print(sample_output.shape, sample_hidden.shape, sample_cell.shape)"
   ]
  },
  {
   "cell_type": "code",
   "execution_count": 23,
   "metadata": {
    "id": "YTyhL28Niqk1"
   },
   "outputs": [],
   "source": [
    "class BahdanauAttention(tf.keras.layers.Layer):\n",
    "    def __init__(self, units):\n",
    "        super(BahdanauAttention, self).__init__()\n",
    "        self.W1 = tf.keras.layers.Dense(units)\n",
    "        self.W2 = tf.keras.layers.Dense(units)\n",
    "        self.V = tf.keras.layers.Dense(1)\n",
    "\n",
    "    def call(self, query, values):\n",
    "    # query hidden state shape == (batch_size, hidden size)\n",
    "    # query_with_time_axis shape == (batch_size, 1, hidden size)\n",
    "    # values shape == (batch_size, max_len, hidden size)\n",
    "    # we are doing this to broadcast addition along the time axis to calculate the score\n",
    "        query_with_time_axis = tf.expand_dims(query, 1)\n",
    "\n",
    "    # score shape == (batch_size, max_length, 1)\n",
    "    # we get 1 at the last axis because we are applying score to self.V\n",
    "    # the shape of the tensor before applying self.V is (batch_size, max_length, units)\n",
    "        score = self.V(tf.nn.tanh(\n",
    "                self.W1(query_with_time_axis) + self.W2(values)))\n",
    "\n",
    "    # attention_weights shape == (batch_size, max_length, 1)\n",
    "        attention_weights = tf.nn.softmax(score, axis=1)\n",
    "\n",
    "    # context_vector shape after sum == (batch_size, hidden_size)\n",
    "        context_vector = attention_weights * values\n",
    "        context_vector = tf.reduce_sum(context_vector, axis=1)\n",
    "\n",
    "        return context_vector, attention_weights"
   ]
  },
  {
   "cell_type": "code",
   "execution_count": 24,
   "metadata": {
    "colab": {
     "base_uri": "https://localhost:8080/"
    },
    "id": "XUqssWcci1XJ",
    "outputId": "40b0ba6e-9570-4dc6-907e-dc5c56e58c22"
   },
   "outputs": [
    {
     "name": "stdout",
     "output_type": "stream",
     "text": [
      "Attention result shape: (batch size, units) (64, 1024)\n",
      "Attention weights shape: (batch_size, sequence_length, 1) (64, 15, 1)\n"
     ]
    }
   ],
   "source": [
    "attention_layer = BahdanauAttention(10)\n",
    "attention_result, attention_weights = attention_layer(sample_hidden, sample_output)\n",
    "\n",
    "print(\"Attention result shape: (batch size, units) {}\".format(attention_result.shape))\n",
    "print(\"Attention weights shape: (batch_size, sequence_length, 1) {}\".format(attention_weights.shape))"
   ]
  },
  {
   "cell_type": "code",
   "execution_count": 25,
   "metadata": {
    "id": "yJ_B3mhW3jFk"
   },
   "outputs": [],
   "source": [
    "class Decoder(tf.keras.Model):\n",
    "    def __init__(self, vocab_size, embedding_dim, dec_units, batch_sz):\n",
    "        super(Decoder, self).__init__()\n",
    "        self.batch_sz = batch_sz\n",
    "        self.dec_units = dec_units\n",
    "        self.embedding = tf.keras.layers.Embedding(vocab_size, embedding_dim)\n",
    "        self.gru = tf.keras.layers.GRU(self.dec_units,\n",
    "                                   return_sequences=True,\n",
    "                                   return_state=True,\n",
    "                                   recurrent_initializer='glorot_uniform')\n",
    "        self.fc = tf.keras.layers.Dense(vocab_size)\n",
    "\n",
    "    # used for attention\n",
    "        self.attention = BahdanauAttention(self.dec_units)\n",
    "\n",
    "    def call(self, x, hidden, enc_output):\n",
    "    # enc_output shape == (batch_size, max_length, hidden_size)\n",
    "        context_vector, attention_weights = self.attention(hidden, enc_output)\n",
    "\n",
    "    # x shape after passing through embedding == (batch_size, 1, embedding_dim)\n",
    "        x = self.embedding(x)\n",
    "\n",
    "    # x shape after concatenation == (batch_size, 1, embedding_dim + hidden_size)\n",
    "        x = tf.concat([tf.expand_dims(context_vector, 1), x], axis=-1)\n",
    "\n",
    "    # passing the concatenated vector to the GRU\n",
    "        output, state = self.gru(x)\n",
    "\n",
    "    # output shape == (batch_size * 1, hidden_size)\n",
    "        output = tf.reshape(output, (-1, output.shape[2]))\n",
    "\n",
    "    # output shape == (batch_size, vocab)\n",
    "        x = self.fc(output)\n",
    "\n",
    "        return x, state, attention_weights"
   ]
  },
  {
   "cell_type": "code",
   "execution_count": 26,
   "metadata": {
    "colab": {
     "base_uri": "https://localhost:8080/"
    },
    "id": "P5UY8wko3jFp",
    "outputId": "ec35b8f5-5605-47d7-b5d3-f34936afeaa6"
   },
   "outputs": [
    {
     "name": "stdout",
     "output_type": "stream",
     "text": [
      "Decoder output shape: (batch_size, vocab size) (64, 7362)\n"
     ]
    }
   ],
   "source": [
    "decoder = Decoder(vocab_tar_size, embedding_dim, units, BATCH_SIZE)\n",
    "\n",
    "sample_decoder_output, _, _ = decoder(tf.random.uniform((BATCH_SIZE, 1)),\n",
    "                                      sample_hidden, sample_output)\n",
    "\n",
    "print('Decoder output shape: (batch_size, vocab size) {}'.format(sample_decoder_output.shape))"
   ]
  },
  {
   "cell_type": "markdown",
   "metadata": {
    "id": "_ch_71VbIRfK"
   },
   "source": [
    "## Define the optimizer and the loss function"
   ]
  },
  {
   "cell_type": "code",
   "execution_count": 27,
   "metadata": {
    "id": "WmTHr5iV3jFr"
   },
   "outputs": [],
   "source": [
    "optimizer = tf.keras.optimizers.Adam()\n",
    "loss_object = tf.keras.losses.SparseCategoricalCrossentropy(\n",
    "    from_logits=True, reduction='none')\n",
    "\n",
    "def loss_function(real, pred):\n",
    "    mask = tf.math.logical_not(tf.math.equal(real, 0))\n",
    "    loss_ = loss_object(real, pred)\n",
    "\n",
    "    mask = tf.cast(mask, dtype=loss_.dtype)\n",
    "    loss_ *= mask\n",
    "\n",
    "    return tf.reduce_mean(loss_)"
   ]
  },
  {
   "cell_type": "markdown",
   "metadata": {
    "id": "DMVWzzsfNl4e"
   },
   "source": [
    "## Checkpoints (Object-based saving)"
   ]
  },
  {
   "cell_type": "code",
   "execution_count": 28,
   "metadata": {
    "id": "Zj8bXQTgNwrF"
   },
   "outputs": [],
   "source": [
    "checkpoint_dir = './training_attention_checkpoints'\n",
    "checkpoint_prefix = os.path.join(checkpoint_dir, \"ckpt\")\n",
    "checkpoint = tf.train.Checkpoint(optimizer=optimizer,\n",
    "                                 encoder=encoder,\n",
    "                                 decoder=decoder)"
   ]
  },
  {
   "cell_type": "code",
   "execution_count": 29,
   "metadata": {
    "id": "sC9ArXSsVfqn"
   },
   "outputs": [],
   "source": [
    "@tf.function\n",
    "#def train_step(inp, targ, enc_hidden):\n",
    "def train_step(inp, targ):\n",
    "    loss = 0\n",
    "\n",
    "    with tf.GradientTape() as tape:\n",
    "        enc_output, enc_hidden, enc_cell = encoder(inp)\n",
    "\n",
    "        dec_hidden = enc_hidden\n",
    "\n",
    "        dec_input = tf.expand_dims([targ_lang.word_index['<start>']] * BATCH_SIZE, 1)\n",
    "\n",
    "    # Teacher forcing - feeding the target as the next input\n",
    "        for t in range(1, targ.shape[1]):\n",
    "      # passing enc_output to the decoder\n",
    "            predictions, dec_hidden, _ = decoder(dec_input, dec_hidden, enc_output)\n",
    "\n",
    "            loss += loss_function(targ[:, t], predictions)\n",
    "\n",
    "      # using teacher forcing\n",
    "            dec_input = tf.expand_dims(targ[:, t], 1)\n",
    "\n",
    "    batch_loss = (loss / int(targ.shape[1]))\n",
    "\n",
    "    variables = encoder.trainable_variables + decoder.trainable_variables\n",
    "\n",
    "    gradients = tape.gradient(loss, variables)\n",
    "\n",
    "    optimizer.apply_gradients(zip(gradients, variables))\n",
    "\n",
    "    return batch_loss"
   ]
  },
  {
   "cell_type": "code",
   "execution_count": 30,
   "metadata": {
    "colab": {
     "base_uri": "https://localhost:8080/"
    },
    "id": "ddefjBMa3jF0",
    "outputId": "a3277caf-013b-4e15-9480-ea1f10ea91ba"
   },
   "outputs": [
    {
     "name": "stdout",
     "output_type": "stream",
     "text": [
      "Epoch 1 Batch 0 Loss 4.7685\n",
      "Epoch 1 Batch 100 Loss 2.0711\n",
      "Epoch 1 Batch 200 Loss 1.9328\n",
      "Epoch 1 Batch 300 Loss 1.8576\n",
      "Epoch 1 Batch 400 Loss 1.7596\n",
      "Epoch 1 Batch 500 Loss 1.6516\n",
      "Epoch 1 Batch 600 Loss 1.6103\n",
      "Epoch 1 Batch 700 Loss 1.4769\n",
      "Epoch 1 Batch 800 Loss 1.4448\n",
      "Epoch 1 Batch 900 Loss 1.3301\n",
      "Epoch 1 Batch 1000 Loss 1.3592\n",
      "Epoch 1 Batch 1100 Loss 1.1861\n",
      "Epoch 1 Batch 1200 Loss 1.1116\n",
      "Epoch 1 Loss 1.5992\n",
      "Time taken for 1 epoch 136.20528507232666 sec\n",
      "\n",
      "Epoch 2 Batch 0 Loss 1.1400\n",
      "Epoch 2 Batch 100 Loss 1.1061\n",
      "Epoch 2 Batch 200 Loss 1.0219\n",
      "Epoch 2 Batch 300 Loss 1.1097\n",
      "Epoch 2 Batch 400 Loss 0.9793\n",
      "Epoch 2 Batch 500 Loss 0.9139\n",
      "Epoch 2 Batch 600 Loss 0.9634\n",
      "Epoch 2 Batch 700 Loss 0.7903\n",
      "Epoch 2 Batch 800 Loss 0.9152\n",
      "Epoch 2 Batch 900 Loss 0.8505\n",
      "Epoch 2 Batch 1000 Loss 0.7721\n",
      "Epoch 2 Batch 1100 Loss 0.6952\n",
      "Epoch 2 Batch 1200 Loss 0.6643\n",
      "Epoch 2 Loss 0.9030\n",
      "Time taken for 1 epoch 108.61731624603271 sec\n",
      "\n",
      "Epoch 3 Batch 0 Loss 0.6918\n",
      "Epoch 3 Batch 100 Loss 0.6218\n",
      "Epoch 3 Batch 200 Loss 0.5535\n",
      "Epoch 3 Batch 300 Loss 0.5573\n",
      "Epoch 3 Batch 400 Loss 0.6587\n",
      "Epoch 3 Batch 500 Loss 0.5462\n",
      "Epoch 3 Batch 600 Loss 0.5315\n",
      "Epoch 3 Batch 700 Loss 0.5569\n",
      "Epoch 3 Batch 800 Loss 0.5431\n",
      "Epoch 3 Batch 900 Loss 0.5298\n",
      "Epoch 3 Batch 1000 Loss 0.4186\n",
      "Epoch 3 Batch 1100 Loss 0.5792\n",
      "Epoch 3 Batch 1200 Loss 0.4611\n",
      "Epoch 3 Loss 0.5494\n",
      "Time taken for 1 epoch 106.77173781394958 sec\n",
      "\n",
      "Epoch 4 Batch 0 Loss 0.4129\n",
      "Epoch 4 Batch 100 Loss 0.3781\n",
      "Epoch 4 Batch 200 Loss 0.3048\n",
      "Epoch 4 Batch 300 Loss 0.3877\n",
      "Epoch 4 Batch 400 Loss 0.4026\n",
      "Epoch 4 Batch 500 Loss 0.3715\n",
      "Epoch 4 Batch 600 Loss 0.3622\n",
      "Epoch 4 Batch 700 Loss 0.3561\n",
      "Epoch 4 Batch 800 Loss 0.3956\n",
      "Epoch 4 Batch 900 Loss 0.3385\n",
      "Epoch 4 Batch 1000 Loss 0.3800\n",
      "Epoch 4 Batch 1100 Loss 0.3576\n",
      "Epoch 4 Batch 1200 Loss 0.3414\n",
      "Epoch 4 Loss 0.3441\n",
      "Time taken for 1 epoch 111.6017918586731 sec\n",
      "\n",
      "Epoch 5 Batch 0 Loss 0.1938\n",
      "Epoch 5 Batch 100 Loss 0.2540\n",
      "Epoch 5 Batch 200 Loss 0.1729\n",
      "Epoch 5 Batch 300 Loss 0.2331\n",
      "Epoch 5 Batch 400 Loss 0.2722\n",
      "Epoch 5 Batch 500 Loss 0.2185\n",
      "Epoch 5 Batch 600 Loss 0.2033\n",
      "Epoch 5 Batch 700 Loss 0.2273\n",
      "Epoch 5 Batch 800 Loss 0.2384\n",
      "Epoch 5 Batch 900 Loss 0.2239\n",
      "Epoch 5 Batch 1000 Loss 0.2070\n",
      "Epoch 5 Batch 1100 Loss 0.2731\n",
      "Epoch 5 Batch 1200 Loss 0.1943\n",
      "Epoch 5 Loss 0.2273\n",
      "Time taken for 1 epoch 106.38079166412354 sec\n",
      "\n",
      "Epoch 6 Batch 0 Loss 0.1567\n",
      "Epoch 6 Batch 100 Loss 0.1263\n",
      "Epoch 6 Batch 200 Loss 0.1400\n",
      "Epoch 6 Batch 300 Loss 0.1759\n",
      "Epoch 6 Batch 400 Loss 0.1518\n",
      "Epoch 6 Batch 500 Loss 0.1911\n",
      "Epoch 6 Batch 600 Loss 0.1644\n",
      "Epoch 6 Batch 700 Loss 0.2269\n",
      "Epoch 6 Batch 800 Loss 0.1320\n",
      "Epoch 6 Batch 900 Loss 0.1713\n",
      "Epoch 6 Batch 1000 Loss 0.1726\n",
      "Epoch 6 Batch 1100 Loss 0.2208\n",
      "Epoch 6 Batch 1200 Loss 0.1748\n",
      "Epoch 6 Loss 0.1625\n",
      "Time taken for 1 epoch 107.13098573684692 sec\n",
      "\n",
      "Epoch 7 Batch 0 Loss 0.1148\n",
      "Epoch 7 Batch 100 Loss 0.0724\n",
      "Epoch 7 Batch 200 Loss 0.0973\n",
      "Epoch 7 Batch 300 Loss 0.1158\n",
      "Epoch 7 Batch 400 Loss 0.1592\n",
      "Epoch 7 Batch 500 Loss 0.1485\n",
      "Epoch 7 Batch 600 Loss 0.1131\n",
      "Epoch 7 Batch 700 Loss 0.1680\n",
      "Epoch 7 Batch 800 Loss 0.1245\n",
      "Epoch 7 Batch 900 Loss 0.1279\n",
      "Epoch 7 Batch 1000 Loss 0.1114\n",
      "Epoch 7 Batch 1100 Loss 0.1479\n",
      "Epoch 7 Batch 1200 Loss 0.1190\n",
      "Epoch 7 Loss 0.1261\n",
      "Time taken for 1 epoch 105.96027135848999 sec\n",
      "\n",
      "Epoch 8 Batch 0 Loss 0.0924\n",
      "Epoch 8 Batch 100 Loss 0.0866\n",
      "Epoch 8 Batch 200 Loss 0.1276\n",
      "Epoch 8 Batch 300 Loss 0.0982\n",
      "Epoch 8 Batch 400 Loss 0.0892\n",
      "Epoch 8 Batch 500 Loss 0.0724\n",
      "Epoch 8 Batch 600 Loss 0.1167\n",
      "Epoch 8 Batch 700 Loss 0.0973\n",
      "Epoch 8 Batch 800 Loss 0.1300\n",
      "Epoch 8 Batch 900 Loss 0.1199\n",
      "Epoch 8 Batch 1000 Loss 0.0967\n",
      "Epoch 8 Batch 1100 Loss 0.0826\n",
      "Epoch 8 Batch 1200 Loss 0.0999\n",
      "Epoch 8 Loss 0.1055\n",
      "Time taken for 1 epoch 111.71885061264038 sec\n",
      "\n",
      "Epoch 9 Batch 0 Loss 0.0631\n",
      "Epoch 9 Batch 100 Loss 0.0561\n",
      "Epoch 9 Batch 200 Loss 0.0577\n",
      "Epoch 9 Batch 300 Loss 0.0743\n",
      "Epoch 9 Batch 400 Loss 0.1162\n",
      "Epoch 9 Batch 500 Loss 0.0710\n",
      "Epoch 9 Batch 600 Loss 0.0869\n",
      "Epoch 9 Batch 700 Loss 0.0975\n",
      "Epoch 9 Batch 800 Loss 0.1389\n",
      "Epoch 9 Batch 900 Loss 0.0963\n",
      "Epoch 9 Batch 1000 Loss 0.0855\n",
      "Epoch 9 Batch 1100 Loss 0.1211\n",
      "Epoch 9 Batch 1200 Loss 0.1229\n",
      "Epoch 9 Loss 0.0932\n",
      "Time taken for 1 epoch 105.89461970329285 sec\n",
      "\n",
      "Epoch 10 Batch 0 Loss 0.0899\n",
      "Epoch 10 Batch 100 Loss 0.0745\n",
      "Epoch 10 Batch 200 Loss 0.0561\n",
      "Epoch 10 Batch 300 Loss 0.0741\n",
      "Epoch 10 Batch 400 Loss 0.1114\n",
      "Epoch 10 Batch 500 Loss 0.0801\n",
      "Epoch 10 Batch 600 Loss 0.1223\n",
      "Epoch 10 Batch 700 Loss 0.0707\n",
      "Epoch 10 Batch 800 Loss 0.1198\n",
      "Epoch 10 Batch 900 Loss 0.0834\n",
      "Epoch 10 Batch 1000 Loss 0.0868\n",
      "Epoch 10 Batch 1100 Loss 0.1318\n",
      "Epoch 10 Batch 1200 Loss 0.0714\n",
      "Epoch 10 Loss 0.0863\n",
      "Time taken for 1 epoch 107.20634913444519 sec\n",
      "\n",
      "Epoch 11 Batch 0 Loss 0.0688\n",
      "Epoch 11 Batch 100 Loss 0.0684\n",
      "Epoch 11 Batch 200 Loss 0.0612\n",
      "Epoch 11 Batch 300 Loss 0.0706\n",
      "Epoch 11 Batch 400 Loss 0.0509\n",
      "Epoch 11 Batch 500 Loss 0.0828\n",
      "Epoch 11 Batch 600 Loss 0.0904\n",
      "Epoch 11 Batch 700 Loss 0.1176\n",
      "Epoch 11 Batch 800 Loss 0.0940\n",
      "Epoch 11 Batch 900 Loss 0.0983\n",
      "Epoch 11 Batch 1000 Loss 0.1046\n",
      "Epoch 11 Batch 1100 Loss 0.1387\n",
      "Epoch 11 Batch 1200 Loss 0.0997\n",
      "Epoch 11 Loss 0.0808\n",
      "Time taken for 1 epoch 105.97778582572937 sec\n",
      "\n",
      "Epoch 12 Batch 0 Loss 0.0620\n",
      "Epoch 12 Batch 100 Loss 0.0554\n",
      "Epoch 12 Batch 200 Loss 0.0795\n",
      "Epoch 12 Batch 300 Loss 0.0886\n",
      "Epoch 12 Batch 400 Loss 0.0612\n",
      "Epoch 12 Batch 500 Loss 0.0525\n",
      "Epoch 12 Batch 600 Loss 0.0956\n",
      "Epoch 12 Batch 700 Loss 0.0781\n",
      "Epoch 12 Batch 800 Loss 0.1186\n",
      "Epoch 12 Batch 900 Loss 0.0920\n",
      "Epoch 12 Batch 1000 Loss 0.0917\n",
      "Epoch 12 Batch 1100 Loss 0.1095\n",
      "Epoch 12 Batch 1200 Loss 0.0762\n",
      "Epoch 12 Loss 0.0765\n",
      "Time taken for 1 epoch 116.24838924407959 sec\n",
      "\n",
      "Epoch 13 Batch 0 Loss 0.0367\n",
      "Epoch 13 Batch 100 Loss 0.0539\n",
      "Epoch 13 Batch 200 Loss 0.0731\n",
      "Epoch 13 Batch 300 Loss 0.0796\n",
      "Epoch 13 Batch 400 Loss 0.0743\n",
      "Epoch 13 Batch 500 Loss 0.0618\n",
      "Epoch 13 Batch 600 Loss 0.0690\n",
      "Epoch 13 Batch 700 Loss 0.0907\n",
      "Epoch 13 Batch 800 Loss 0.0881\n",
      "Epoch 13 Batch 900 Loss 0.1155\n",
      "Epoch 13 Batch 1000 Loss 0.1067\n",
      "Epoch 13 Batch 1100 Loss 0.0532\n",
      "Epoch 13 Batch 1200 Loss 0.0904\n",
      "Epoch 13 Loss 0.0739\n",
      "Time taken for 1 epoch 106.13730573654175 sec\n",
      "\n",
      "Epoch 14 Batch 0 Loss 0.0651\n",
      "Epoch 14 Batch 100 Loss 0.0507\n",
      "Epoch 14 Batch 200 Loss 0.0649\n",
      "Epoch 14 Batch 300 Loss 0.0729\n",
      "Epoch 14 Batch 400 Loss 0.0985\n",
      "Epoch 14 Batch 500 Loss 0.0406\n",
      "Epoch 14 Batch 600 Loss 0.0937\n",
      "Epoch 14 Batch 700 Loss 0.0874\n",
      "Epoch 14 Batch 800 Loss 0.0883\n",
      "Epoch 14 Batch 900 Loss 0.0785\n",
      "Epoch 14 Batch 1000 Loss 0.0796\n",
      "Epoch 14 Batch 1100 Loss 0.0560\n",
      "Epoch 14 Batch 1200 Loss 0.0624\n",
      "Epoch 14 Loss 0.0718\n",
      "Time taken for 1 epoch 112.01819586753845 sec\n",
      "\n",
      "Epoch 15 Batch 0 Loss 0.0601\n",
      "Epoch 15 Batch 100 Loss 0.0409\n",
      "Epoch 15 Batch 200 Loss 0.0529\n",
      "Epoch 15 Batch 300 Loss 0.0897\n",
      "Epoch 15 Batch 400 Loss 0.0593\n",
      "Epoch 15 Batch 500 Loss 0.0557\n",
      "Epoch 15 Batch 600 Loss 0.0358\n",
      "Epoch 15 Batch 700 Loss 0.0720\n",
      "Epoch 15 Batch 800 Loss 0.0667\n",
      "Epoch 15 Batch 900 Loss 0.1107\n",
      "Epoch 15 Batch 1000 Loss 0.0840\n",
      "Epoch 15 Batch 1100 Loss 0.0541\n",
      "Epoch 15 Batch 1200 Loss 0.0849\n",
      "Epoch 15 Loss 0.0697\n",
      "Time taken for 1 epoch 106.0553412437439 sec\n",
      "\n",
      "Epoch 16 Batch 0 Loss 0.0403\n",
      "Epoch 16 Batch 100 Loss 0.0280\n",
      "Epoch 16 Batch 200 Loss 0.0697\n",
      "Epoch 16 Batch 300 Loss 0.0576\n",
      "Epoch 16 Batch 400 Loss 0.0592\n",
      "Epoch 16 Batch 500 Loss 0.0468\n",
      "Epoch 16 Batch 600 Loss 0.0566\n",
      "Epoch 16 Batch 700 Loss 0.1039\n",
      "Epoch 16 Batch 800 Loss 0.0951\n",
      "Epoch 16 Batch 900 Loss 0.0624\n",
      "Epoch 16 Batch 1000 Loss 0.0658\n",
      "Epoch 16 Batch 1100 Loss 0.0850\n",
      "Epoch 16 Batch 1200 Loss 0.1083\n",
      "Epoch 16 Loss 0.0689\n",
      "Time taken for 1 epoch 116.62547159194946 sec\n",
      "\n",
      "Epoch 17 Batch 0 Loss 0.0582\n",
      "Epoch 17 Batch 100 Loss 0.0562\n",
      "Epoch 17 Batch 200 Loss 0.0551\n",
      "Epoch 17 Batch 300 Loss 0.0656\n",
      "Epoch 17 Batch 400 Loss 0.0783\n",
      "Epoch 17 Batch 500 Loss 0.0658\n",
      "Epoch 17 Batch 600 Loss 0.0655\n",
      "Epoch 17 Batch 700 Loss 0.0640\n",
      "Epoch 17 Batch 800 Loss 0.0817\n",
      "Epoch 17 Batch 900 Loss 0.0776\n",
      "Epoch 17 Batch 1000 Loss 0.0622\n",
      "Epoch 17 Batch 1100 Loss 0.0848\n",
      "Epoch 17 Batch 1200 Loss 0.0688\n",
      "Epoch 17 Loss 0.0678\n",
      "Time taken for 1 epoch 106.12237477302551 sec\n",
      "\n",
      "Epoch 18 Batch 0 Loss 0.0413\n",
      "Epoch 18 Batch 100 Loss 0.0406\n",
      "Epoch 18 Batch 200 Loss 0.0359\n",
      "Epoch 18 Batch 300 Loss 0.0625\n",
      "Epoch 18 Batch 400 Loss 0.0493\n",
      "Epoch 18 Batch 500 Loss 0.0537\n",
      "Epoch 18 Batch 600 Loss 0.0552\n",
      "Epoch 18 Batch 700 Loss 0.0712\n",
      "Epoch 18 Batch 800 Loss 0.0634\n",
      "Epoch 18 Batch 900 Loss 0.0753\n",
      "Epoch 18 Batch 1000 Loss 0.0647\n",
      "Epoch 18 Batch 1100 Loss 0.0737\n",
      "Epoch 18 Batch 1200 Loss 0.0959\n",
      "Epoch 18 Loss 0.0646\n",
      "Time taken for 1 epoch 112.02207493782043 sec\n",
      "\n",
      "Epoch 19 Batch 0 Loss 0.0583\n",
      "Epoch 19 Batch 100 Loss 0.0689\n",
      "Epoch 19 Batch 200 Loss 0.0555\n",
      "Epoch 19 Batch 300 Loss 0.0737\n",
      "Epoch 19 Batch 400 Loss 0.0639\n",
      "Epoch 19 Batch 500 Loss 0.0818\n",
      "Epoch 19 Batch 600 Loss 0.0492\n",
      "Epoch 19 Batch 700 Loss 0.1271\n",
      "Epoch 19 Batch 800 Loss 0.0647\n",
      "Epoch 19 Batch 900 Loss 0.0817\n",
      "Epoch 19 Batch 1000 Loss 0.0934\n",
      "Epoch 19 Batch 1100 Loss 0.0393\n",
      "Epoch 19 Batch 1200 Loss 0.1031\n",
      "Epoch 19 Loss 0.0646\n",
      "Time taken for 1 epoch 106.05160737037659 sec\n",
      "\n",
      "Epoch 20 Batch 0 Loss 0.0533\n",
      "Epoch 20 Batch 100 Loss 0.0544\n",
      "Epoch 20 Batch 200 Loss 0.0453\n",
      "Epoch 20 Batch 300 Loss 0.0551\n",
      "Epoch 20 Batch 400 Loss 0.0491\n",
      "Epoch 20 Batch 500 Loss 0.0443\n",
      "Epoch 20 Batch 600 Loss 0.0537\n",
      "Epoch 20 Batch 700 Loss 0.1005\n",
      "Epoch 20 Batch 800 Loss 0.0775\n",
      "Epoch 20 Batch 900 Loss 0.0681\n",
      "Epoch 20 Batch 1000 Loss 0.0857\n",
      "Epoch 20 Batch 1100 Loss 0.0773\n",
      "Epoch 20 Batch 1200 Loss 0.0634\n",
      "Epoch 20 Loss 0.0635\n",
      "Time taken for 1 epoch 107.80527329444885 sec\n",
      "\n",
      "Epoch 21 Batch 0 Loss 0.0480\n",
      "Epoch 21 Batch 100 Loss 0.0571\n",
      "Epoch 21 Batch 200 Loss 0.0565\n",
      "Epoch 21 Batch 300 Loss 0.0383\n",
      "Epoch 21 Batch 400 Loss 0.0733\n",
      "Epoch 21 Batch 500 Loss 0.0427\n",
      "Epoch 21 Batch 600 Loss 0.0691\n",
      "Epoch 21 Batch 700 Loss 0.0577\n",
      "Epoch 21 Batch 800 Loss 0.0535\n",
      "Epoch 21 Batch 900 Loss 0.0824\n",
      "Epoch 21 Batch 1000 Loss 0.0902\n",
      "Epoch 21 Batch 1100 Loss 0.0812\n",
      "Epoch 21 Batch 1200 Loss 0.0653\n",
      "Epoch 21 Loss 0.0626\n",
      "Time taken for 1 epoch 106.0387556552887 sec\n",
      "\n",
      "Epoch 22 Batch 0 Loss 0.0642\n",
      "Epoch 22 Batch 100 Loss 0.0448\n",
      "Epoch 22 Batch 200 Loss 0.0579\n",
      "Epoch 22 Batch 300 Loss 0.0616\n",
      "Epoch 22 Batch 400 Loss 0.0672\n",
      "Epoch 22 Batch 500 Loss 0.0627\n",
      "Epoch 22 Batch 600 Loss 0.0910\n",
      "Epoch 22 Batch 700 Loss 0.0580\n",
      "Epoch 22 Batch 800 Loss 0.0353\n",
      "Epoch 22 Batch 900 Loss 0.0792\n",
      "Epoch 22 Batch 1000 Loss 0.0660\n",
      "Epoch 22 Batch 1100 Loss 0.0667\n",
      "Epoch 22 Batch 1200 Loss 0.0632\n",
      "Epoch 22 Loss 0.0625\n",
      "Time taken for 1 epoch 107.11472153663635 sec\n",
      "\n",
      "Epoch 23 Batch 0 Loss 0.0316\n",
      "Epoch 23 Batch 100 Loss 0.0417\n",
      "Epoch 23 Batch 200 Loss 0.0336\n",
      "Epoch 23 Batch 300 Loss 0.0631\n",
      "Epoch 23 Batch 400 Loss 0.0485\n",
      "Epoch 23 Batch 500 Loss 0.0406\n",
      "Epoch 23 Batch 600 Loss 0.0547\n",
      "Epoch 23 Batch 700 Loss 0.0544\n",
      "Epoch 23 Batch 800 Loss 0.0601\n",
      "Epoch 23 Batch 900 Loss 0.0544\n",
      "Epoch 23 Batch 1000 Loss 0.0710\n",
      "Epoch 23 Batch 1100 Loss 0.0550\n",
      "Epoch 23 Batch 1200 Loss 0.0688\n",
      "Epoch 23 Loss 0.0609\n",
      "Time taken for 1 epoch 105.7886483669281 sec\n",
      "\n",
      "Epoch 24 Batch 0 Loss 0.0581\n",
      "Epoch 24 Batch 100 Loss 0.0756\n",
      "Epoch 24 Batch 200 Loss 0.0379\n",
      "Epoch 24 Batch 300 Loss 0.0333\n",
      "Epoch 24 Batch 400 Loss 0.0538\n",
      "Epoch 24 Batch 500 Loss 0.0754\n",
      "Epoch 24 Batch 600 Loss 0.0736\n",
      "Epoch 24 Batch 700 Loss 0.0782\n",
      "Epoch 24 Batch 800 Loss 0.0754\n",
      "Epoch 24 Batch 900 Loss 0.0781\n",
      "Epoch 24 Batch 1000 Loss 0.0761\n",
      "Epoch 24 Batch 1100 Loss 0.0726\n",
      "Epoch 24 Batch 1200 Loss 0.1247\n",
      "Epoch 24 Loss 0.0605\n",
      "Time taken for 1 epoch 107.50825881958008 sec\n",
      "\n",
      "Epoch 25 Batch 0 Loss 0.0403\n",
      "Epoch 25 Batch 100 Loss 0.0400\n",
      "Epoch 25 Batch 200 Loss 0.0451\n",
      "Epoch 25 Batch 300 Loss 0.0428\n",
      "Epoch 25 Batch 400 Loss 0.0750\n",
      "Epoch 25 Batch 500 Loss 0.0448\n",
      "Epoch 25 Batch 600 Loss 0.0574\n",
      "Epoch 25 Batch 700 Loss 0.0611\n",
      "Epoch 25 Batch 800 Loss 0.0512\n",
      "Epoch 25 Batch 900 Loss 0.0758\n",
      "Epoch 25 Batch 1000 Loss 0.0680\n",
      "Epoch 25 Batch 1100 Loss 0.0447\n",
      "Epoch 25 Batch 1200 Loss 0.0515\n",
      "Epoch 25 Loss 0.0591\n",
      "Time taken for 1 epoch 105.76234102249146 sec\n",
      "\n",
      "Epoch 26 Batch 0 Loss 0.0453\n",
      "Epoch 26 Batch 100 Loss 0.0609\n",
      "Epoch 26 Batch 200 Loss 0.0623\n",
      "Epoch 26 Batch 300 Loss 0.0652\n",
      "Epoch 26 Batch 400 Loss 0.0620\n",
      "Epoch 26 Batch 500 Loss 0.0414\n",
      "Epoch 26 Batch 600 Loss 0.0891\n",
      "Epoch 26 Batch 700 Loss 0.0676\n",
      "Epoch 26 Batch 800 Loss 0.0584\n",
      "Epoch 26 Batch 900 Loss 0.1041\n",
      "Epoch 26 Batch 1000 Loss 0.0681\n",
      "Epoch 26 Batch 1100 Loss 0.0466\n",
      "Epoch 26 Batch 1200 Loss 0.0556\n",
      "Epoch 26 Loss 0.0594\n",
      "Time taken for 1 epoch 111.78696513175964 sec\n",
      "\n",
      "Epoch 27 Batch 0 Loss 0.0424\n",
      "Epoch 27 Batch 100 Loss 0.0526\n",
      "Epoch 27 Batch 200 Loss 0.0673\n",
      "Epoch 27 Batch 300 Loss 0.0633\n",
      "Epoch 27 Batch 400 Loss 0.0361\n",
      "Epoch 27 Batch 500 Loss 0.0554\n",
      "Epoch 27 Batch 600 Loss 0.0652\n",
      "Epoch 27 Batch 700 Loss 0.0747\n",
      "Epoch 27 Batch 800 Loss 0.0590\n",
      "Epoch 27 Batch 900 Loss 0.0585\n",
      "Epoch 27 Batch 1000 Loss 0.0578\n",
      "Epoch 27 Batch 1100 Loss 0.0888\n",
      "Epoch 27 Batch 1200 Loss 0.0797\n",
      "Epoch 27 Loss 0.0587\n",
      "Time taken for 1 epoch 105.35506868362427 sec\n",
      "\n",
      "Epoch 28 Batch 0 Loss 0.0418\n",
      "Epoch 28 Batch 100 Loss 0.0485\n",
      "Epoch 28 Batch 200 Loss 0.0473\n",
      "Epoch 28 Batch 300 Loss 0.0508\n",
      "Epoch 28 Batch 400 Loss 0.0315\n",
      "Epoch 28 Batch 500 Loss 0.0588\n",
      "Epoch 28 Batch 600 Loss 0.0697\n",
      "Epoch 28 Batch 700 Loss 0.0602\n",
      "Epoch 28 Batch 800 Loss 0.0641\n",
      "Epoch 28 Batch 900 Loss 0.0777\n",
      "Epoch 28 Batch 1000 Loss 0.0892\n",
      "Epoch 28 Batch 1100 Loss 0.0736\n",
      "Epoch 28 Batch 1200 Loss 0.0519\n",
      "Epoch 28 Loss 0.0576\n",
      "Time taken for 1 epoch 111.83420777320862 sec\n",
      "\n",
      "Epoch 29 Batch 0 Loss 0.0929\n",
      "Epoch 29 Batch 100 Loss 0.0343\n",
      "Epoch 29 Batch 200 Loss 0.0978\n",
      "Epoch 29 Batch 300 Loss 0.0770\n",
      "Epoch 29 Batch 400 Loss 0.0589\n",
      "Epoch 29 Batch 500 Loss 0.0621\n",
      "Epoch 29 Batch 600 Loss 0.0637\n",
      "Epoch 29 Batch 700 Loss 0.0531\n",
      "Epoch 29 Batch 800 Loss 0.0712\n",
      "Epoch 29 Batch 900 Loss 0.0477\n",
      "Epoch 29 Batch 1000 Loss 0.0878\n",
      "Epoch 29 Batch 1100 Loss 0.0673\n",
      "Epoch 29 Batch 1200 Loss 0.0716\n",
      "Epoch 29 Loss 0.0575\n",
      "Time taken for 1 epoch 105.3525459766388 sec\n",
      "\n",
      "Epoch 30 Batch 0 Loss 0.0279\n",
      "Epoch 30 Batch 100 Loss 0.0382\n",
      "Epoch 30 Batch 200 Loss 0.0245\n",
      "Epoch 30 Batch 300 Loss 0.0512\n",
      "Epoch 30 Batch 400 Loss 0.0371\n",
      "Epoch 30 Batch 500 Loss 0.0524\n",
      "Epoch 30 Batch 600 Loss 0.0449\n",
      "Epoch 30 Batch 700 Loss 0.0850\n",
      "Epoch 30 Batch 800 Loss 0.0478\n",
      "Epoch 30 Batch 900 Loss 0.0552\n",
      "Epoch 30 Batch 1000 Loss 0.0550\n",
      "Epoch 30 Batch 1100 Loss 0.0605\n",
      "Epoch 30 Batch 1200 Loss 0.0682\n",
      "Epoch 30 Loss 0.0570\n",
      "Time taken for 1 epoch 111.76025199890137 sec\n",
      "\n",
      "Epoch 31 Batch 0 Loss 0.0263\n",
      "Epoch 31 Batch 100 Loss 0.0599\n",
      "Epoch 31 Batch 200 Loss 0.0555\n",
      "Epoch 31 Batch 300 Loss 0.0429\n",
      "Epoch 31 Batch 400 Loss 0.0501\n",
      "Epoch 31 Batch 500 Loss 0.0705\n",
      "Epoch 31 Batch 600 Loss 0.0899\n",
      "Epoch 31 Batch 700 Loss 0.0752\n",
      "Epoch 31 Batch 800 Loss 0.0556\n",
      "Epoch 31 Batch 900 Loss 0.0546\n",
      "Epoch 31 Batch 1000 Loss 0.0681\n",
      "Epoch 31 Batch 1100 Loss 0.0576\n",
      "Epoch 31 Batch 1200 Loss 0.0896\n",
      "Epoch 31 Loss 0.0568\n",
      "Time taken for 1 epoch 105.16021728515625 sec\n",
      "\n",
      "Epoch 32 Batch 0 Loss 0.0316\n",
      "Epoch 32 Batch 100 Loss 0.0672\n",
      "Epoch 32 Batch 200 Loss 0.0551\n",
      "Epoch 32 Batch 300 Loss 0.0533\n",
      "Epoch 32 Batch 400 Loss 0.0380\n",
      "Epoch 32 Batch 500 Loss 0.0642\n",
      "Epoch 32 Batch 600 Loss 0.0797\n",
      "Epoch 32 Batch 700 Loss 0.0536\n",
      "Epoch 32 Batch 800 Loss 0.0737\n",
      "Epoch 32 Batch 900 Loss 0.0522\n",
      "Epoch 32 Batch 1000 Loss 0.0564\n",
      "Epoch 32 Batch 1100 Loss 0.0444\n",
      "Epoch 32 Batch 1200 Loss 0.0563\n",
      "Epoch 32 Loss 0.0568\n",
      "Time taken for 1 epoch 111.55759620666504 sec\n",
      "\n",
      "Epoch 33 Batch 0 Loss 0.0360\n",
      "Epoch 33 Batch 100 Loss 0.0768\n",
      "Epoch 33 Batch 200 Loss 0.0218\n",
      "Epoch 33 Batch 300 Loss 0.0680\n",
      "Epoch 33 Batch 400 Loss 0.0545\n",
      "Epoch 33 Batch 500 Loss 0.0573\n",
      "Epoch 33 Batch 600 Loss 0.0583\n",
      "Epoch 33 Batch 700 Loss 0.0531\n",
      "Epoch 33 Batch 800 Loss 0.0614\n",
      "Epoch 33 Batch 900 Loss 0.0460\n",
      "Epoch 33 Batch 1000 Loss 0.0793\n",
      "Epoch 33 Batch 1100 Loss 0.0597\n",
      "Epoch 33 Batch 1200 Loss 0.0670\n",
      "Epoch 33 Loss 0.0559\n",
      "Time taken for 1 epoch 105.18038082122803 sec\n",
      "\n",
      "Epoch 34 Batch 0 Loss 0.0337\n",
      "Epoch 34 Batch 100 Loss 0.0423\n",
      "Epoch 34 Batch 200 Loss 0.0434\n",
      "Epoch 34 Batch 300 Loss 0.0352\n",
      "Epoch 34 Batch 400 Loss 0.0486\n",
      "Epoch 34 Batch 500 Loss 0.0463\n",
      "Epoch 34 Batch 600 Loss 0.0774\n",
      "Epoch 34 Batch 700 Loss 0.0384\n",
      "Epoch 34 Batch 800 Loss 0.0586\n",
      "Epoch 34 Batch 900 Loss 0.0456\n",
      "Epoch 34 Batch 1000 Loss 0.0316\n",
      "Epoch 34 Batch 1100 Loss 0.0631\n",
      "Epoch 34 Batch 1200 Loss 0.0629\n",
      "Epoch 34 Loss 0.0553\n",
      "Time taken for 1 epoch 111.90481758117676 sec\n",
      "\n",
      "Epoch 35 Batch 0 Loss 0.0201\n",
      "Epoch 35 Batch 100 Loss 0.0682\n",
      "Epoch 35 Batch 200 Loss 0.0341\n",
      "Epoch 35 Batch 300 Loss 0.0208\n",
      "Epoch 35 Batch 400 Loss 0.0609\n",
      "Epoch 35 Batch 500 Loss 0.0550\n",
      "Epoch 35 Batch 600 Loss 0.0371\n",
      "Epoch 35 Batch 700 Loss 0.0496\n",
      "Epoch 35 Batch 800 Loss 0.0588\n",
      "Epoch 35 Batch 900 Loss 0.0673\n",
      "Epoch 35 Batch 1000 Loss 0.0709\n",
      "Epoch 35 Batch 1100 Loss 0.0446\n",
      "Epoch 35 Batch 1200 Loss 0.0496\n",
      "Epoch 35 Loss 0.0550\n",
      "Time taken for 1 epoch 104.91895914077759 sec\n",
      "\n",
      "Epoch 36 Batch 0 Loss 0.0462\n",
      "Epoch 36 Batch 100 Loss 0.0675\n",
      "Epoch 36 Batch 200 Loss 0.0392\n",
      "Epoch 36 Batch 300 Loss 0.0692\n",
      "Epoch 36 Batch 400 Loss 0.0645\n",
      "Epoch 36 Batch 500 Loss 0.0289\n",
      "Epoch 36 Batch 600 Loss 0.0307\n",
      "Epoch 36 Batch 700 Loss 0.0735\n",
      "Epoch 36 Batch 800 Loss 0.0643\n",
      "Epoch 36 Batch 900 Loss 0.0619\n",
      "Epoch 36 Batch 1000 Loss 0.0698\n",
      "Epoch 36 Batch 1100 Loss 0.0917\n",
      "Epoch 36 Batch 1200 Loss 0.0624\n",
      "Epoch 36 Loss 0.0547\n",
      "Time taken for 1 epoch 108.35865378379822 sec\n",
      "\n",
      "Epoch 37 Batch 0 Loss 0.0511\n",
      "Epoch 37 Batch 100 Loss 0.0583\n",
      "Epoch 37 Batch 200 Loss 0.0411\n",
      "Epoch 37 Batch 300 Loss 0.0394\n",
      "Epoch 37 Batch 400 Loss 0.0308\n",
      "Epoch 37 Batch 500 Loss 0.0494\n",
      "Epoch 37 Batch 600 Loss 0.0582\n",
      "Epoch 37 Batch 700 Loss 0.0895\n",
      "Epoch 37 Batch 800 Loss 0.1033\n",
      "Epoch 37 Batch 900 Loss 0.0680\n",
      "Epoch 37 Batch 1000 Loss 0.0700\n",
      "Epoch 37 Batch 1100 Loss 0.0714\n",
      "Epoch 37 Batch 1200 Loss 0.0670\n",
      "Epoch 37 Loss 0.0548\n",
      "Time taken for 1 epoch 105.22371339797974 sec\n",
      "\n",
      "Epoch 38 Batch 0 Loss 0.0364\n",
      "Epoch 38 Batch 100 Loss 0.0414\n",
      "Epoch 38 Batch 200 Loss 0.0420\n",
      "Epoch 38 Batch 300 Loss 0.0408\n",
      "Epoch 38 Batch 400 Loss 0.0538\n",
      "Epoch 38 Batch 500 Loss 0.0503\n",
      "Epoch 38 Batch 600 Loss 0.0855\n",
      "Epoch 38 Batch 700 Loss 0.0710\n",
      "Epoch 38 Batch 800 Loss 0.0488\n",
      "Epoch 38 Batch 900 Loss 0.0558\n",
      "Epoch 38 Batch 1000 Loss 0.0602\n",
      "Epoch 38 Batch 1100 Loss 0.0566\n",
      "Epoch 38 Batch 1200 Loss 0.0659\n",
      "Epoch 38 Loss 0.0538\n",
      "Time taken for 1 epoch 111.39301562309265 sec\n",
      "\n",
      "Epoch 39 Batch 0 Loss 0.0323\n",
      "Epoch 39 Batch 100 Loss 0.0372\n",
      "Epoch 39 Batch 200 Loss 0.0324\n",
      "Epoch 39 Batch 300 Loss 0.0497\n",
      "Epoch 39 Batch 400 Loss 0.0443\n",
      "Epoch 39 Batch 500 Loss 0.0392\n",
      "Epoch 39 Batch 600 Loss 0.0566\n",
      "Epoch 39 Batch 700 Loss 0.0339\n",
      "Epoch 39 Batch 800 Loss 0.0430\n",
      "Epoch 39 Batch 900 Loss 0.0433\n",
      "Epoch 39 Batch 1000 Loss 0.0526\n",
      "Epoch 39 Batch 1100 Loss 0.0793\n",
      "Epoch 39 Batch 1200 Loss 0.0639\n",
      "Epoch 39 Loss 0.0538\n",
      "Time taken for 1 epoch 105.07928609848022 sec\n",
      "\n",
      "Epoch 40 Batch 0 Loss 0.0252\n",
      "Epoch 40 Batch 100 Loss 0.0244\n",
      "Epoch 40 Batch 200 Loss 0.0667\n",
      "Epoch 40 Batch 300 Loss 0.0454\n",
      "Epoch 40 Batch 400 Loss 0.0441\n",
      "Epoch 40 Batch 500 Loss 0.0540\n",
      "Epoch 40 Batch 600 Loss 0.0578\n",
      "Epoch 40 Batch 700 Loss 0.0640\n",
      "Epoch 40 Batch 800 Loss 0.0519\n",
      "Epoch 40 Batch 900 Loss 0.0630\n",
      "Epoch 40 Batch 1000 Loss 0.0556\n",
      "Epoch 40 Batch 1100 Loss 0.0395\n",
      "Epoch 40 Batch 1200 Loss 0.0685\n",
      "Epoch 40 Loss 0.0542\n",
      "Time taken for 1 epoch 111.75972723960876 sec\n",
      "\n",
      "Epoch 41 Batch 0 Loss 0.0534\n",
      "Epoch 41 Batch 100 Loss 0.0388\n",
      "Epoch 41 Batch 200 Loss 0.0472\n",
      "Epoch 41 Batch 300 Loss 0.0308\n",
      "Epoch 41 Batch 400 Loss 0.0444\n",
      "Epoch 41 Batch 500 Loss 0.0646\n",
      "Epoch 41 Batch 600 Loss 0.0511\n",
      "Epoch 41 Batch 700 Loss 0.0475\n",
      "Epoch 41 Batch 800 Loss 0.0559\n",
      "Epoch 41 Batch 900 Loss 0.0809\n",
      "Epoch 41 Batch 1000 Loss 0.0295\n",
      "Epoch 41 Batch 1100 Loss 0.0482\n",
      "Epoch 41 Batch 1200 Loss 0.0470\n",
      "Epoch 41 Loss 0.0527\n",
      "Time taken for 1 epoch 104.97344636917114 sec\n",
      "\n",
      "Epoch 42 Batch 0 Loss 0.0246\n",
      "Epoch 42 Batch 100 Loss 0.0392\n",
      "Epoch 42 Batch 200 Loss 0.0481\n",
      "Epoch 42 Batch 300 Loss 0.0495\n",
      "Epoch 42 Batch 400 Loss 0.0977\n",
      "Epoch 42 Batch 500 Loss 0.0571\n",
      "Epoch 42 Batch 600 Loss 0.0650\n",
      "Epoch 42 Batch 700 Loss 0.0333\n",
      "Epoch 42 Batch 800 Loss 0.0601\n",
      "Epoch 42 Batch 900 Loss 0.0589\n",
      "Epoch 42 Batch 1000 Loss 0.0533\n",
      "Epoch 42 Batch 1100 Loss 0.0855\n",
      "Epoch 42 Batch 1200 Loss 0.0618\n",
      "Epoch 42 Loss 0.0532\n",
      "Time taken for 1 epoch 111.4559166431427 sec\n",
      "\n",
      "Epoch 43 Batch 0 Loss 0.0369\n",
      "Epoch 43 Batch 100 Loss 0.0347\n",
      "Epoch 43 Batch 200 Loss 0.0331\n",
      "Epoch 43 Batch 300 Loss 0.0404\n",
      "Epoch 43 Batch 400 Loss 0.0535\n",
      "Epoch 43 Batch 500 Loss 0.0504\n",
      "Epoch 43 Batch 600 Loss 0.0577\n",
      "Epoch 43 Batch 700 Loss 0.0627\n",
      "Epoch 43 Batch 800 Loss 0.0236\n",
      "Epoch 43 Batch 900 Loss 0.0522\n",
      "Epoch 43 Batch 1000 Loss 0.0617\n",
      "Epoch 43 Batch 1100 Loss 0.0606\n",
      "Epoch 43 Batch 1200 Loss 0.0626\n",
      "Epoch 43 Loss 0.0534\n",
      "Time taken for 1 epoch 105.12111186981201 sec\n",
      "\n",
      "Epoch 44 Batch 0 Loss 0.0267\n",
      "Epoch 44 Batch 100 Loss 0.0348\n",
      "Epoch 44 Batch 200 Loss 0.0276\n",
      "Epoch 44 Batch 300 Loss 0.0528\n",
      "Epoch 44 Batch 400 Loss 0.0410\n",
      "Epoch 44 Batch 500 Loss 0.0567\n",
      "Epoch 44 Batch 600 Loss 0.0614\n",
      "Epoch 44 Batch 700 Loss 0.0602\n",
      "Epoch 44 Batch 800 Loss 0.0811\n",
      "Epoch 44 Batch 900 Loss 0.0492\n",
      "Epoch 44 Batch 1000 Loss 0.0501\n",
      "Epoch 44 Batch 1100 Loss 0.0517\n",
      "Epoch 44 Batch 1200 Loss 0.0819\n",
      "Epoch 44 Loss 0.0518\n",
      "Time taken for 1 epoch 111.53769063949585 sec\n",
      "\n",
      "Epoch 45 Batch 0 Loss 0.0322\n",
      "Epoch 45 Batch 100 Loss 0.0316\n",
      "Epoch 45 Batch 200 Loss 0.0404\n",
      "Epoch 45 Batch 300 Loss 0.0584\n",
      "Epoch 45 Batch 400 Loss 0.0530\n",
      "Epoch 45 Batch 500 Loss 0.0465\n",
      "Epoch 45 Batch 600 Loss 0.0462\n",
      "Epoch 45 Batch 700 Loss 0.0630\n",
      "Epoch 45 Batch 800 Loss 0.0415\n",
      "Epoch 45 Batch 900 Loss 0.0613\n",
      "Epoch 45 Batch 1000 Loss 0.0738\n",
      "Epoch 45 Batch 1100 Loss 0.0855\n",
      "Epoch 45 Batch 1200 Loss 0.0565\n",
      "Epoch 45 Loss 0.0524\n",
      "Time taken for 1 epoch 104.98191928863525 sec\n",
      "\n",
      "Epoch 46 Batch 0 Loss 0.0317\n",
      "Epoch 46 Batch 100 Loss 0.0480\n",
      "Epoch 46 Batch 200 Loss 0.0360\n",
      "Epoch 46 Batch 300 Loss 0.0568\n",
      "Epoch 46 Batch 400 Loss 0.0439\n",
      "Epoch 46 Batch 500 Loss 0.0272\n",
      "Epoch 46 Batch 600 Loss 0.0525\n",
      "Epoch 46 Batch 700 Loss 0.0741\n",
      "Epoch 46 Batch 800 Loss 0.0502\n",
      "Epoch 46 Batch 900 Loss 0.0673\n",
      "Epoch 46 Batch 1000 Loss 0.0622\n",
      "Epoch 46 Batch 1100 Loss 0.0253\n",
      "Epoch 46 Batch 1200 Loss 0.0606\n",
      "Epoch 46 Loss 0.0520\n",
      "Time taken for 1 epoch 111.44887781143188 sec\n",
      "\n",
      "Epoch 47 Batch 0 Loss 0.0239\n",
      "Epoch 47 Batch 100 Loss 0.0652\n",
      "Epoch 47 Batch 200 Loss 0.0482\n",
      "Epoch 47 Batch 300 Loss 0.0401\n",
      "Epoch 47 Batch 400 Loss 0.0602\n",
      "Epoch 47 Batch 500 Loss 0.0629\n",
      "Epoch 47 Batch 600 Loss 0.0482\n",
      "Epoch 47 Batch 700 Loss 0.0578\n",
      "Epoch 47 Batch 800 Loss 0.0429\n",
      "Epoch 47 Batch 900 Loss 0.0480\n",
      "Epoch 47 Batch 1000 Loss 0.0639\n",
      "Epoch 47 Batch 1100 Loss 0.0514\n",
      "Epoch 47 Batch 1200 Loss 0.0435\n",
      "Epoch 47 Loss 0.0513\n",
      "Time taken for 1 epoch 104.94261193275452 sec\n",
      "\n",
      "Epoch 48 Batch 0 Loss 0.0517\n",
      "Epoch 48 Batch 100 Loss 0.0492\n",
      "Epoch 48 Batch 200 Loss 0.0195\n",
      "Epoch 48 Batch 300 Loss 0.0546\n",
      "Epoch 48 Batch 400 Loss 0.0387\n",
      "Epoch 48 Batch 500 Loss 0.0394\n",
      "Epoch 48 Batch 600 Loss 0.0508\n",
      "Epoch 48 Batch 700 Loss 0.0526\n",
      "Epoch 48 Batch 800 Loss 0.0485\n",
      "Epoch 48 Batch 900 Loss 0.0371\n",
      "Epoch 48 Batch 1000 Loss 0.0401\n",
      "Epoch 48 Batch 1100 Loss 0.0627\n",
      "Epoch 48 Batch 1200 Loss 0.0863\n",
      "Epoch 48 Loss 0.0505\n",
      "Time taken for 1 epoch 111.61771726608276 sec\n",
      "\n",
      "Epoch 49 Batch 0 Loss 0.0316\n",
      "Epoch 49 Batch 100 Loss 0.0260\n",
      "Epoch 49 Batch 200 Loss 0.0527\n",
      "Epoch 49 Batch 300 Loss 0.0242\n",
      "Epoch 49 Batch 400 Loss 0.0487\n",
      "Epoch 49 Batch 500 Loss 0.0585\n",
      "Epoch 49 Batch 600 Loss 0.0747\n",
      "Epoch 49 Batch 700 Loss 0.0669\n",
      "Epoch 49 Batch 800 Loss 0.0455\n",
      "Epoch 49 Batch 900 Loss 0.0368\n",
      "Epoch 49 Batch 1000 Loss 0.0397\n",
      "Epoch 49 Batch 1100 Loss 0.0405\n",
      "Epoch 49 Batch 1200 Loss 0.0603\n",
      "Epoch 49 Loss 0.0519\n",
      "Time taken for 1 epoch 105.03455352783203 sec\n",
      "\n",
      "Epoch 50 Batch 0 Loss 0.0246\n",
      "Epoch 50 Batch 100 Loss 0.0536\n",
      "Epoch 50 Batch 200 Loss 0.0475\n",
      "Epoch 50 Batch 300 Loss 0.0561\n",
      "Epoch 50 Batch 400 Loss 0.0383\n",
      "Epoch 50 Batch 500 Loss 0.0528\n",
      "Epoch 50 Batch 600 Loss 0.0644\n",
      "Epoch 50 Batch 700 Loss 0.0429\n",
      "Epoch 50 Batch 800 Loss 0.0630\n",
      "Epoch 50 Batch 900 Loss 0.0768\n",
      "Epoch 50 Batch 1000 Loss 0.0645\n",
      "Epoch 50 Batch 1100 Loss 0.0485\n",
      "Epoch 50 Batch 1200 Loss 0.0787\n",
      "Epoch 50 Loss 0.0514\n",
      "Time taken for 1 epoch 106.89683294296265 sec\n",
      "\n"
     ]
    }
   ],
   "source": [
    "EPOCHS = 50\n",
    "\n",
    "for epoch in range(EPOCHS):\n",
    "    start = time.time()\n",
    "\n",
    "    #enc_hidden = encoder.initialize_hidden_state()\n",
    "    total_loss = 0\n",
    "\n",
    "    for (batch, (inp, targ)) in enumerate(dataset.take(steps_per_epoch)):\n",
    "   #     batch_loss = train_step(inp, targ, enc_hidden)\n",
    "        batch_loss = train_step(inp, targ)\n",
    "        total_loss += batch_loss\n",
    "\n",
    "        if batch % 100 == 0:\n",
    "            print('Epoch {} Batch {} Loss {:.4f}'.format(epoch + 1,\n",
    "                                                         batch,\n",
    "                                                         batch_loss.numpy()))\n",
    "  # saving (checkpoint) the model every 2 epochs\n",
    "    if (epoch + 1) % 2 == 0:\n",
    "        checkpoint.save(file_prefix = checkpoint_prefix)\n",
    "\n",
    "    print('Epoch {} Loss {:.4f}'.format(epoch + 1,\n",
    "                                        total_loss / steps_per_epoch))\n",
    "    print('Time taken for 1 epoch {} sec\\n'.format(time.time() - start))"
   ]
  },
  {
   "cell_type": "markdown",
   "metadata": {
    "id": "mU3Ce8M6I3rz"
   },
   "source": [
    "## Translate\n",
    "\n",
    "* The evaluate function is similar to the training loop, except we don't use *teacher forcing* here. The input to the decoder at each time step is its previous predictions along with the hidden state and the encoder output.\n",
    "* Stop predicting when the model predicts the *end token*.\n",
    "* And store the *attention weights for every time step*.\n",
    "\n",
    "Note: The encoder output is calculated only once for one input."
   ]
  },
  {
   "cell_type": "code",
   "execution_count": 36,
   "metadata": {
    "id": "EbQpyYs13jF_"
   },
   "outputs": [],
   "source": [
    "def evaluate(sentence):\n",
    "    attention_plot = np.zeros((max_length_targ, max_length_inp))\n",
    "\n",
    "    sentence = preprocess_sentence(sentence)\n",
    "\n",
    "    inputs = [inp_lang.word_index[i] for i in sentence.split(' ')]\n",
    "    inputs = tf.keras.preprocessing.sequence.pad_sequences([inputs],\n",
    "                                                           maxlen=max_length_inp,\n",
    "                                                           padding='post')\n",
    "    inputs = tf.convert_to_tensor(inputs)\n",
    "\n",
    "    result = ''\n",
    "\n",
    "    hidden = [tf.zeros((1, units))]\n",
    "    enc_out, enc_hidden, enc_cell = encoder(inputs)\n",
    "\n",
    "    dec_hidden = enc_hidden\n",
    "    dec_input = tf.expand_dims([targ_lang.word_index['<start>']], 0)\n",
    "\n",
    "    for t in range(max_length_targ):\n",
    "        predictions, dec_hidden, attention_weights = decoder(dec_input,\n",
    "                                                             dec_hidden,\n",
    "                                                             enc_out)\n",
    "  \n",
    "    # storing the attention weights to plot later on\n",
    "        attention_weights = tf.reshape(attention_weights, (-1, ))\n",
    "        attention_plot[t] = attention_weights.numpy()\n",
    "\n",
    "        predicted_id = tf.argmax(predictions[0]).numpy()\n",
    "\n",
    "        result += targ_lang.index_word[predicted_id] + ' '\n",
    "\n",
    "        if targ_lang.index_word[predicted_id] == '<end>':\n",
    "            return result, sentence, attention_plot\n",
    "\n",
    "    # the predicted ID is fed back into the model\n",
    "        dec_input = tf.expand_dims([predicted_id], 0)\n",
    "\n",
    "    return result, sentence, attention_plot"
   ]
  },
  {
   "cell_type": "code",
   "execution_count": 37,
   "metadata": {
    "id": "Qjy26Fe8Bv5d"
   },
   "outputs": [],
   "source": [
    "# function for plotting the attention weights\n",
    "def plot_attention(attention, sentence, predicted_sentence):\n",
    "    fig = plt.figure(figsize=(10,10))\n",
    "    ax = fig.add_subplot(1, 1, 1)\n",
    "    ax.matshow(attention, cmap='viridis')\n",
    "\n",
    "    fontdict = {'fontsize': 14}\n",
    "\n",
    "    ax.set_xticklabels([''] + sentence, fontdict=fontdict, rotation=90)\n",
    "    ax.set_yticklabels([''] + predicted_sentence, fontdict=fontdict)\n",
    " \n",
    "    ax.xaxis.set_major_locator(ticker.MultipleLocator(1))\n",
    "    ax.yaxis.set_major_locator(ticker.MultipleLocator(1))\n",
    "\n",
    "    plt.show()"
   ]
  },
  {
   "cell_type": "code",
   "execution_count": 38,
   "metadata": {
    "id": "sl9zUHzg3jGI"
   },
   "outputs": [],
   "source": [
    "def translate(sentence):\n",
    "    result, sentence, attention_plot = evaluate(sentence)\n",
    "\n",
    "    print('Input: %s' % (sentence))\n",
    "    print('Predicted translation: {}'.format(result))\n",
    "\n",
    "    attention_plot = attention_plot[:len(result.split(' ')), :len(sentence.split(' '))]\n",
    "    plot_attention(attention_plot, sentence.split(' '), result.split(' '))"
   ]
  },
  {
   "cell_type": "markdown",
   "metadata": {
    "id": "n250XbnjOaqP"
   },
   "source": [
    "## Restore the latest checkpoint and test"
   ]
  },
  {
   "cell_type": "code",
   "execution_count": 39,
   "metadata": {
    "colab": {
     "base_uri": "https://localhost:8080/"
    },
    "id": "UJpT9D5_OgP6",
    "outputId": "806417ea-cbf6-4bde-e560-93efd6509226"
   },
   "outputs": [
    {
     "data": {
      "text/plain": [
       "<tensorflow.python.checkpoint.checkpoint.CheckpointLoadStatus at 0x7f0befa6e6e0>"
      ]
     },
     "execution_count": 39,
     "metadata": {},
     "output_type": "execute_result"
    }
   ],
   "source": [
    "# restoring the latest checkpoint in checkpoint_dir\n",
    "checkpoint.restore(tf.train.latest_checkpoint(checkpoint_dir))"
   ]
  },
  {
   "cell_type": "code",
   "execution_count": 40,
   "metadata": {
    "colab": {
     "base_uri": "https://localhost:8080/",
     "height": 1000
    },
    "id": "WrAM0FDomq3E",
    "outputId": "2a63bfa9-d617-4195-837f-d5cd4ffefca4"
   },
   "outputs": [
    {
     "name": "stdout",
     "output_type": "stream",
     "text": [
      "Input: <start> здесь хорошо . <end>\n",
      "Predicted translation: it's well here . <end> \n"
     ]
    },
    {
     "name": "stderr",
     "output_type": "stream",
     "text": [
      "<ipython-input-37-a2d274fa24ec>:9: UserWarning: FixedFormatter should only be used together with FixedLocator\n",
      "  ax.set_xticklabels([''] + sentence, fontdict=fontdict, rotation=90)\n",
      "<ipython-input-37-a2d274fa24ec>:10: UserWarning: FixedFormatter should only be used together with FixedLocator\n",
      "  ax.set_yticklabels([''] + predicted_sentence, fontdict=fontdict)\n"
     ]
    },
    {
     "data": {
      "image/png": "[encoded data removed]",
      "text/plain": [
       "<Figure size 1000x1000 with 1 Axes>"
      ]
     },
     "metadata": {},
     "output_type": "display_data"
    }
   ],
   "source": [
    "translate('Здесь хорошо.')"
   ]
  },
  {
   "cell_type": "code",
   "execution_count": 41,
   "metadata": {
    "colab": {
     "base_uri": "https://localhost:8080/",
     "height": 902
    },
    "id": "5bhFfwcIMX5i",
    "outputId": "dbb133d9-ee93-413c-b873-7aacc69c72df"
   },
   "outputs": [
    {
     "name": "stdout",
     "output_type": "stream",
     "text": [
      "Input: <start> я не смогу поехать . <end>\n",
      "Predicted translation: i can't go . <end> \n"
     ]
    },
    {
     "name": "stderr",
     "output_type": "stream",
     "text": [
      "<ipython-input-37-a2d274fa24ec>:9: UserWarning: FixedFormatter should only be used together with FixedLocator\n",
      "  ax.set_xticklabels([''] + sentence, fontdict=fontdict, rotation=90)\n",
      "<ipython-input-37-a2d274fa24ec>:10: UserWarning: FixedFormatter should only be used together with FixedLocator\n",
      "  ax.set_yticklabels([''] + predicted_sentence, fontdict=fontdict)\n"
     ]
    },
    {
     "data": {
      "image/png": "[encoded data removed]",
      "text/plain": [
       "<Figure size 1000x1000 with 1 Axes>"
      ]
     },
     "metadata": {},
     "output_type": "display_data"
    }
   ],
   "source": [
    "translate('Я не смогу поехать.')"
   ]
  },
  {
   "cell_type": "code",
   "execution_count": 42,
   "metadata": {
    "colab": {
     "base_uri": "https://localhost:8080/",
     "height": 1000
    },
    "id": "zSx2iM36EZQZ",
    "outputId": "76c6b047-ccc7-4e79-848e-8caf037c4395"
   },
   "outputs": [
    {
     "name": "stdout",
     "output_type": "stream",
     "text": [
      "Input: <start> вы еще дома ? <end>\n",
      "Predicted translation: are you still home ? <end> \n"
     ]
    },
    {
     "name": "stderr",
     "output_type": "stream",
     "text": [
      "<ipython-input-37-a2d274fa24ec>:9: UserWarning: FixedFormatter should only be used together with FixedLocator\n",
      "  ax.set_xticklabels([''] + sentence, fontdict=fontdict, rotation=90)\n",
      "<ipython-input-37-a2d274fa24ec>:10: UserWarning: FixedFormatter should only be used together with FixedLocator\n",
      "  ax.set_yticklabels([''] + predicted_sentence, fontdict=fontdict)\n"
     ]
    },
    {
     "data": {
      "image/png": "[encoded data removed]",
      "text/plain": [
       "<Figure size 1000x1000 with 1 Axes>"
      ]
     },
     "metadata": {},
     "output_type": "display_data"
    }
   ],
   "source": [
    "translate(u'Вы еще дома?')"
   ]
  },
  {
   "cell_type": "code",
   "execution_count": 43,
   "metadata": {
    "colab": {
     "base_uri": "https://localhost:8080/",
     "height": 1000
    },
    "id": "A3LLCx3ZE0Ls",
    "outputId": "f2d4ebb8-a581-47a5-8b7b-61ac215fc4a6"
   },
   "outputs": [
    {
     "name": "stdout",
     "output_type": "stream",
     "text": [
      "Input: <start> вы все еще дома ? <end>\n",
      "Predicted translation: are you still mad ? <end> \n"
     ]
    },
    {
     "name": "stderr",
     "output_type": "stream",
     "text": [
      "<ipython-input-37-a2d274fa24ec>:9: UserWarning: FixedFormatter should only be used together with FixedLocator\n",
      "  ax.set_xticklabels([''] + sentence, fontdict=fontdict, rotation=90)\n",
      "<ipython-input-37-a2d274fa24ec>:10: UserWarning: FixedFormatter should only be used together with FixedLocator\n",
      "  ax.set_yticklabels([''] + predicted_sentence, fontdict=fontdict)\n"
     ]
    },
    {
     "data": {
      "image/png": "[encoded data removed]",
      "text/plain": [
       "<Figure size 1000x1000 with 1 Axes>"
      ]
     },
     "metadata": {},
     "output_type": "display_data"
    }
   ],
   "source": [
    "translate(u'Вы все еще дома?')"
   ]
  },
  {
   "cell_type": "code",
   "execution_count": 44,
   "metadata": {
    "colab": {
     "base_uri": "https://localhost:8080/",
     "height": 1000
    },
    "id": "DUQVLVqUE1YW",
    "outputId": "8c3a92e5-f11e-41de-f369-694815eb671c"
   },
   "outputs": [
    {
     "name": "stdout",
     "output_type": "stream",
     "text": [
      "Input: <start> попробуй сделать это . <end>\n",
      "Predicted translation: try to do that . <end> \n"
     ]
    },
    {
     "name": "stderr",
     "output_type": "stream",
     "text": [
      "<ipython-input-37-a2d274fa24ec>:9: UserWarning: FixedFormatter should only be used together with FixedLocator\n",
      "  ax.set_xticklabels([''] + sentence, fontdict=fontdict, rotation=90)\n",
      "<ipython-input-37-a2d274fa24ec>:10: UserWarning: FixedFormatter should only be used together with FixedLocator\n",
      "  ax.set_yticklabels([''] + predicted_sentence, fontdict=fontdict)\n"
     ]
    },
    {
     "data": {
      "image/png": "[encoded data removed]",
      "text/plain": [
       "<Figure size 1000x1000 with 1 Axes>"
      ]
     },
     "metadata": {},
     "output_type": "display_data"
    }
   ],
   "source": [
    "translate(u'Попробуй сделать это.')"
   ]
  },
  {
   "cell_type": "code",
   "execution_count": 45,
   "metadata": {
    "colab": {
     "base_uri": "https://localhost:8080/",
     "height": 931
    },
    "id": "f09_hUFx9EJh",
    "outputId": "05d77dee-8716-4f2e-8a5c-2ce9598e9826"
   },
   "outputs": [
    {
     "name": "stdout",
     "output_type": "stream",
     "text": [
      "Input: <start> я не люблю , когда идет снег . <end>\n",
      "Predicted translation: i don't like it , i . <end> \n"
     ]
    },
    {
     "name": "stderr",
     "output_type": "stream",
     "text": [
      "<ipython-input-37-a2d274fa24ec>:9: UserWarning: FixedFormatter should only be used together with FixedLocator\n",
      "  ax.set_xticklabels([''] + sentence, fontdict=fontdict, rotation=90)\n",
      "<ipython-input-37-a2d274fa24ec>:10: UserWarning: FixedFormatter should only be used together with FixedLocator\n",
      "  ax.set_yticklabels([''] + predicted_sentence, fontdict=fontdict)\n"
     ]
    },
    {
     "data": {
      "image/png": "[encoded data removed]",
      "text/plain": [
       "<Figure size 1000x1000 with 1 Axes>"
      ]
     },
     "metadata": {},
     "output_type": "display_data"
    }
   ],
   "source": [
    "translate(u'Я не люблю, когда идет снег.')"
   ]
  },
  {
   "cell_type": "code",
   "execution_count": 46,
   "metadata": {
    "colab": {
     "base_uri": "https://localhost:8080/",
     "height": 918
    },
    "id": "e7c5p8rmkHQG",
    "outputId": "de82548a-7e06-4039-f74b-f80267c5c958"
   },
   "outputs": [
    {
     "name": "stdout",
     "output_type": "stream",
     "text": [
      "Input: <start> я никогда такого не делаю . <end>\n",
      "Predicted translation: i'll never do that . <end> \n"
     ]
    },
    {
     "name": "stderr",
     "output_type": "stream",
     "text": [
      "<ipython-input-37-a2d274fa24ec>:9: UserWarning: FixedFormatter should only be used together with FixedLocator\n",
      "  ax.set_xticklabels([''] + sentence, fontdict=fontdict, rotation=90)\n",
      "<ipython-input-37-a2d274fa24ec>:10: UserWarning: FixedFormatter should only be used together with FixedLocator\n",
      "  ax.set_yticklabels([''] + predicted_sentence, fontdict=fontdict)\n"
     ]
    },
    {
     "data": {
      "image/png": "[encoded data removed]",
      "text/plain": [
       "<Figure size 1000x1000 with 1 Axes>"
      ]
     },
     "metadata": {},
     "output_type": "display_data"
    }
   ],
   "source": [
    "translate(u'Я никогда такого не делаю.')"
   ]
  },
  {
   "cell_type": "code",
   "execution_count": null,
   "metadata": {
    "id": "jdXES85KkTVS"
   },
   "outputs": [],
   "source": []
  }
 ],
 "metadata": {
  "accelerator": "GPU",
  "colab": {
   "provenance": [],
   "toc_visible": true
  },
  "kernelspec": {
   "display_name": "Python 3 (ipykernel)",
   "language": "python",
   "name": "python3"
  },
  "language_info": {
   "codemirror_mode": {
    "name": "ipython",
    "version": 3
   },
   "file_extension": ".py",
   "mimetype": "text/x-python",
   "name": "python",
   "nbconvert_exporter": "python",
   "pygments_lexer": "ipython3",
   "version": "3.9.13"
  }
 },
 "nbformat": 4,
 "nbformat_minor": 1
}
