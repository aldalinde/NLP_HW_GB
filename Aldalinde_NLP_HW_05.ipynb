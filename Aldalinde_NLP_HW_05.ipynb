{
 "cells": [
  {
   "cell_type": "markdown",
   "metadata": {},
   "source": [
    "## Тема разметка и извлечение именованных сущностей"
   ]
  },
  {
   "cell_type": "markdown",
   "metadata": {},
   "source": [
    "Задание 1. Написать теггер на данных с русским языком\n",
    "проверить UnigramTagger, BigramTagger, TrigramTagger и их комбинации\n",
    "\n",
    "\n",
    "**Working on medical dataset with symptoms, medical treatment and patients' feedback**  \n",
    "from https://github.com/cimm-kzn/RuDReC/blob/master/data/rudrec_annotated.json"
   ]
  },
  {
   "cell_type": "code",
   "execution_count": 1,
   "metadata": {},
   "outputs": [],
   "source": [
    "#nltk.download() \n",
    "import nltk\n",
    "from nltk.tokenize import word_tokenize\n",
    "import matplotlib\n",
    "%matplotlib inline"
   ]
  },
  {
   "cell_type": "code",
   "execution_count": 2,
   "metadata": {},
   "outputs": [],
   "source": [
    "import os, sys\n",
    "\n",
    "module_path = os.path.abspath(os.path.join(os.pardir))\n",
    "if module_path not in sys.path:\n",
    "    sys.path.append(module_path)"
   ]
  },
  {
   "cell_type": "code",
   "execution_count": 3,
   "metadata": {},
   "outputs": [],
   "source": [
    "from razdel import tokenize\n",
    "import json\n",
    "from tqdm import notebook\n",
    "from corus import load_rudrec"
   ]
  },
  {
   "cell_type": "code",
   "execution_count": 4,
   "metadata": {},
   "outputs": [],
   "source": [
    "import warnings\n",
    "warnings.filterwarnings(\"ignore\")"
   ]
  },
  {
   "cell_type": "code",
   "execution_count": 5,
   "metadata": {},
   "outputs": [],
   "source": [
    "import re"
   ]
  },
  {
   "cell_type": "code",
   "execution_count": 6,
   "metadata": {},
   "outputs": [],
   "source": [
    "import pandas as pd"
   ]
  },
  {
   "cell_type": "code",
   "execution_count": 7,
   "metadata": {},
   "outputs": [],
   "source": [
    "from nltk.tag import DefaultTagger\n",
    "from nltk.tag import UnigramTagger\n",
    "from nltk.tag import BigramTagger, TrigramTagger\n",
    "from nltk.tag import RegexpTagger\n"
   ]
  },
  {
   "cell_type": "code",
   "execution_count": 8,
   "metadata": {},
   "outputs": [],
   "source": [
    "# downloading medical records (simptoms, treatment)\n",
    "\n",
    "docs = []\n",
    "for rec in load_rudrec(\"../data/rudrec_annotated.json\"):\n",
    "    words = []\n",
    "    labels = []\n",
    "    idx_ent = -1\n",
    "    len_ents = len(rec.entities)\n",
    "    rec_entities = sorted(rec.entities, key=lambda v: v.start)\n",
    "    ent = None\n",
    "    is_start = None\n",
    "    for token in tokenize(rec.text):\n",
    "        type_ent = 'OUT'\n",
    "        if len_ents == 0:\n",
    "            words.append(token.text)\n",
    "            labels.append(type_ent)\n",
    "            \n",
    "            continue\n",
    "        if (idx_ent == -1) or (idx_ent + 1 < len_ents and token.start > ent.end):\n",
    "            idx_ent += 1\n",
    "            ent = rec_entities[idx_ent]\n",
    "            is_start = True\n",
    "            \n",
    "        if (token.start >= ent.start) and (token.stop <= ent.end):\n",
    "            type_ent = 'B-' + ent.entity_type if is_start else 'I-' + ent.entity_type\n",
    "        \n",
    "        words.append(token.text)\n",
    "        labels.append(type_ent)\n",
    "           \n",
    "        \n",
    "    docs.append([words, labels])"
   ]
  },
  {
   "cell_type": "code",
   "execution_count": 9,
   "metadata": {},
   "outputs": [
    {
     "data": {
      "text/plain": [
       "[['Время', 'использования', ':', '3', 'недели'],\n",
       " ['OUT', 'OUT', 'OUT', 'OUT', 'OUT']]"
      ]
     },
     "execution_count": 9,
     "metadata": {},
     "output_type": "execute_result"
    }
   ],
   "source": [
    "docs[9]"
   ]
  },
  {
   "cell_type": "code",
   "execution_count": 10,
   "metadata": {},
   "outputs": [],
   "source": [
    "train_ready = []\n",
    "valid_tagged = []\n",
    "valid_untagged = []\n",
    "\n",
    "for irec, rec in enumerate(docs):\n",
    "    if irec <= 3000:\n",
    "        train_ready.append(list(zip(*rec)))     \n",
    "    else:\n",
    "        valid_tagged.append(list(zip(*rec)))\n",
    "        valid_untagged.append(rec[0])\n",
    "      "
   ]
  },
  {
   "cell_type": "code",
   "execution_count": 11,
   "metadata": {},
   "outputs": [
    {
     "data": {
      "text/plain": [
       "[('Принимала', 'OUT'),\n",
       " ('Иммунал', 'B-Drugname'),\n",
       " ('строго', 'OUT'),\n",
       " ('по', 'OUT'),\n",
       " ('инструкции', 'OUT'),\n",
       " ('4', 'OUT'),\n",
       " ('раза', 'OUT'),\n",
       " ('в', 'OUT'),\n",
       " ('день', 'OUT'),\n",
       " ('3', 'OUT'),\n",
       " ('недели', 'OUT'),\n",
       " ('.', 'OUT')]"
      ]
     },
     "execution_count": 11,
     "metadata": {},
     "output_type": "execute_result"
    }
   ],
   "source": [
    "train_ready[5]"
   ]
  },
  {
   "cell_type": "code",
   "execution_count": 12,
   "metadata": {},
   "outputs": [
    {
     "data": {
      "text/plain": [
       "[('Рекомендую', 'OUT'), ('всем', 'OUT'), ('.', 'OUT')]"
      ]
     },
     "execution_count": 12,
     "metadata": {},
     "output_type": "execute_result"
    }
   ],
   "source": [
    "valid_tagged[3]"
   ]
  },
  {
   "cell_type": "code",
   "execution_count": 13,
   "metadata": {},
   "outputs": [],
   "source": [
    "true_tags_valid = [t[1] for t_list in valid_tagged for t in t_list]"
   ]
  },
  {
   "cell_type": "code",
   "execution_count": 14,
   "metadata": {},
   "outputs": [
    {
     "data": {
      "text/plain": [
       "['Рекомендую', 'всем', '.']"
      ]
     },
     "execution_count": 14,
     "metadata": {},
     "output_type": "execute_result"
    }
   ],
   "source": [
    "valid_untagged[3]"
   ]
  },
  {
   "cell_type": "code",
   "execution_count": 15,
   "metadata": {},
   "outputs": [],
   "source": [
    "valid_fortag = [i for i_list in valid_untagged for i in i_list]"
   ]
  },
  {
   "cell_type": "code",
   "execution_count": 16,
   "metadata": {},
   "outputs": [
    {
     "data": {
      "text/plain": [
       "['Ампулу', 'нужно', 'использовать', 'в', 'течение']"
      ]
     },
     "execution_count": 16,
     "metadata": {},
     "output_type": "execute_result"
    }
   ],
   "source": [
    "valid_fortag[:5]"
   ]
  },
  {
   "cell_type": "markdown",
   "metadata": {},
   "source": [
    "#### UnigramTagger\n"
   ]
  },
  {
   "cell_type": "code",
   "execution_count": 17,
   "metadata": {},
   "outputs": [],
   "source": [
    "unigram_tagger = UnigramTagger(train_ready)"
   ]
  },
  {
   "cell_type": "code",
   "execution_count": 18,
   "metadata": {},
   "outputs": [],
   "source": [
    "valid_tags = unigram_tagger.tag(valid_fortag)"
   ]
  },
  {
   "cell_type": "code",
   "execution_count": 19,
   "metadata": {
    "scrolled": false
   },
   "outputs": [
    {
     "data": {
      "text/plain": [
       "[('Ампулу', None),\n",
       " ('нужно', 'OUT'),\n",
       " ('использовать', 'OUT'),\n",
       " ('в', 'OUT'),\n",
       " ('течение', 'OUT'),\n",
       " ('короткого', None),\n",
       " ('времени', 'OUT'),\n",
       " ('.', 'OUT'),\n",
       " ('\"', 'OUT'),\n",
       " ('Интерферон', 'B-Drugname'),\n",
       " ('\"', 'OUT'),\n",
       " ('является', 'OUT'),\n",
       " ('одним', 'OUT'),\n",
       " ('из', 'OUT'),\n",
       " ('недорогих', None)]"
      ]
     },
     "metadata": {},
     "output_type": "display_data"
    },
    {
     "data": {
      "text/plain": [
       "0.8312119319069187"
      ]
     },
     "metadata": {},
     "output_type": "display_data"
    }
   ],
   "source": [
    "display(valid_tags[:15], unigram_tagger.evaluate(valid_tagged))"
   ]
  },
  {
   "cell_type": "code",
   "execution_count": null,
   "metadata": {},
   "outputs": [],
   "source": []
  },
  {
   "cell_type": "markdown",
   "metadata": {},
   "source": [
    "#### BigramTagger"
   ]
  },
  {
   "cell_type": "code",
   "execution_count": 20,
   "metadata": {},
   "outputs": [
    {
     "data": {
      "text/plain": [
       "[('Ампулу', None),\n",
       " ('нужно', 'OUT'),\n",
       " ('использовать', 'OUT'),\n",
       " ('в', 'OUT'),\n",
       " ('течение', 'OUT'),\n",
       " ('короткого', None),\n",
       " ('времени', 'OUT'),\n",
       " ('.', 'OUT'),\n",
       " ('\"', 'OUT'),\n",
       " ('Интерферон', 'B-Drugname'),\n",
       " ('\"', 'OUT'),\n",
       " ('является', 'OUT'),\n",
       " ('одним', 'OUT'),\n",
       " ('из', 'OUT'),\n",
       " ('недорогих', None)]"
      ]
     },
     "metadata": {},
     "output_type": "display_data"
    },
    {
     "data": {
      "text/plain": [
       "0.8299625175698891"
      ]
     },
     "metadata": {},
     "output_type": "display_data"
    }
   ],
   "source": [
    "bigram_tagger = BigramTagger(train_ready, backoff=unigram_tagger)\n",
    "display(bigram_tagger.tag(valid_fortag)[:15], bigram_tagger.evaluate(valid_tagged))"
   ]
  },
  {
   "cell_type": "markdown",
   "metadata": {},
   "source": [
    "#### TrigramTagger"
   ]
  },
  {
   "cell_type": "code",
   "execution_count": 21,
   "metadata": {},
   "outputs": [
    {
     "data": {
      "text/plain": [
       "[('Ампулу', None),\n",
       " ('нужно', 'OUT'),\n",
       " ('использовать', 'OUT'),\n",
       " ('в', 'OUT'),\n",
       " ('течение', 'OUT'),\n",
       " ('короткого', None),\n",
       " ('времени', 'OUT'),\n",
       " ('.', 'OUT'),\n",
       " ('\"', 'OUT'),\n",
       " ('Интерферон', 'B-Drugname'),\n",
       " ('\"', 'OUT'),\n",
       " ('является', 'OUT'),\n",
       " ('одним', 'OUT'),\n",
       " ('из', 'OUT'),\n",
       " ('недорогих', None)]"
      ]
     },
     "metadata": {},
     "output_type": "display_data"
    },
    {
     "data": {
      "text/plain": [
       "0.8297282523816961"
      ]
     },
     "metadata": {},
     "output_type": "display_data"
    }
   ],
   "source": [
    "trigram_tagger = TrigramTagger(train_ready, backoff=bigram_tagger)\n",
    "display(trigram_tagger.tag(valid_fortag)[:15], trigram_tagger.evaluate(valid_tagged))"
   ]
  },
  {
   "cell_type": "markdown",
   "metadata": {},
   "source": [
    "**Accuracy in unigram**"
   ]
  },
  {
   "cell_type": "code",
   "execution_count": 22,
   "metadata": {},
   "outputs": [],
   "source": [
    "df_unigram = pd.DataFrame({\"token\": valid_fortag,\n",
    "                           \"pred_tag\": [tag[1] for tag in valid_tags],\n",
    "                           \"true_tag\": [t[1] for t_list in valid_tagged for t in t_list]},\n",
    "                          columns=[\"token\", \"pred_tag\", \"true_tag\"])"
   ]
  },
  {
   "cell_type": "code",
   "execution_count": 23,
   "metadata": {},
   "outputs": [
    {
     "data": {
      "text/html": [
       "<div>\n",
       "<style scoped>\n",
       "    .dataframe tbody tr th:only-of-type {\n",
       "        vertical-align: middle;\n",
       "    }\n",
       "\n",
       "    .dataframe tbody tr th {\n",
       "        vertical-align: top;\n",
       "    }\n",
       "\n",
       "    .dataframe thead th {\n",
       "        text-align: right;\n",
       "    }\n",
       "</style>\n",
       "<table border=\"1\" class=\"dataframe\">\n",
       "  <thead>\n",
       "    <tr style=\"text-align: right;\">\n",
       "      <th></th>\n",
       "      <th>token</th>\n",
       "      <th>pred_tag</th>\n",
       "      <th>true_tag</th>\n",
       "    </tr>\n",
       "  </thead>\n",
       "  <tbody>\n",
       "    <tr>\n",
       "      <th>0</th>\n",
       "      <td>Ампулу</td>\n",
       "      <td>None</td>\n",
       "      <td>OUT</td>\n",
       "    </tr>\n",
       "    <tr>\n",
       "      <th>1</th>\n",
       "      <td>нужно</td>\n",
       "      <td>OUT</td>\n",
       "      <td>OUT</td>\n",
       "    </tr>\n",
       "    <tr>\n",
       "      <th>2</th>\n",
       "      <td>использовать</td>\n",
       "      <td>OUT</td>\n",
       "      <td>OUT</td>\n",
       "    </tr>\n",
       "    <tr>\n",
       "      <th>3</th>\n",
       "      <td>в</td>\n",
       "      <td>OUT</td>\n",
       "      <td>OUT</td>\n",
       "    </tr>\n",
       "    <tr>\n",
       "      <th>4</th>\n",
       "      <td>течение</td>\n",
       "      <td>OUT</td>\n",
       "      <td>OUT</td>\n",
       "    </tr>\n",
       "  </tbody>\n",
       "</table>\n",
       "</div>"
      ],
      "text/plain": [
       "          token pred_tag true_tag\n",
       "0        Ампулу     None      OUT\n",
       "1         нужно      OUT      OUT\n",
       "2  использовать      OUT      OUT\n",
       "3             в      OUT      OUT\n",
       "4       течение      OUT      OUT"
      ]
     },
     "execution_count": 23,
     "metadata": {},
     "output_type": "execute_result"
    }
   ],
   "source": [
    "df_unigram.head(5)"
   ]
  },
  {
   "cell_type": "code",
   "execution_count": 24,
   "metadata": {},
   "outputs": [],
   "source": [
    "df_unigram['accuracy_tag'] = 0"
   ]
  },
  {
   "cell_type": "code",
   "execution_count": 25,
   "metadata": {},
   "outputs": [],
   "source": [
    "df_unigram.loc[df_unigram['true_tag']==df_unigram['pred_tag'], ['accuracy_tag']] = 1"
   ]
  },
  {
   "cell_type": "code",
   "execution_count": 26,
   "metadata": {},
   "outputs": [
    {
     "data": {
      "text/html": [
       "<div>\n",
       "<style scoped>\n",
       "    .dataframe tbody tr th:only-of-type {\n",
       "        vertical-align: middle;\n",
       "    }\n",
       "\n",
       "    .dataframe tbody tr th {\n",
       "        vertical-align: top;\n",
       "    }\n",
       "\n",
       "    .dataframe thead th {\n",
       "        text-align: right;\n",
       "    }\n",
       "</style>\n",
       "<table border=\"1\" class=\"dataframe\">\n",
       "  <thead>\n",
       "    <tr style=\"text-align: right;\">\n",
       "      <th></th>\n",
       "      <th>token</th>\n",
       "      <th>pred_tag</th>\n",
       "      <th>true_tag</th>\n",
       "      <th>accuracy_tag</th>\n",
       "    </tr>\n",
       "  </thead>\n",
       "  <tbody>\n",
       "    <tr>\n",
       "      <th>0</th>\n",
       "      <td>Ампулу</td>\n",
       "      <td>None</td>\n",
       "      <td>OUT</td>\n",
       "      <td>0</td>\n",
       "    </tr>\n",
       "    <tr>\n",
       "      <th>1</th>\n",
       "      <td>нужно</td>\n",
       "      <td>OUT</td>\n",
       "      <td>OUT</td>\n",
       "      <td>1</td>\n",
       "    </tr>\n",
       "    <tr>\n",
       "      <th>2</th>\n",
       "      <td>использовать</td>\n",
       "      <td>OUT</td>\n",
       "      <td>OUT</td>\n",
       "      <td>1</td>\n",
       "    </tr>\n",
       "  </tbody>\n",
       "</table>\n",
       "</div>"
      ],
      "text/plain": [
       "          token pred_tag true_tag  accuracy_tag\n",
       "0        Ампулу     None      OUT             0\n",
       "1         нужно      OUT      OUT             1\n",
       "2  использовать      OUT      OUT             1"
      ]
     },
     "execution_count": 26,
     "metadata": {},
     "output_type": "execute_result"
    }
   ],
   "source": [
    "df_unigram.head(3)"
   ]
  },
  {
   "cell_type": "code",
   "execution_count": 27,
   "metadata": {},
   "outputs": [
    {
     "data": {
      "text/plain": [
       "OUT            23086\n",
       "B-DI             854\n",
       "B-ADR            676\n",
       "B-Drugname       412\n",
       "B-Drugform       303\n",
       "B-Finding        154\n",
       "B-Drugclass      127\n",
       "Name: true_tag, dtype: int64"
      ]
     },
     "execution_count": 27,
     "metadata": {},
     "output_type": "execute_result"
    }
   ],
   "source": [
    "df_unigram['true_tag'].value_counts()"
   ]
  },
  {
   "cell_type": "code",
   "execution_count": 28,
   "metadata": {},
   "outputs": [
    {
     "data": {
      "text/plain": [
       "OUT            20722\n",
       "B-DI             553\n",
       "B-Drugform       264\n",
       "B-ADR            247\n",
       "B-Drugname       221\n",
       "B-Drugclass       84\n",
       "B-Finding         48\n",
       "Name: pred_tag, dtype: int64"
      ]
     },
     "execution_count": 28,
     "metadata": {},
     "output_type": "execute_result"
    }
   ],
   "source": [
    "df_unigram['pred_tag'].value_counts()"
   ]
  },
  {
   "cell_type": "code",
   "execution_count": 29,
   "metadata": {},
   "outputs": [
    {
     "data": {
      "text/plain": [
       "accuracy_tag\n",
       "1               20229\n",
       "0                2857\n",
       "dtype: int64"
      ]
     },
     "execution_count": 29,
     "metadata": {},
     "output_type": "execute_result"
    }
   ],
   "source": [
    "df_unigram.loc[(df_unigram['true_tag']=='OUT'), ['accuracy_tag']].value_counts()"
   ]
  },
  {
   "cell_type": "code",
   "execution_count": 30,
   "metadata": {},
   "outputs": [],
   "source": [
    "def get_accuracy(tag_name):\n",
    "    accuracy_tags = df_unigram.loc[(df_unigram['true_tag']==tag_name), ['accuracy_tag']].value_counts()\n",
    "    accuracy_percent = accuracy_tags[1] / (accuracy_tags[1]+accuracy_tags[0])\n",
    "    return accuracy_percent"
   ]
  },
  {
   "cell_type": "code",
   "execution_count": 31,
   "metadata": {},
   "outputs": [
    {
     "name": "stdout",
     "output_type": "stream",
     "text": [
      "Accuracy for OUT tag is 0.876245343498224 %\n",
      "Accuracy for B-DI tag is 0.405152224824356 %\n",
      "Accuracy for B-Drugform tag is 0.834983498349835 %\n",
      "Accuracy for B-ADR tag is 0.23076923076923078 %\n",
      "Accuracy for B-Drugname tag is 0.5169902912621359 %\n",
      "Accuracy for B-Drugclass tag is 0.6456692913385826 %\n",
      "Accuracy for B-Finding tag is 0.06493506493506493 %\n"
     ]
    }
   ],
   "source": [
    "for tag_name in df_unigram['pred_tag'].value_counts().index:\n",
    "    print(f'Accuracy for {tag_name} tag is {get_accuracy(tag_name)} %')"
   ]
  },
  {
   "cell_type": "markdown",
   "metadata": {},
   "source": [
    "#### Комбинация тэггеров\n",
    "\n",
    "Примущество Backoff Tagging в том, что если текущий тэггер не знает, как тэггировать слово, он передает это следующему и так далее, пока не пройдет перебор по всем тэггерам. В данному случае тэггирование производит последовательность UnigramTagger, BigramTagger, TrigramTagger. Комбинация тэггеров дала немного лучший результат, чем UnigramTagger, BigramTagger по отдельности."
   ]
  },
  {
   "cell_type": "code",
   "execution_count": 32,
   "metadata": {},
   "outputs": [
    {
     "data": {
      "text/plain": [
       "0.8297282523816961"
      ]
     },
     "execution_count": 32,
     "metadata": {},
     "output_type": "execute_result"
    }
   ],
   "source": [
    "def backoff_tagger(train_sents, tagger_classes, backoff=None):\n",
    "    for cls in tagger_classes:\n",
    "        backoff = cls(train_sents, backoff=backoff)\n",
    "    return backoff\n",
    "\n",
    "\n",
    "backoff = DefaultTagger('NN') \n",
    "tag = backoff_tagger(train_ready,  \n",
    "                     [UnigramTagger, BigramTagger, TrigramTagger],  \n",
    "                     backoff = backoff) \n",
    "  \n",
    "tag.evaluate(valid_tagged) "
   ]
  },
  {
   "cell_type": "code",
   "execution_count": 33,
   "metadata": {},
   "outputs": [],
   "source": [
    "# the score ia identical to Trigram Tagger. Checking without backoff_tagger() function"
   ]
  },
  {
   "cell_type": "code",
   "execution_count": 34,
   "metadata": {},
   "outputs": [],
   "source": [
    "tag1 = UnigramTagger(train_ready, backoff=backoff)\n",
    "tag2 = BigramTagger(train_ready, backoff=tag1)\n",
    "tag3 = TrigramTagger(train_ready, backoff=tag2)"
   ]
  },
  {
   "cell_type": "code",
   "execution_count": 35,
   "metadata": {},
   "outputs": [
    {
     "data": {
      "text/plain": [
       "0.8297282523816961"
      ]
     },
     "execution_count": 35,
     "metadata": {},
     "output_type": "execute_result"
    }
   ],
   "source": [
    "tag3.evaluate(valid_tagged)"
   ]
  },
  {
   "cell_type": "code",
   "execution_count": 36,
   "metadata": {},
   "outputs": [],
   "source": [
    "# the same. Backoff on previous tagging didn't improve the result."
   ]
  }
 ],
 "metadata": {
  "kernelspec": {
   "display_name": "Python 3",
   "language": "python",
   "name": "python3"
  },
  "language_info": {
   "codemirror_mode": {
    "name": "ipython",
    "version": 3
   },
   "file_extension": ".py",
   "mimetype": "text/x-python",
   "name": "python",
   "nbconvert_exporter": "python",
   "pygments_lexer": "ipython3",
   "version": "3.7.9"
  }
 },
 "nbformat": 4,
 "nbformat_minor": 2
}
