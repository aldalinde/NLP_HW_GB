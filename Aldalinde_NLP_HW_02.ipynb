{
 "cells": [
  {
   "cell_type": "markdown",
   "metadata": {},
   "source": [
    "## Домашнее задание\n",
    "\n",
    "### Задание 1.\n",
    "\n",
    "**Задание**: обучите три классификатора: \n",
    "\n",
    "1) на токенах с высокой частотой \n",
    "\n",
    "2) на токенах со средней частотой \n",
    "\n",
    "3) на токенах с низкой частотой\n",
    "\n",
    "\n",
    "Сравните полученные результаты, оцените какие токены наиболее важные для классификации.\n",
    "\n",
    "\n",
    "### Задание 2.\n",
    "\n",
    "найти фичи с наибольшей значимостью, и вывести их\n",
    "\n",
    "\n",
    "### Задание 3.\n",
    "\n",
    "1) сравнить count/tf-idf/hashing векторайзеры/полносвязанную сетку (построить classification_report)\n",
    "\n",
    "2) подобрать оптимальный размер для hashing векторайзера \n",
    "\n",
    "3) убедиться что для сетки нет переобучения"
   ]
  },
  {
   "cell_type": "code",
   "execution_count": 1,
   "metadata": {},
   "outputs": [],
   "source": [
    "import os, sys\n",
    "\n",
    "module_path = os.path.abspath(os.path.join(os.pardir))\n",
    "if module_path not in sys.path:\n",
    "    sys.path.append(module_path) "
   ]
  },
  {
   "cell_type": "code",
   "execution_count": 2,
   "metadata": {
    "id": "J5YiZNCPLVPe"
   },
   "outputs": [],
   "source": [
    "import pandas as pd\n",
    "import numpy as np\n",
    "import re"
   ]
  },
  {
   "cell_type": "code",
   "execution_count": 3,
   "metadata": {},
   "outputs": [],
   "source": [
    "from sklearn.metrics import *\n",
    "from sklearn.model_selection import train_test_split\n",
    "from sklearn.pipeline import Pipeline\n",
    "from sklearn.linear_model import LogisticRegression"
   ]
  },
  {
   "cell_type": "code",
   "execution_count": 4,
   "metadata": {},
   "outputs": [],
   "source": [
    "import matplotlib.pyplot as plt\n",
    "%matplotlib inline"
   ]
  },
  {
   "cell_type": "code",
   "execution_count": 5,
   "metadata": {},
   "outputs": [],
   "source": [
    "from nltk import tokenize as tknz\n",
    "from nltk.tokenize import word_tokenize, wordpunct_tokenize\n",
    "from nltk.stem import PorterStemmer\n",
    "from nltk.stem.wordnet import WordNetLemmatizer"
   ]
  },
  {
   "cell_type": "code",
   "execution_count": 6,
   "metadata": {
    "colab": {
     "base_uri": "https://localhost:8080/"
    },
    "id": "fpWhsTuRLVRP",
    "outputId": "1cd18efe-a3cd-4f56-ec4c-bec8b6ee442e"
   },
   "outputs": [],
   "source": [
    "from nltk.corpus import stopwords"
   ]
  },
  {
   "cell_type": "code",
   "execution_count": 7,
   "metadata": {
    "colab": {
     "base_uri": "https://localhost:8080/",
     "height": 35
    },
    "id": "OdRF7rlyLVRS",
    "outputId": "dd4ce4f0-13d0-4b21-a3a1-b9ecb281894f"
   },
   "outputs": [],
   "source": [
    "import contractions\n",
    "from string import punctuation\n",
    "from collections import Counter"
   ]
  },
  {
   "cell_type": "code",
   "execution_count": 8,
   "metadata": {},
   "outputs": [],
   "source": [
    "import pickle\n",
    "with open('../data/Emoji_Dict.p', 'rb') as fp:\n",
    "    Emoji_Dict = pickle.load(fp)\n",
    "    Emoji_Dict = {v: k for k, v in Emoji_Dict.items() if ('face' in k or 'hand' in k)}"
   ]
  },
  {
   "cell_type": "code",
   "execution_count": 9,
   "metadata": {},
   "outputs": [
    {
     "data": {
      "text/plain": [
       "{'👌': ':OK_hand:',\n",
       " '👌 🏿': ':OK_hand_dark_skin_tone:',\n",
       " '👌 🏻': ':OK_hand_light_skin_tone:',\n",
       " '👌 🏾': ':OK_hand_medium-dark_skin_tone:',\n",
       " '👌 🏼': ':OK_hand_medium-light_skin_tone:',\n",
       " '👌 🏽': ':OK_hand_medium_skin_tone:',\n",
       " '😠': ':angry_face:',\n",
       " '👿': ':angry_face_with_horns:',\n",
       " '😧': ':anguished_face:',\n",
       " '😲': ':astonished_face:',\n",
       " '👇': ':backhand_index_pointing_down:',\n",
       " '👇 🏿': ':backhand_index_pointing_down_dark_skin_tone:',\n",
       " '👇 🏻': ':backhand_index_pointing_down_light_skin_tone:',\n",
       " '👇 🏾': ':backhand_index_pointing_down_medium-dark_skin_tone:',\n",
       " '👇 🏼': ':backhand_index_pointing_down_medium-light_skin_tone:',\n",
       " '👇 🏽': ':backhand_index_pointing_down_medium_skin_tone:',\n",
       " '👈': ':backhand_index_pointing_left:',\n",
       " '👈 🏿': ':backhand_index_pointing_left_dark_skin_tone:',\n",
       " '👈 🏻': ':backhand_index_pointing_left_light_skin_tone:',\n",
       " '👈 🏾': ':backhand_index_pointing_left_medium-dark_skin_tone:',\n",
       " '👈 🏼': ':backhand_index_pointing_left_medium-light_skin_tone:',\n",
       " '👈 🏽': ':backhand_index_pointing_left_medium_skin_tone:',\n",
       " '👉': ':backhand_index_pointing_right:',\n",
       " '👉 🏿': ':backhand_index_pointing_right_dark_skin_tone:',\n",
       " '👉 🏻': ':backhand_index_pointing_right_light_skin_tone:',\n",
       " '👉 🏾': ':backhand_index_pointing_right_medium-dark_skin_tone:',\n",
       " '👉 🏼': ':backhand_index_pointing_right_medium-light_skin_tone:',\n",
       " '👉 🏽': ':backhand_index_pointing_right_medium_skin_tone:',\n",
       " '👆': ':backhand_index_pointing_up:',\n",
       " '👆 🏿': ':backhand_index_pointing_up_dark_skin_tone:',\n",
       " '👆 🏻': ':backhand_index_pointing_up_light_skin_tone:',\n",
       " '👆 🏾': ':backhand_index_pointing_up_medium-dark_skin_tone:',\n",
       " '👆 🏼': ':backhand_index_pointing_up_medium-light_skin_tone:',\n",
       " '👆 🏽': ':backhand_index_pointing_up_medium_skin_tone:',\n",
       " '🐻': ':bear_face:',\n",
       " '🤙': ':call_me_hand:',\n",
       " '🤙 🏿': ':call_me_hand_dark_skin_tone:',\n",
       " '🤙 🏻': ':call_me_hand_light_skin_tone:',\n",
       " '🤙 🏾': ':call_me_hand_medium-dark_skin_tone:',\n",
       " '🤙 🏼': ':call_me_hand_medium-light_skin_tone:',\n",
       " '🤙 🏽': ':call_me_hand_medium_skin_tone:',\n",
       " '🐱': ':cat_face:',\n",
       " '😹': ':cat_face_with_tears_of_joy:',\n",
       " '😼': ':cat_face_with_wry_smile:',\n",
       " '👏': ':clapping_hands:',\n",
       " '👏 🏿': ':clapping_hands_dark_skin_tone:',\n",
       " '👏 🏻': ':clapping_hands_light_skin_tone:',\n",
       " '👏 🏾': ':clapping_hands_medium-dark_skin_tone:',\n",
       " '👏 🏼': ':clapping_hands_medium-light_skin_tone:',\n",
       " '👏 🏽': ':clapping_hands_medium_skin_tone:',\n",
       " '🤡': ':clown_face:',\n",
       " '😖': ':confounded_face:',\n",
       " '😕': ':confused_face:',\n",
       " '🐮': ':cow_face:',\n",
       " '🤠': ':cowboy_hat_face:',\n",
       " '😿': ':crying_cat_face:',\n",
       " '😢': ':crying_face:',\n",
       " '😥': ':disappointed_but_relieved_face:',\n",
       " '😞': ':disappointed_face:',\n",
       " '😵': ':dizzy_face:',\n",
       " '🐶': ':dog_face:',\n",
       " '🐲': ':dragon_face:',\n",
       " '🤤': ':drooling_face:',\n",
       " '😑': ':expressionless_face:',\n",
       " '😘': ':face_blowing_a_kiss:',\n",
       " '😋': ':face_savouring_delicious_food:',\n",
       " '😱': ':face_screaming_in_fear:',\n",
       " '😓': ':face_with_cold_sweat:',\n",
       " '🤕': ':face_with_head-bandage:',\n",
       " '😷': ':face_with_medical_mask:',\n",
       " '😮': ':face_with_open_mouth:',\n",
       " '😰': ':face_with_open_mouth_&_cold_sweat:',\n",
       " '🙄': ':face_with_rolling_eyes:',\n",
       " '😤': ':face_with_steam_from_nose:',\n",
       " '😛': ':face_with_stuck-out_tongue:',\n",
       " '😝': ':face_with_stuck-out_tongue_&_closed_eyes:',\n",
       " '😜': ':face_with_stuck-out_tongue_&_winking_eye:',\n",
       " '😂': ':face_with_tears_of_joy:',\n",
       " '🤒': ':face_with_thermometer:',\n",
       " '😶': ':face_without_mouth:',\n",
       " '😨': ':fearful_face:',\n",
       " '🌛': ':first_quarter_moon_with_face:',\n",
       " '😳': ':flushed_face:',\n",
       " '🙏': ':folded_hands:',\n",
       " '🙏 🏿': ':folded_hands_dark_skin_tone:',\n",
       " '🙏 🏻': ':folded_hands_light_skin_tone:',\n",
       " '🙏 🏾': ':folded_hands_medium-dark_skin_tone:',\n",
       " '🙏 🏼': ':folded_hands_medium-light_skin_tone:',\n",
       " '🙏 🏽': ':folded_hands_medium_skin_tone:',\n",
       " '🦊': ':fox_face:',\n",
       " '🐸': ':frog_face:',\n",
       " '☹': ':frowning_face:',\n",
       " '😦': ':frowning_face_with_open_mouth:',\n",
       " '🌝': ':full_moon_with_face:',\n",
       " '😬': ':grimacing_face:',\n",
       " '😸': ':grinning_cat_face_with_smiling_eyes:',\n",
       " '😀': ':grinning_face:',\n",
       " '😁': ':grinning_face_with_smiling_eyes:',\n",
       " '🐹': ':hamster_face:',\n",
       " '👜': ':handbag:',\n",
       " '🤝': ':handshake:',\n",
       " '🐴': ':horse_face:',\n",
       " '🤗': ':hugging_face:',\n",
       " '😯': ':hushed_face:',\n",
       " '😽': ':kissing_cat_face_with_closed_eyes:',\n",
       " '😗': ':kissing_face:',\n",
       " '😚': ':kissing_face_with_closed_eyes:',\n",
       " '😙': ':kissing_face_with_smiling_eyes:',\n",
       " '🌜': ':last_quarter_moon_with_face:',\n",
       " '🦁': ':lion_face:',\n",
       " '😭': ':loudly_crying_face:',\n",
       " '🤥': ':lying_face:',\n",
       " '👫': ':man_and_woman_holding_hands:',\n",
       " '🤦 \\u200d ♂ ️': ':man_facepalming:',\n",
       " '🤦 🏿 \\u200d ♂ ️': ':man_facepalming_dark_skin_tone:',\n",
       " '🤦 🏻 \\u200d ♂ ️': ':man_facepalming_light_skin_tone:',\n",
       " '🤦 🏾 \\u200d ♂ ️': ':man_facepalming_medium-dark_skin_tone:',\n",
       " '🤦 🏼 \\u200d ♂ ️': ':man_facepalming_medium-light_skin_tone:',\n",
       " '🤦 🏽 \\u200d ♂ ️': ':man_facepalming_medium_skin_tone:',\n",
       " '🤾 \\u200d ♂ ️': ':man_playing_handball:',\n",
       " '🤾 🏿 \\u200d ♂ ️': ':man_playing_handball_dark_skin_tone:',\n",
       " '🤾 🏻 \\u200d ♂ ️': ':man_playing_handball_light_skin_tone:',\n",
       " '🤾 🏾 \\u200d ♂ ️': ':man_playing_handball_medium-dark_skin_tone:',\n",
       " '🤾 🏼 \\u200d ♂ ️': ':man_playing_handball_medium-light_skin_tone:',\n",
       " '🤾 🏽 \\u200d ♂ ️': ':man_playing_handball_medium_skin_tone:',\n",
       " '🙋 \\u200d ♂ ️': ':man_raising_hand:',\n",
       " '🙋 🏿 \\u200d ♂ ️': ':man_raising_hand_dark_skin_tone:',\n",
       " '🙋 🏻 \\u200d ♂ ️': ':man_raising_hand_light_skin_tone:',\n",
       " '🙋 🏾 \\u200d ♂ ️': ':man_raising_hand_medium-dark_skin_tone:',\n",
       " '🙋 🏼 \\u200d ♂ ️': ':man_raising_hand_medium-light_skin_tone:',\n",
       " '🙋 🏽 \\u200d ♂ ️': ':man_raising_hand_medium_skin_tone:',\n",
       " '💁 \\u200d ♂ ️': ':man_tipping_hand:',\n",
       " '💁 🏿 \\u200d ♂ ️': ':man_tipping_hand_dark_skin_tone:',\n",
       " '💁 🏻 \\u200d ♂ ️': ':man_tipping_hand_light_skin_tone:',\n",
       " '💁 🏾 \\u200d ♂ ️': ':man_tipping_hand_medium-dark_skin_tone:',\n",
       " '💁 🏼 \\u200d ♂ ️': ':man_tipping_hand_medium-light_skin_tone:',\n",
       " '💁 🏽 \\u200d ♂ ️': ':man_tipping_hand_medium_skin_tone:',\n",
       " '🤑': ':money-mouth_face:',\n",
       " '🐵': ':monkey_face:',\n",
       " '🐭': ':mouse_face:',\n",
       " '🤢': ':nauseated_face:',\n",
       " '🤓': ':nerd_face:',\n",
       " '😐': ':neutral_face:',\n",
       " '🌚': ':new_moon_face:',\n",
       " '👐': ':open_hands:',\n",
       " '👐 🏿': ':open_hands_dark_skin_tone:',\n",
       " '👐 🏻': ':open_hands_light_skin_tone:',\n",
       " '👐 🏾': ':open_hands_medium-dark_skin_tone:',\n",
       " '👐 🏼': ':open_hands_medium-light_skin_tone:',\n",
       " '👐 🏽': ':open_hands_medium_skin_tone:',\n",
       " '🐼': ':panda_face:',\n",
       " '😔': ':pensive_face:',\n",
       " '😣': ':persevering_face:',\n",
       " '🤦': ':person_facepalming:',\n",
       " '🤦 🏿': ':person_facepalming_dark_skin_tone:',\n",
       " '🤦 🏻': ':person_facepalming_light_skin_tone:',\n",
       " '🤦 🏾': ':person_facepalming_medium-dark_skin_tone:',\n",
       " '🤦 🏼': ':person_facepalming_medium-light_skin_tone:',\n",
       " '🤦 🏽': ':person_facepalming_medium_skin_tone:',\n",
       " '🤾': ':person_playing_handball:',\n",
       " '🤾 🏿': ':person_playing_handball_dark_skin_tone:',\n",
       " '🤾 🏻': ':person_playing_handball_light_skin_tone:',\n",
       " '🤾 🏾': ':person_playing_handball_medium-dark_skin_tone:',\n",
       " '🤾 🏼': ':person_playing_handball_medium-light_skin_tone:',\n",
       " '🤾 🏽': ':person_playing_handball_medium_skin_tone:',\n",
       " '🙋': ':person_raising_hand:',\n",
       " '🙋 🏿': ':person_raising_hand_dark_skin_tone:',\n",
       " '🙋 🏻': ':person_raising_hand_light_skin_tone:',\n",
       " '🙋 🏾': ':person_raising_hand_medium-dark_skin_tone:',\n",
       " '🙋 🏼': ':person_raising_hand_medium-light_skin_tone:',\n",
       " '🙋 🏽': ':person_raising_hand_medium_skin_tone:',\n",
       " '💁': ':person_tipping_hand:',\n",
       " '💁 🏿': ':person_tipping_hand_dark_skin_tone:',\n",
       " '💁 🏻': ':person_tipping_hand_light_skin_tone:',\n",
       " '💁 🏾': ':person_tipping_hand_medium-dark_skin_tone:',\n",
       " '💁 🏼': ':person_tipping_hand_medium-light_skin_tone:',\n",
       " '💁 🏽': ':person_tipping_hand_medium_skin_tone:',\n",
       " '🐷': ':pig_face:',\n",
       " '😾': ':pouting_cat_face:',\n",
       " '😡': ':pouting_face:',\n",
       " '🐰': ':rabbit_face:',\n",
       " '🤚': ':raised_back_of_hand:',\n",
       " '🤚 🏿': ':raised_back_of_hand_dark_skin_tone:',\n",
       " '🤚 🏻': ':raised_back_of_hand_light_skin_tone:',\n",
       " '🤚 🏾': ':raised_back_of_hand_medium-dark_skin_tone:',\n",
       " '🤚 🏼': ':raised_back_of_hand_medium-light_skin_tone:',\n",
       " '🤚 🏽': ':raised_back_of_hand_medium_skin_tone:',\n",
       " '✋': ':raised_hand:',\n",
       " '✋ 🏿': ':raised_hand_dark_skin_tone:',\n",
       " '✋ 🏻': ':raised_hand_light_skin_tone:',\n",
       " '✋ 🏾': ':raised_hand_medium-dark_skin_tone:',\n",
       " '✋ 🏼': ':raised_hand_medium-light_skin_tone:',\n",
       " '✋ 🏽': ':raised_hand_medium_skin_tone:',\n",
       " '🖐': ':raised_hand_with_fingers_splayed:',\n",
       " '🖐 🏿': ':raised_hand_with_fingers_splayed_dark_skin_tone:',\n",
       " '🖐 🏻': ':raised_hand_with_fingers_splayed_light_skin_tone:',\n",
       " '🖐 🏾': ':raised_hand_with_fingers_splayed_medium-dark_skin_tone:',\n",
       " '🖐 🏼': ':raised_hand_with_fingers_splayed_medium-light_skin_tone:',\n",
       " '🖐 🏽': ':raised_hand_with_fingers_splayed_medium_skin_tone:',\n",
       " '🙌': ':raising_hands:',\n",
       " '🙌 🏿': ':raising_hands_dark_skin_tone:',\n",
       " '🙌 🏻': ':raising_hands_light_skin_tone:',\n",
       " '🙌 🏾': ':raising_hands_medium-dark_skin_tone:',\n",
       " '🙌 🏼': ':raising_hands_medium-light_skin_tone:',\n",
       " '🙌 🏽': ':raising_hands_medium_skin_tone:',\n",
       " '😌': ':relieved_face:',\n",
       " '🤖': ':robot_face:',\n",
       " '😴': ':sleeping_face:',\n",
       " '😪': ':sleepy_face:',\n",
       " '🙁': ':slightly_frowning_face:',\n",
       " '🙂': ':slightly_smiling_face:',\n",
       " '😻': ':smiling_cat_face_with_heart-eyes:',\n",
       " '😺': ':smiling_cat_face_with_open_mouth:',\n",
       " '☺': ':smiling_face:',\n",
       " '😇': ':smiling_face_with_halo:',\n",
       " '😍': ':smiling_face_with_heart-eyes:',\n",
       " '😈': ':smiling_face_with_horns:',\n",
       " '😃': ':smiling_face_with_open_mouth:',\n",
       " '😆': ':smiling_face_with_open_mouth_&_closed_eyes:',\n",
       " '😅': ':smiling_face_with_open_mouth_&_cold_sweat:',\n",
       " '😄': ':smiling_face_with_open_mouth_&_smiling_eyes:',\n",
       " '😊': ':smiling_face_with_smiling_eyes:',\n",
       " '😎': ':smiling_face_with_sunglasses:',\n",
       " '😏': ':smirking_face:',\n",
       " '🤧': ':sneezing_face:',\n",
       " '🌞': ':sun_with_face:',\n",
       " '🍵': ':teacup_without_handle:',\n",
       " '🤔': ':thinking_face:',\n",
       " '🐯': ':tiger_face:',\n",
       " '😫': ':tired_face:',\n",
       " '👬': ':two_men_holding_hands:',\n",
       " '👭': ':two_women_holding_hands:',\n",
       " '😒': ':unamused_face:',\n",
       " '🦄': ':unicorn_face:',\n",
       " '🙃': ':upside-down_face:',\n",
       " '✌': ':victory_hand:',\n",
       " '✌ 🏿': ':victory_hand_dark_skin_tone:',\n",
       " '✌ 🏻': ':victory_hand_light_skin_tone:',\n",
       " '✌ 🏾': ':victory_hand_medium-dark_skin_tone:',\n",
       " '✌ 🏼': ':victory_hand_medium-light_skin_tone:',\n",
       " '✌ 🏽': ':victory_hand_medium_skin_tone:',\n",
       " '👋': ':waving_hand:',\n",
       " '👋 🏿': ':waving_hand_dark_skin_tone:',\n",
       " '👋 🏻': ':waving_hand_light_skin_tone:',\n",
       " '👋 🏾': ':waving_hand_medium-dark_skin_tone:',\n",
       " '👋 🏼': ':waving_hand_medium-light_skin_tone:',\n",
       " '👋 🏽': ':waving_hand_medium_skin_tone:',\n",
       " '🙀': ':weary_cat_face:',\n",
       " '😩': ':weary_face:',\n",
       " '🌬': ':wind_face:',\n",
       " '😉': ':winking_face:',\n",
       " '🐺': ':wolf_face:',\n",
       " '🤦 \\u200d ♀ ️': ':woman_facepalming:',\n",
       " '🤦 🏿 \\u200d ♀ ️': ':woman_facepalming_dark_skin_tone:',\n",
       " '🤦 🏻 \\u200d ♀ ️': ':woman_facepalming_light_skin_tone:',\n",
       " '🤦 🏾 \\u200d ♀ ️': ':woman_facepalming_medium-dark_skin_tone:',\n",
       " '🤦 🏼 \\u200d ♀ ️': ':woman_facepalming_medium-light_skin_tone:',\n",
       " '🤦 🏽 \\u200d ♀ ️': ':woman_facepalming_medium_skin_tone:',\n",
       " '🤾 \\u200d ♀ ️': ':woman_playing_handball:',\n",
       " '🤾 🏿 \\u200d ♀ ️': ':woman_playing_handball_dark_skin_tone:',\n",
       " '🤾 🏻 \\u200d ♀ ️': ':woman_playing_handball_light_skin_tone:',\n",
       " '🤾 🏾 \\u200d ♀ ️': ':woman_playing_handball_medium-dark_skin_tone:',\n",
       " '🤾 🏼 \\u200d ♀ ️': ':woman_playing_handball_medium-light_skin_tone:',\n",
       " '🤾 🏽 \\u200d ♀ ️': ':woman_playing_handball_medium_skin_tone:',\n",
       " '🙋 \\u200d ♀ ️': ':woman_raising_hand:',\n",
       " '🙋 🏿 \\u200d ♀ ️': ':woman_raising_hand_dark_skin_tone:',\n",
       " '🙋 🏻 \\u200d ♀ ️': ':woman_raising_hand_light_skin_tone:',\n",
       " '🙋 🏾 \\u200d ♀ ️': ':woman_raising_hand_medium-dark_skin_tone:',\n",
       " '🙋 🏼 \\u200d ♀ ️': ':woman_raising_hand_medium-light_skin_tone:',\n",
       " '🙋 🏽 \\u200d ♀ ️': ':woman_raising_hand_medium_skin_tone:',\n",
       " '💁 \\u200d ♀ ️': ':woman_tipping_hand:',\n",
       " '💁 🏿 \\u200d ♀ ️': ':woman_tipping_hand_dark_skin_tone:',\n",
       " '💁 🏻 \\u200d ♀ ️': ':woman_tipping_hand_light_skin_tone:',\n",
       " '💁 🏾 \\u200d ♀ ️': ':woman_tipping_hand_medium-dark_skin_tone:',\n",
       " '💁 🏼 \\u200d ♀ ️': ':woman_tipping_hand_medium-light_skin_tone:',\n",
       " '💁 🏽 \\u200d ♀ ️': ':woman_tipping_hand_medium_skin_tone:',\n",
       " '😟': ':worried_face:',\n",
       " '✍': ':writing_hand:',\n",
       " '✍ 🏿': ':writing_hand_dark_skin_tone:',\n",
       " '✍ 🏻': ':writing_hand_light_skin_tone:',\n",
       " '✍ 🏾': ':writing_hand_medium-dark_skin_tone:',\n",
       " '✍ 🏼': ':writing_hand_medium-light_skin_tone:',\n",
       " '✍ 🏽': ':writing_hand_medium_skin_tone:',\n",
       " '🤐': ':zipper-mouth_face:'}"
      ]
     },
     "execution_count": 9,
     "metadata": {},
     "output_type": "execute_result"
    }
   ],
   "source": [
    "Emoji_Dict"
   ]
  },
  {
   "cell_type": "code",
   "execution_count": 10,
   "metadata": {},
   "outputs": [],
   "source": [
    "def preprocess_text(texts_list): # texts_list - an iterable of tweets\n",
    "    prepared_texts = []\n",
    "    \n",
    "    for text in texts_list:\n",
    "        \n",
    "        # 1) Удалим @user из всех твитов с помощью паттерна \"@[\\w]*\". \n",
    "        text = re.sub(\"@[\\w]*\", \" \", text)\n",
    "        \n",
    "        # 3) Заменим сокращения с апострофами (пример: ain't, can't) на пробел & 4)Заменим сокращения на их полные формы\n",
    "        expanded_words = []   \n",
    "        for word in text.split():\n",
    "            # using contractions.fix to expand the shortened words\n",
    "            expanded_words.append(contractions.fix(word))            \n",
    "        text = ' '.join(expanded_words)\n",
    "        \n",
    "        # 5) Заменим эмотиконы (пример: \":)\" = \"happy\") на пробелы \n",
    "        # \n",
    "        for emot in Emoji_Dict:\n",
    "            text = re.sub(r'('+emot+')', Emoji_Dict[emot], text)\n",
    "        \n",
    "        # 6) пунктуацию, используя re.sub() и паттерн r'[^\\w\\s]'\n",
    "        text = re.sub(r'[^\\w\\s]', \" \", text)\n",
    "        \n",
    "           \n",
    "        # 9) Удалим из текста слова длиной в 1 символ, используя ' '.join([w for w in x.split() if len(w)>1])\n",
    "        \n",
    "        text = ' '.join([w for w in text.split() if len(w)>1])\n",
    "        prepared_texts.append(text)\n",
    "        \n",
    "    \n",
    "    return prepared_texts"
   ]
  },
  {
   "cell_type": "code",
   "execution_count": 11,
   "metadata": {
    "id": "FmEcRD28LVQ0"
   },
   "outputs": [],
   "source": [
    "from sklearn.feature_extraction.text import TfidfVectorizer, CountVectorizer"
   ]
  },
  {
   "cell_type": "code",
   "execution_count": 12,
   "metadata": {},
   "outputs": [],
   "source": [
    "from natasha import Doc, MorphVocab, Segmenter, NewsEmbedding, NewsMorphTagger"
   ]
  },
  {
   "cell_type": "code",
   "execution_count": 13,
   "metadata": {
    "id": "vJZgfRnvIS2q"
   },
   "outputs": [],
   "source": [
    "def natasha_lemmatize(text):\n",
    "    doc = Doc(text)\n",
    "    doc.segment(segmenter)\n",
    "    doc.tag_morph(morph_tagger)\n",
    "    for token in doc.tokens:\n",
    "        token.lemmatize(morph_vocab)\n",
    "    return {_.text: _.lemma for _ in doc.tokens}"
   ]
  },
  {
   "cell_type": "code",
   "execution_count": 14,
   "metadata": {},
   "outputs": [],
   "source": [
    "segmenter = Segmenter()\n",
    "morph_vocab = MorphVocab()\n",
    "emb = NewsEmbedding()\n",
    "morph_tagger = NewsMorphTagger(emb)"
   ]
  },
  {
   "cell_type": "code",
   "execution_count": 15,
   "metadata": {
    "id": "DFLtXAZ-LVPq"
   },
   "outputs": [],
   "source": [
    "# считываем данные и заполняем общий датасет\n",
    "positive = pd.read_csv('../data/positive.csv', sep=';', usecols=[3], names=['text'])\n",
    "positive['label'] = ['positive'] * len(positive)\n",
    "negative = pd.read_csv('../data/negative.csv', sep=';', usecols=[3], names=['text'])\n",
    "negative['label'] = ['negative'] * len(negative)\n",
    "df = positive.append(negative)"
   ]
  },
  {
   "cell_type": "code",
   "execution_count": 16,
   "metadata": {},
   "outputs": [],
   "source": [
    "prepared_texts = preprocess_text(df.text)"
   ]
  },
  {
   "cell_type": "code",
   "execution_count": null,
   "metadata": {},
   "outputs": [],
   "source": []
  },
  {
   "cell_type": "code",
   "execution_count": 17,
   "metadata": {},
   "outputs": [],
   "source": [
    "df_prepared = pd.DataFrame(prepared_texts, columns=['text'])\n",
    "df_prepared['label'] = df['label'].values"
   ]
  },
  {
   "cell_type": "code",
   "execution_count": 18,
   "metadata": {},
   "outputs": [
    {
     "data": {
      "text/html": [
       "<div>\n",
       "<style scoped>\n",
       "    .dataframe tbody tr th:only-of-type {\n",
       "        vertical-align: middle;\n",
       "    }\n",
       "\n",
       "    .dataframe tbody tr th {\n",
       "        vertical-align: top;\n",
       "    }\n",
       "\n",
       "    .dataframe thead th {\n",
       "        text-align: right;\n",
       "    }\n",
       "</style>\n",
       "<table border=\"1\" class=\"dataframe\">\n",
       "  <thead>\n",
       "    <tr style=\"text-align: right;\">\n",
       "      <th></th>\n",
       "      <th>text</th>\n",
       "      <th>label</th>\n",
       "    </tr>\n",
       "  </thead>\n",
       "  <tbody>\n",
       "    <tr>\n",
       "      <th>0</th>\n",
       "      <td>хоть школота но поверь нас то же самое обществ...</td>\n",
       "      <td>positive</td>\n",
       "    </tr>\n",
       "    <tr>\n",
       "      <th>1</th>\n",
       "      <td>Да все таки он немного похож на него Но мой ма...</td>\n",
       "      <td>positive</td>\n",
       "    </tr>\n",
       "    <tr>\n",
       "      <th>2</th>\n",
       "      <td>RT Ну ты идиотка испугалась за тебя</td>\n",
       "      <td>positive</td>\n",
       "    </tr>\n",
       "  </tbody>\n",
       "</table>\n",
       "</div>"
      ],
      "text/plain": [
       "                                                text     label\n",
       "0  хоть школота но поверь нас то же самое обществ...  positive\n",
       "1  Да все таки он немного похож на него Но мой ма...  positive\n",
       "2                RT Ну ты идиотка испугалась за тебя  positive"
      ]
     },
     "execution_count": 18,
     "metadata": {},
     "output_type": "execute_result"
    }
   ],
   "source": [
    "df_prepared.head(3)"
   ]
  },
  {
   "cell_type": "code",
   "execution_count": 19,
   "metadata": {},
   "outputs": [
    {
     "data": {
      "text/plain": [
       "'Вот что значит страшилка Но блин посмотрев все части тебя создастся ощущение что авторы курили что то'"
      ]
     },
     "execution_count": 19,
     "metadata": {},
     "output_type": "execute_result"
    }
   ],
   "source": [
    "df_prepared['text'].iloc[4]"
   ]
  },
  {
   "cell_type": "code",
   "execution_count": 20,
   "metadata": {
    "colab": {
     "base_uri": "https://localhost:8080/",
     "height": 203
    },
    "id": "j1AEISlBLVP0",
    "outputId": "443eadf2-9df4-4507-f2a5-a64f7968182f"
   },
   "outputs": [
    {
     "data": {
      "text/plain": [
       "'@irina_dyshkant Вот что значит страшилка :D\\nНо блин,посмотрев все части,у тебя создастся ощущение,что авторы курили что-то :D'"
      ]
     },
     "execution_count": 20,
     "metadata": {},
     "output_type": "execute_result"
    }
   ],
   "source": [
    "df['text'].iloc[4]"
   ]
  },
  {
   "cell_type": "code",
   "execution_count": 21,
   "metadata": {
    "id": "ZWta7oDgLVP8"
   },
   "outputs": [],
   "source": [
    "x_train, x_test, y_train, y_test = train_test_split(df_prepared.text, df_prepared.label)"
   ]
  },
  {
   "cell_type": "code",
   "execution_count": 22,
   "metadata": {
    "colab": {
     "base_uri": "https://localhost:8080/"
    },
    "id": "vIjqSVjpLVSL",
    "outputId": "a75ec748-ab21-4bd0-cd41-5a9fa8362b22"
   },
   "outputs": [
    {
     "name": "stdout",
     "output_type": "stream",
     "text": [
      "2383623\n"
     ]
    },
    {
     "data": {
      "text/plain": [
       "['хоть',\n",
       " 'школота',\n",
       " 'но',\n",
       " 'поверь',\n",
       " 'нас',\n",
       " 'то',\n",
       " 'же',\n",
       " 'самое',\n",
       " 'общество',\n",
       " 'профилирующий']"
      ]
     },
     "execution_count": 22,
     "metadata": {},
     "output_type": "execute_result"
    }
   ],
   "source": [
    "corpus = [token for tweet in df_prepared.text for token in word_tokenize(tweet) if token not in punctuation]\n",
    "print(len(corpus))\n",
    "corpus[:10]"
   ]
  },
  {
   "cell_type": "code",
   "execution_count": 23,
   "metadata": {
    "id": "_oWC7NpkLVSO",
    "outputId": "965b9fbd-6328-4c13-f20f-cd3714d1adb4"
   },
   "outputs": [
    {
     "data": {
      "text/plain": [
       "[('не', 69730),\n",
       " ('RT', 38076),\n",
       " ('на', 35842),\n",
       " ('что', 33767),\n",
       " ('http', 33063),\n",
       " ('co', 33036),\n",
       " ('меня', 20769),\n",
       " ('то', 20245),\n",
       " ('как', 19461),\n",
       " ('так', 17053)]"
      ]
     },
     "execution_count": 23,
     "metadata": {},
     "output_type": "execute_result"
    }
   ],
   "source": [
    "freq_dict = Counter(corpus)\n",
    "freq_dict_sorted = sorted(freq_dict.items(), key=lambda x: -x[1])\n",
    "list(freq_dict_sorted)[:10]"
   ]
  },
  {
   "cell_type": "code",
   "execution_count": 24,
   "metadata": {
    "id": "FrPkce0SLVSQ",
    "outputId": "d2ab5675-433a-480a-90ee-fa5dd9890922"
   },
   "outputs": [],
   "source": [
    "first_50_freqs = [freq for word, freq in freq_dict_sorted[:50]]\n",
    "first_300_freqs = [freq for word, freq in freq_dict_sorted[:300]]\n",
    "first_100_freqs = [freq for word, freq in freq_dict_sorted[:100]]\n"
   ]
  },
  {
   "cell_type": "code",
   "execution_count": 25,
   "metadata": {},
   "outputs": [
    {
     "data": {
      "image/png": "[encoded data removed]",
      "text/plain": [
       "<Figure size 1440x1080 with 3 Axes>"
      ]
     },
     "metadata": {
      "needs_background": "light"
     },
     "output_type": "display_data"
    }
   ],
   "source": [
    "fig = plt.figure(figsize=(20,15))\n",
    "ax1 = fig.add_subplot(311)\n",
    "ax2 = fig.add_subplot(312)\n",
    "ax3 = fig.add_subplot(313)\n",
    "\n",
    "fig.suptitle('tokens by frequency')\n",
    "  # drawing a graph\n",
    "ax1.plot(first_300_freqs, label = 'most frequent 300')\n",
    "ax2.plot(first_100_freqs, label = 'most frequent 100')\n",
    "ax3.plot(first_50_freqs, label = 'most frequent 50')\n",
    "\n",
    "\n",
    "ax1.set_ylabel('frequency')\n",
    "ax1.legend()\n",
    "ax1.grid('On')\n",
    "\n",
    "ax2.set_ylabel('frequency')\n",
    "#ax2.legend()\n",
    "ax2.grid('On')\n",
    "\n",
    "ax3.set_ylabel('frequency')\n",
    "#ax3.legend()\n",
    "ax3.grid('On')\n",
    "plt.show()\n"
   ]
  },
  {
   "cell_type": "code",
   "execution_count": 26,
   "metadata": {
    "id": "OfXiH98XLVRV"
   },
   "outputs": [],
   "source": [
    "noise = stopwords.words('russian') + list(punctuation)"
   ]
  },
  {
   "cell_type": "markdown",
   "metadata": {},
   "source": [
    "tweets_clean = [token for tweet in df.text for token in word_tokenize(tweet) if token not in noise]\n",
    "print(len(tweets_clean))\n",
    "tweets_clean[:10]"
   ]
  },
  {
   "cell_type": "markdown",
   "metadata": {},
   "source": [
    "freq_tweets_clean = Counter(tweets_clean)\n",
    "freq_tweets_clean_sorted= sorted(freq_tweets_clean.items(), key=lambda x: -x[1])\n",
    "list(freq_tweets_clean_sorted)[:10]"
   ]
  },
  {
   "cell_type": "code",
   "execution_count": 27,
   "metadata": {},
   "outputs": [],
   "source": [
    "vocab_50_1000 = list(zip(*freq_dict_sorted[50:1000]))[0]\n",
    "vocab_50_500 = list(zip(*freq_dict_sorted[50:500]))[0]\n",
    "vocab_100_1000 = list(zip(*freq_dict_sorted[100:1000]))[0]\n",
    "vocab_100_500 = list(zip(*freq_dict_sorted[100:500]))[0]"
   ]
  },
  {
   "cell_type": "markdown",
   "metadata": {},
   "source": [
    "**building vectorizers with diff. params and varying arguements**"
   ]
  },
  {
   "cell_type": "code",
   "execution_count": 28,
   "metadata": {
    "colab": {
     "base_uri": "https://localhost:8080/"
    },
    "id": "AWLhMl9xLVQ3",
    "outputId": "054e5662-1c41-42f6-92e4-ce0194317ce8"
   },
   "outputs": [],
   "source": [
    "vec = TfidfVectorizer(ngram_range=(1, 1), tokenizer=word_tokenize, stop_words=noise)\n",
    "vec_max_1000 = TfidfVectorizer(ngram_range=(1, 1), tokenizer=word_tokenize, stop_words=noise, max_features = 1000)\n",
    "vec_max_500 = TfidfVectorizer(ngram_range=(1, 1), tokenizer=word_tokenize, stop_words=noise, max_features = 500)\n",
    "vec_max_100 = TfidfVectorizer(ngram_range=(1, 1), tokenizer=word_tokenize, stop_words=noise, max_features = 100)\n",
    "vec_max_50 = TfidfVectorizer(ngram_range=(1, 1), tokenizer=word_tokenize, stop_words=noise, max_features = 50)\n",
    "vec_50_1000 = TfidfVectorizer(ngram_range=(1, 1), tokenizer=word_tokenize, vocabulary=vocab_50_1000)\n",
    "vec_50_500 = TfidfVectorizer(ngram_range=(1, 1), tokenizer=word_tokenize, vocabulary=vocab_50_500)\n",
    "vec_100_1000 = TfidfVectorizer(ngram_range=(1, 1), tokenizer=word_tokenize, vocabulary=vocab_100_1000)\n",
    "vec_100_500 = TfidfVectorizer(ngram_range=(1, 1), tokenizer=word_tokenize, vocabulary=vocab_100_500)\n"
   ]
  },
  {
   "cell_type": "code",
   "execution_count": 29,
   "metadata": {},
   "outputs": [
    {
     "name": "stderr",
     "output_type": "stream",
     "text": [
      "C:\\Users\\Armik\\AppData\\Roaming\\Python\\Python37\\site-packages\\sklearn\\feature_extraction\\text.py:401: UserWarning: Your stop_words may be inconsistent with your preprocessing. Tokenizing the stop words generated tokens ['``'] not in stop_words.\n",
      "  % sorted(inconsistent)\n",
      "C:\\Users\\Armik\\AppData\\Roaming\\Python\\Python37\\site-packages\\sklearn\\feature_extraction\\text.py:1323: UserWarning: Upper case characters found in vocabulary while 'lowercase' is True. These entries will not be matched with any documents\n",
      "  \"Upper case characters found in\"\n"
     ]
    }
   ],
   "source": [
    "bow = vec.fit_transform(x_train)\n",
    "bow_max_1000 = vec_max_1000.fit_transform(x_train)\n",
    "bow_max_500 = vec_max_500.fit_transform(x_train)\n",
    "bow_max_100 = vec_max_100.fit_transform(x_train)\n",
    "bow_max_50 = vec_max_50.fit_transform(x_train)\n",
    "bow_50_1000 = vec_50_1000.fit_transform(x_train)\n",
    "bow_50_500 = vec_50_500.fit_transform(x_train)\n",
    "bow_100_1000 = vec_100_1000.fit_transform(x_train)\n",
    "bow_100_500 = vec_100_500.fit_transform(x_train)"
   ]
  },
  {
   "cell_type": "markdown",
   "metadata": {},
   "source": [
    "max_features : int, default=None\n",
    "    If not None, build a vocabulary that only consider the top\n",
    "    max_features ordered by term frequency across the corpus.\n",
    "\n",
    "    This parameter is ignored if vocabulary is not None.\n",
    "\n",
    "vocabulary : Mapping or iterable, default=None\n",
    "    Either a Mapping (e.g., a dict) where keys are terms and values are\n",
    "    indices in the feature matrix, or an iterable over terms. If not\n",
    "    given, a vocabulary is determined from the input documents. Indices\n",
    "    in the mapping should not be repeated and should not have any gap\n",
    "    between 0 and the largest index."
   ]
  },
  {
   "cell_type": "markdown",
   "metadata": {},
   "source": [
    "**original TfidfVectorizer on all tokens**"
   ]
  },
  {
   "cell_type": "code",
   "execution_count": 30,
   "metadata": {},
   "outputs": [
    {
     "name": "stderr",
     "output_type": "stream",
     "text": [
      "C:\\Users\\Armik\\AppData\\Roaming\\Python\\Python37\\site-packages\\sklearn\\linear_model\\_logistic.py:818: ConvergenceWarning: lbfgs failed to converge (status=1):\n",
      "STOP: TOTAL NO. of ITERATIONS REACHED LIMIT.\n",
      "\n",
      "Increase the number of iterations (max_iter) or scale the data as shown in:\n",
      "    https://scikit-learn.org/stable/modules/preprocessing.html\n",
      "Please also refer to the documentation for alternative solver options:\n",
      "    https://scikit-learn.org/stable/modules/linear_model.html#logistic-regression\n",
      "  extra_warning_msg=_LOGISTIC_SOLVER_CONVERGENCE_MSG,\n"
     ]
    },
    {
     "data": {
      "text/plain": [
       "LogisticRegression(random_state=42)"
      ]
     },
     "execution_count": 30,
     "metadata": {},
     "output_type": "execute_result"
    }
   ],
   "source": [
    "clf = LogisticRegression(random_state=42)\n",
    "clf.fit(bow, y_train)\n"
   ]
  },
  {
   "cell_type": "code",
   "execution_count": 31,
   "metadata": {},
   "outputs": [
    {
     "name": "stdout",
     "output_type": "stream",
     "text": [
      "              precision    recall  f1-score   support\n",
      "\n",
      "    negative       0.70      0.75      0.73     26170\n",
      "    positive       0.77      0.73      0.75     30539\n",
      "\n",
      "    accuracy                           0.74     56709\n",
      "   macro avg       0.74      0.74      0.74     56709\n",
      "weighted avg       0.74      0.74      0.74     56709\n",
      "\n"
     ]
    }
   ],
   "source": [
    "pred = clf.predict(vec.transform(x_test))\n",
    "print(classification_report(pred, y_test))"
   ]
  },
  {
   "cell_type": "markdown",
   "metadata": {},
   "source": [
    "**TfidfVectorizer on 1000 most frequent tokens**"
   ]
  },
  {
   "cell_type": "code",
   "execution_count": 33,
   "metadata": {},
   "outputs": [
    {
     "name": "stderr",
     "output_type": "stream",
     "text": [
      "C:\\Users\\Armik\\AppData\\Roaming\\Python\\Python37\\site-packages\\sklearn\\linear_model\\_logistic.py:818: ConvergenceWarning: lbfgs failed to converge (status=1):\n",
      "STOP: TOTAL NO. of ITERATIONS REACHED LIMIT.\n",
      "\n",
      "Increase the number of iterations (max_iter) or scale the data as shown in:\n",
      "    https://scikit-learn.org/stable/modules/preprocessing.html\n",
      "Please also refer to the documentation for alternative solver options:\n",
      "    https://scikit-learn.org/stable/modules/linear_model.html#logistic-regression\n",
      "  extra_warning_msg=_LOGISTIC_SOLVER_CONVERGENCE_MSG,\n"
     ]
    },
    {
     "data": {
      "text/plain": [
       "LogisticRegression(random_state=42)"
      ]
     },
     "execution_count": 33,
     "metadata": {},
     "output_type": "execute_result"
    }
   ],
   "source": [
    "clf_max_1000 = LogisticRegression(random_state=42)\n",
    "clf_max_1000.fit(bow_max_1000, y_train)"
   ]
  },
  {
   "cell_type": "code",
   "execution_count": 34,
   "metadata": {},
   "outputs": [
    {
     "name": "stdout",
     "output_type": "stream",
     "text": [
      "              precision    recall  f1-score   support\n",
      "\n",
      "    negative       0.66      0.67      0.67     27370\n",
      "    positive       0.69      0.67      0.68     29339\n",
      "\n",
      "    accuracy                           0.67     56709\n",
      "   macro avg       0.67      0.67      0.67     56709\n",
      "weighted avg       0.67      0.67      0.67     56709\n",
      "\n"
     ]
    }
   ],
   "source": [
    "pred_max_1000 = clf_max_1000.predict(vec_max_1000.transform(x_test))\n",
    "print(classification_report(pred_max_1000, y_test))"
   ]
  },
  {
   "cell_type": "markdown",
   "metadata": {},
   "source": [
    "**TfidfVectorizer on 500 most frequent tokens**"
   ]
  },
  {
   "cell_type": "code",
   "execution_count": 35,
   "metadata": {},
   "outputs": [
    {
     "name": "stderr",
     "output_type": "stream",
     "text": [
      "C:\\Users\\Armik\\AppData\\Roaming\\Python\\Python37\\site-packages\\sklearn\\linear_model\\_logistic.py:818: ConvergenceWarning: lbfgs failed to converge (status=1):\n",
      "STOP: TOTAL NO. of ITERATIONS REACHED LIMIT.\n",
      "\n",
      "Increase the number of iterations (max_iter) or scale the data as shown in:\n",
      "    https://scikit-learn.org/stable/modules/preprocessing.html\n",
      "Please also refer to the documentation for alternative solver options:\n",
      "    https://scikit-learn.org/stable/modules/linear_model.html#logistic-regression\n",
      "  extra_warning_msg=_LOGISTIC_SOLVER_CONVERGENCE_MSG,\n"
     ]
    },
    {
     "data": {
      "text/plain": [
       "LogisticRegression(random_state=42)"
      ]
     },
     "execution_count": 35,
     "metadata": {},
     "output_type": "execute_result"
    }
   ],
   "source": [
    "clf_max_500 = LogisticRegression(random_state=42)\n",
    "clf_max_500.fit(bow_max_500, y_train)"
   ]
  },
  {
   "cell_type": "code",
   "execution_count": 36,
   "metadata": {},
   "outputs": [
    {
     "name": "stdout",
     "output_type": "stream",
     "text": [
      "              precision    recall  f1-score   support\n",
      "\n",
      "    negative       0.65      0.65      0.65     28209\n",
      "    positive       0.66      0.66      0.66     28500\n",
      "\n",
      "    accuracy                           0.66     56709\n",
      "   macro avg       0.66      0.66      0.66     56709\n",
      "weighted avg       0.66      0.66      0.66     56709\n",
      "\n"
     ]
    }
   ],
   "source": [
    "pred_max_500 = clf_max_500.predict(vec_max_500.transform(x_test))\n",
    "print(classification_report(pred_max_500, y_test))"
   ]
  },
  {
   "cell_type": "markdown",
   "metadata": {},
   "source": [
    "**TfidfVectorizer on 100 most frequent tokens**"
   ]
  },
  {
   "cell_type": "code",
   "execution_count": 37,
   "metadata": {},
   "outputs": [
    {
     "data": {
      "text/plain": [
       "LogisticRegression(random_state=42)"
      ]
     },
     "execution_count": 37,
     "metadata": {},
     "output_type": "execute_result"
    }
   ],
   "source": [
    "clf_max_100 = LogisticRegression(random_state=42)\n",
    "clf_max_100.fit(bow_max_100, y_train)"
   ]
  },
  {
   "cell_type": "code",
   "execution_count": 38,
   "metadata": {},
   "outputs": [
    {
     "name": "stdout",
     "output_type": "stream",
     "text": [
      "              precision    recall  f1-score   support\n",
      "\n",
      "    negative       0.67      0.59      0.63     31898\n",
      "    positive       0.55      0.63      0.58     24811\n",
      "\n",
      "    accuracy                           0.61     56709\n",
      "   macro avg       0.61      0.61      0.61     56709\n",
      "weighted avg       0.62      0.61      0.61     56709\n",
      "\n"
     ]
    }
   ],
   "source": [
    "pred_max_100 = clf_max_100.predict(vec_max_100.transform(x_test))\n",
    "print(classification_report(pred_max_100, y_test))"
   ]
  },
  {
   "cell_type": "markdown",
   "metadata": {},
   "source": [
    "**TfidfVectorizer on 50 most frequent tokens**"
   ]
  },
  {
   "cell_type": "code",
   "execution_count": 39,
   "metadata": {},
   "outputs": [
    {
     "data": {
      "text/plain": [
       "LogisticRegression(random_state=42)"
      ]
     },
     "execution_count": 39,
     "metadata": {},
     "output_type": "execute_result"
    }
   ],
   "source": [
    "clf_max_50 = LogisticRegression(random_state=42)\n",
    "clf_max_50.fit(bow_max_50, y_train)"
   ]
  },
  {
   "cell_type": "code",
   "execution_count": 40,
   "metadata": {},
   "outputs": [
    {
     "name": "stdout",
     "output_type": "stream",
     "text": [
      "              precision    recall  f1-score   support\n",
      "\n",
      "    negative       0.68      0.57      0.62     33383\n",
      "    positive       0.50      0.62      0.55     23326\n",
      "\n",
      "    accuracy                           0.59     56709\n",
      "   macro avg       0.59      0.59      0.59     56709\n",
      "weighted avg       0.61      0.59      0.59     56709\n",
      "\n"
     ]
    }
   ],
   "source": [
    "pred_max_50 = clf_max_50.predict(vec_max_50.transform(x_test))\n",
    "print(classification_report(pred_max_50, y_test))"
   ]
  },
  {
   "cell_type": "markdown",
   "metadata": {},
   "source": [
    "**TfidfVectorizer on most frequent tokens in range 50 - 1000**"
   ]
  },
  {
   "cell_type": "code",
   "execution_count": 41,
   "metadata": {},
   "outputs": [
    {
     "data": {
      "text/plain": [
       "LogisticRegression(random_state=42)"
      ]
     },
     "execution_count": 41,
     "metadata": {},
     "output_type": "execute_result"
    }
   ],
   "source": [
    "clf_50_1000 = LogisticRegression(random_state=42)\n",
    "clf_50_1000.fit(bow_50_1000, y_train)"
   ]
  },
  {
   "cell_type": "code",
   "execution_count": 42,
   "metadata": {},
   "outputs": [
    {
     "name": "stdout",
     "output_type": "stream",
     "text": [
      "              precision    recall  f1-score   support\n",
      "\n",
      "    negative       0.57      0.69      0.62     23270\n",
      "    positive       0.75      0.64      0.69     33439\n",
      "\n",
      "    accuracy                           0.66     56709\n",
      "   macro avg       0.66      0.66      0.66     56709\n",
      "weighted avg       0.67      0.66      0.66     56709\n",
      "\n"
     ]
    }
   ],
   "source": [
    "pred_50_1000 = clf_50_1000.predict(vec_50_1000.transform(x_test))\n",
    "print(classification_report(pred_50_1000, y_test))"
   ]
  },
  {
   "cell_type": "markdown",
   "metadata": {},
   "source": [
    "**TfidfVectorizer on most frequent tokens in range 50 - 500**"
   ]
  },
  {
   "cell_type": "code",
   "execution_count": 43,
   "metadata": {},
   "outputs": [
    {
     "data": {
      "text/plain": [
       "LogisticRegression(random_state=42)"
      ]
     },
     "execution_count": 43,
     "metadata": {},
     "output_type": "execute_result"
    }
   ],
   "source": [
    "clf_50_500 = LogisticRegression(random_state=42)\n",
    "clf_50_500.fit(bow_50_500, y_train)"
   ]
  },
  {
   "cell_type": "code",
   "execution_count": 44,
   "metadata": {},
   "outputs": [
    {
     "name": "stdout",
     "output_type": "stream",
     "text": [
      "              precision    recall  f1-score   support\n",
      "\n",
      "    negative       0.51      0.66      0.58     21854\n",
      "    positive       0.74      0.61      0.67     34855\n",
      "\n",
      "    accuracy                           0.63     56709\n",
      "   macro avg       0.63      0.63      0.62     56709\n",
      "weighted avg       0.65      0.63      0.63     56709\n",
      "\n"
     ]
    }
   ],
   "source": [
    "pred_50_500 = clf_50_500.predict(vec_50_500.transform(x_test))\n",
    "print(classification_report(pred_50_500, y_test))"
   ]
  },
  {
   "cell_type": "markdown",
   "metadata": {},
   "source": [
    "**TfidfVectorizer on most frequent tokens in range 100 - 1000**"
   ]
  },
  {
   "cell_type": "code",
   "execution_count": 45,
   "metadata": {},
   "outputs": [
    {
     "data": {
      "text/plain": [
       "LogisticRegression(random_state=42)"
      ]
     },
     "execution_count": 45,
     "metadata": {},
     "output_type": "execute_result"
    }
   ],
   "source": [
    "clf_100_1000 = LogisticRegression(random_state=42)\n",
    "clf_100_1000.fit(bow_100_1000, y_train)"
   ]
  },
  {
   "cell_type": "code",
   "execution_count": 46,
   "metadata": {},
   "outputs": [
    {
     "name": "stdout",
     "output_type": "stream",
     "text": [
      "              precision    recall  f1-score   support\n",
      "\n",
      "    negative       0.53      0.68      0.60     22186\n",
      "    positive       0.75      0.62      0.68     34523\n",
      "\n",
      "    accuracy                           0.64     56709\n",
      "   macro avg       0.64      0.65      0.64     56709\n",
      "weighted avg       0.67      0.64      0.65     56709\n",
      "\n"
     ]
    }
   ],
   "source": [
    "pred_100_1000 = clf_100_1000.predict(vec_100_1000.transform(x_test))\n",
    "print(classification_report(pred_100_1000, y_test))"
   ]
  },
  {
   "cell_type": "markdown",
   "metadata": {},
   "source": [
    "**TfidfVectorizer on most frequent tokens in range 100 - 500**"
   ]
  },
  {
   "cell_type": "code",
   "execution_count": 47,
   "metadata": {},
   "outputs": [
    {
     "data": {
      "text/plain": [
       "LogisticRegression(random_state=42)"
      ]
     },
     "execution_count": 47,
     "metadata": {},
     "output_type": "execute_result"
    }
   ],
   "source": [
    "clf_100_500 = LogisticRegression(random_state=42)\n",
    "clf_100_500.fit(bow_100_500, y_train)"
   ]
  },
  {
   "cell_type": "code",
   "execution_count": 48,
   "metadata": {},
   "outputs": [
    {
     "name": "stdout",
     "output_type": "stream",
     "text": [
      "              precision    recall  f1-score   support\n",
      "\n",
      "    negative       0.46      0.65      0.54     19876\n",
      "    positive       0.76      0.59      0.66     36833\n",
      "\n",
      "    accuracy                           0.61     56709\n",
      "   macro avg       0.61      0.62      0.60     56709\n",
      "weighted avg       0.65      0.61      0.62     56709\n",
      "\n"
     ]
    }
   ],
   "source": [
    "pred_100_500 = clf_100_500.predict(vec_100_500.transform(x_test))\n",
    "print(classification_report(pred_100_500, y_test))"
   ]
  },
  {
   "cell_type": "markdown",
   "metadata": {},
   "source": [
    "first 50 features seem to be more critical for detecting negative tweets, and more rare (from 1000th) for positive. For linear regression model reducing the number of features seems to be unreasonable "
   ]
  },
  {
   "cell_type": "code",
   "execution_count": 75,
   "metadata": {},
   "outputs": [],
   "source": [
    "importance_1000_features = pd.DataFrame({'feature': list(vec_max_1000.vocabulary_.keys()), 'coeff': clf_max_1000.coef_[0]},\n",
    "                                        columns=['feature', 'coeff'])"
   ]
  },
  {
   "cell_type": "code",
   "execution_count": 77,
   "metadata": {},
   "outputs": [],
   "source": [
    "sort_importance_1000 = importance_1000_features.sort_values('coeff', axis=0, ascending=True)"
   ]
  },
  {
   "cell_type": "code",
   "execution_count": 78,
   "metadata": {},
   "outputs": [
    {
     "data": {
      "text/html": [
       "<div>\n",
       "<style scoped>\n",
       "    .dataframe tbody tr th:only-of-type {\n",
       "        vertical-align: middle;\n",
       "    }\n",
       "\n",
       "    .dataframe tbody tr th {\n",
       "        vertical-align: top;\n",
       "    }\n",
       "\n",
       "    .dataframe thead th {\n",
       "        text-align: right;\n",
       "    }\n",
       "</style>\n",
       "<table border=\"1\" class=\"dataframe\">\n",
       "  <thead>\n",
       "    <tr style=\"text-align: right;\">\n",
       "      <th></th>\n",
       "      <th>feature</th>\n",
       "      <th>coeff</th>\n",
       "    </tr>\n",
       "  </thead>\n",
       "  <tbody>\n",
       "    <tr>\n",
       "      <th>33</th>\n",
       "      <td>буду</td>\n",
       "      <td>-6.603334</td>\n",
       "    </tr>\n",
       "    <tr>\n",
       "      <th>530</th>\n",
       "      <td>тож</td>\n",
       "      <td>-4.716771</td>\n",
       "    </tr>\n",
       "    <tr>\n",
       "      <th>531</th>\n",
       "      <td>голос</td>\n",
       "      <td>-4.463395</td>\n",
       "    </tr>\n",
       "    <tr>\n",
       "      <th>584</th>\n",
       "      <td>сидит</td>\n",
       "      <td>-4.213940</td>\n",
       "    </tr>\n",
       "    <tr>\n",
       "      <th>171</th>\n",
       "      <td>готова</td>\n",
       "      <td>-4.054890</td>\n",
       "    </tr>\n",
       "    <tr>\n",
       "      <th>...</th>\n",
       "      <td>...</td>\n",
       "      <td>...</td>\n",
       "    </tr>\n",
       "    <tr>\n",
       "      <th>51</th>\n",
       "      <td>первый</td>\n",
       "      <td>2.907279</td>\n",
       "    </tr>\n",
       "    <tr>\n",
       "      <th>532</th>\n",
       "      <td>че</td>\n",
       "      <td>2.948030</td>\n",
       "    </tr>\n",
       "    <tr>\n",
       "      <th>671</th>\n",
       "      <td>смешно</td>\n",
       "      <td>3.168328</td>\n",
       "    </tr>\n",
       "    <tr>\n",
       "      <th>26</th>\n",
       "      <td>неужели</td>\n",
       "      <td>6.090281</td>\n",
       "    </tr>\n",
       "    <tr>\n",
       "      <th>25</th>\n",
       "      <td>своим</td>\n",
       "      <td>7.055800</td>\n",
       "    </tr>\n",
       "  </tbody>\n",
       "</table>\n",
       "<p>1000 rows × 2 columns</p>\n",
       "</div>"
      ],
      "text/plain": [
       "     feature     coeff\n",
       "33      буду -6.603334\n",
       "530      тож -4.716771\n",
       "531    голос -4.463395\n",
       "584    сидит -4.213940\n",
       "171   готова -4.054890\n",
       "..       ...       ...\n",
       "51    первый  2.907279\n",
       "532       че  2.948030\n",
       "671   смешно  3.168328\n",
       "26   неужели  6.090281\n",
       "25     своим  7.055800\n",
       "\n",
       "[1000 rows x 2 columns]"
      ]
     },
     "execution_count": 78,
     "metadata": {},
     "output_type": "execute_result"
    }
   ],
   "source": [
    "sort_importance_1000"
   ]
  }
 ],
 "metadata": {
  "colab": {
   "collapsed_sections": [
    "gJABxhalLVQu",
    "IaQMCGHFLVQ6",
    "5AJk1B39LVRP",
    "RJlvqWuALVRs",
    "rck5OVqhLVSA",
    "mV3fmzp-LVSU",
    "H5THCOjMLVSg",
    "02s2Vh7MLVSj",
    "b1khxRFDLVSm",
    "sfUmWcAQLVSt",
    "BxvtN-3zLVS5",
    "gyrHhYkgLVTB"
   ],
   "name": "sem1_intro_common.ipynb",
   "provenance": []
  },
  "kernelspec": {
   "display_name": "Python 3",
   "language": "python",
   "name": "python3"
  },
  "language_info": {
   "codemirror_mode": {
    "name": "ipython",
    "version": 3
   },
   "file_extension": ".py",
   "mimetype": "text/x-python",
   "name": "python",
   "nbconvert_exporter": "python",
   "pygments_lexer": "ipython3",
   "version": "3.7.9"
  }
 },
 "nbformat": 4,
 "nbformat_minor": 1
}
