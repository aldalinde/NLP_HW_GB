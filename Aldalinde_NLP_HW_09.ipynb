{
  "cells": [
    {
      "cell_type": "markdown",
      "metadata": {
        "id": "PdL51-XpXRf3"
      },
      "source": [
        "# Урок 9. Языковое моделирование\n",
        "\n",
        "Задание\n",
        "Разобраться с моделью генерации текста, собрать самим или взять датасет с вебинара и обучить генератор текстов"
      ]
    },
    {
      "cell_type": "code",
      "execution_count": 1,
      "metadata": {
        "id": "yG_n40gFzf9s"
      },
      "outputs": [],
      "source": [
        "import tensorflow as tf\n",
        "\n",
        "import numpy as np\n",
        "import pandas as pd\n",
        "import time"
      ]
    },
    {
      "cell_type": "code",
      "source": [
        "!pip install cuda-python"
      ],
      "metadata": {
        "colab": {
          "base_uri": "https://localhost:8080/"
        },
        "id": "o9oLXjo9XjCl",
        "outputId": "e6a43a92-0571-4d9c-8de7-ee222b81d633"
      },
      "execution_count": 2,
      "outputs": [
        {
          "output_type": "stream",
          "name": "stdout",
          "text": [
            "Looking in indexes: https://pypi.org/simple, https://us-python.pkg.dev/colab-wheels/public/simple/\n",
            "Requirement already satisfied: cuda-python in /usr/local/lib/python3.10/dist-packages (12.1.0)\n",
            "Requirement already satisfied: cython in /usr/local/lib/python3.10/dist-packages (from cuda-python) (0.29.34)\n"
          ]
        }
      ]
    },
    {
      "cell_type": "code",
      "execution_count": 3,
      "metadata": {
        "id": "IayAPAGzXRf7"
      },
      "outputs": [],
      "source": [
        "from cuda import cuda, nvrtc"
      ]
    },
    {
      "cell_type": "code",
      "execution_count": 4,
      "metadata": {
        "id": "wFpmZJcIXRf7"
      },
      "outputs": [],
      "source": [
        "import torch"
      ]
    },
    {
      "cell_type": "code",
      "execution_count": 5,
      "metadata": {
        "id": "40im6qorXRf8"
      },
      "outputs": [],
      "source": [
        "import torch.cuda"
      ]
    },
    {
      "cell_type": "code",
      "execution_count": 6,
      "metadata": {
        "id": "YfkBhqehXRf8"
      },
      "outputs": [],
      "source": [
        "def get_default_device():\n",
        "    if torch.cuda.is_available():\n",
        "        return torch.device('cuda')\n",
        "    else:\n",
        "        return torch.device('cpu')\n",
        "    \n",
        "def to_device(data, device):\n",
        "    if isinstance(data, (list,tuple)):\n",
        "        return [to_device(x, device) for x in data]\n",
        "    return data.to(device, non_blocking=True)\n",
        "\n",
        "class DeviceDataLoader():\n",
        "    def __init__(self, dl, device):\n",
        "        self.dl = dl\n",
        "        self.device = device\n",
        "        \n",
        "    def __iter__(self):\n",
        "        for b in self.dl: \n",
        "            yield to_device(b, self.device)\n",
        "\n",
        "    def __len__(self):\n",
        "        return len(self.dl)"
      ]
    },
    {
      "cell_type": "code",
      "execution_count": 7,
      "metadata": {
        "colab": {
          "base_uri": "https://localhost:8080/"
        },
        "id": "-PbcQulPXRf8",
        "outputId": "b9fdfc9c-d086-47dd-cdbb-aefc8c0e1f3a"
      },
      "outputs": [
        {
          "output_type": "execute_result",
          "data": {
            "text/plain": [
              "device(type='cuda')"
            ]
          },
          "metadata": {},
          "execution_count": 7
        }
      ],
      "source": [
        "device = get_default_device()\n",
        "device"
      ]
    },
    {
      "cell_type": "code",
      "source": [
        "from google.colab import drive\n",
        "drive.mount('/content/MyDrive')"
      ],
      "metadata": {
        "colab": {
          "base_uri": "https://localhost:8080/"
        },
        "id": "B2ULiPGnX07e",
        "outputId": "b89b59d2-9fc3-4583-d40c-67f08393a0d2"
      },
      "execution_count": 8,
      "outputs": [
        {
          "output_type": "stream",
          "name": "stdout",
          "text": [
            "Drive already mounted at /content/MyDrive; to attempt to forcibly remount, call drive.mount(\"/content/MyDrive\", force_remount=True).\n"
          ]
        }
      ]
    },
    {
      "cell_type": "code",
      "source": [
        "#path_to_file = '../data/evgenyi_onegin.txt'"
      ],
      "metadata": {
        "id": "pMj8Y_fTlOPF"
      },
      "execution_count": 9,
      "outputs": []
    },
    {
      "cell_type": "code",
      "execution_count": 10,
      "metadata": {
        "id": "BQrarICPXRf9"
      },
      "outputs": [],
      "source": [
        "import os, sys\n",
        "\n",
        "module_path = os.path.abspath(os.path.join(os.pardir))\n",
        "if module_path not in sys.path:\n",
        "    sys.path.append(module_path)"
      ]
    },
    {
      "cell_type": "code",
      "execution_count": 11,
      "metadata": {
        "id": "-an5tHuaRmqD"
      },
      "outputs": [],
      "source": [
        "path_to_file = \"/content/MyDrive/MyDrive/Python/data/evgenyi_onegin.txt\""
      ]
    },
    {
      "cell_type": "code",
      "execution_count": 12,
      "metadata": {
        "colab": {
          "base_uri": "https://localhost:8080/"
        },
        "id": "aavnuByVymwK",
        "outputId": "7648665d-5e17-443e-e0f8-f49e76a8167c"
      },
      "outputs": [
        {
          "output_type": "stream",
          "name": "stdout",
          "text": [
            "Length of text: 286984 characters\n"
          ]
        }
      ],
      "source": [
        "text = open(path_to_file, 'rb').read().decode(encoding='utf-8')\n",
        "# length of text is the number of characters in it\n",
        "print('Length of text: {} characters'.format(len(text)))"
      ]
    },
    {
      "cell_type": "code",
      "execution_count": 13,
      "metadata": {
        "id": "jtNGSzKn1o-6"
      },
      "outputs": [],
      "source": [
        "text = text + text"
      ]
    },
    {
      "cell_type": "code",
      "execution_count": 14,
      "metadata": {
        "colab": {
          "base_uri": "https://localhost:8080/"
        },
        "id": "IlCgQBRVymwR",
        "outputId": "dffb917b-afc5-48ce-b8bf-59f03f19cbe6"
      },
      "outputs": [
        {
          "output_type": "stream",
          "name": "stdout",
          "text": [
            "131 unique characters\n"
          ]
        }
      ],
      "source": [
        "# The unique characters in the file\n",
        "vocab = sorted(set(text))\n",
        "print('{} unique characters'.format(len(vocab)))"
      ]
    },
    {
      "cell_type": "code",
      "execution_count": 15,
      "metadata": {
        "id": "IalZLbvOzf-F"
      },
      "outputs": [],
      "source": [
        "# Creating a mapping from unique characters to indices\n",
        "char2idx = {u:i for i, u in enumerate(vocab)}\n",
        "idx2char = np.array(vocab)\n",
        "\n",
        "text_as_int = np.array([char2idx[c] for c in text])"
      ]
    },
    {
      "cell_type": "code",
      "execution_count": 16,
      "metadata": {
        "id": "p-DhY8bbTY3g"
      },
      "outputs": [],
      "source": [
        "#text_as_int, text, len(text_as_int), len(text)"
      ]
    },
    {
      "cell_type": "markdown",
      "metadata": {
        "id": "hgsVvVxnymwf"
      },
      "source": [
        "### train and target"
      ]
    },
    {
      "cell_type": "code",
      "execution_count": 17,
      "metadata": {
        "colab": {
          "base_uri": "https://localhost:8080/"
        },
        "id": "0UHJDA39zf-O",
        "outputId": "1c9df4f2-d26e-4680-9c10-566ee331054d"
      },
      "outputs": [
        {
          "output_type": "stream",
          "name": "stdout",
          "text": [
            "А\n",
            "л\n",
            "е\n",
            "к\n",
            "с\n"
          ]
        }
      ],
      "source": [
        "# The maximum length sentence you want for a single input in characters\n",
        "seq_length = 100\n",
        "examples_per_epoch = len(text)//(seq_length+1)\n",
        "\n",
        "# Create training examples / targets\n",
        "char_dataset = tf.data.Dataset.from_tensor_slices(text_as_int)\n",
        "\n",
        "for i in char_dataset.take(5):\n",
        "    print(idx2char[i.numpy()])"
      ]
    },
    {
      "cell_type": "code",
      "execution_count": 18,
      "metadata": {
        "colab": {
          "base_uri": "https://localhost:8080/"
        },
        "id": "y3kZBT9ZXRgB",
        "outputId": "3c775420-a6b8-4004-9f8b-270d0b3104fc"
      },
      "outputs": [
        {
          "output_type": "execute_result",
          "data": {
            "text/plain": [
              "573968"
            ]
          },
          "metadata": {},
          "execution_count": 18
        }
      ],
      "source": [
        "len(char_dataset)"
      ]
    },
    {
      "cell_type": "code",
      "execution_count": 19,
      "metadata": {
        "colab": {
          "base_uri": "https://localhost:8080/"
        },
        "id": "l4hkDU3i7ozi",
        "outputId": "50c62146-24a5-455b-ca73-5677d1304d7d"
      },
      "outputs": [
        {
          "output_type": "stream",
          "name": "stdout",
          "text": [
            "'Александр Сергеевич Пушкин\\n\\n                                Евгений Онегин\\n                          '\n",
            "'      Роман в стихах\\n\\n                        Не мысля гордый свет забавить,\\n                        '\n",
            "'Вниманье дружбы возлюбя,\\n                        Хотел бы я тебе представить\\n                        '\n",
            "'Залог достойнее тебя,\\n                        Достойнее души прекрасной,\\n                        Свят'\n",
            "'ой исполненной мечты,\\n                        Поэзии живой и ясной,\\n                        Высоких д'\n"
          ]
        }
      ],
      "source": [
        "sequences = char_dataset.batch(seq_length+1, drop_remainder=True)\n",
        "\n",
        "for item in sequences.take(5):\n",
        "    print(repr(''.join(idx2char[item.numpy()])))"
      ]
    },
    {
      "cell_type": "code",
      "execution_count": 20,
      "metadata": {
        "id": "9NGu-FkO_kYU"
      },
      "outputs": [],
      "source": [
        "def split_input_target(chunk):\n",
        "    input_text = chunk[:-1]\n",
        "    target_text = chunk[1:]\n",
        "    return input_text, target_text\n",
        "\n",
        "dataset = sequences.map(split_input_target)"
      ]
    },
    {
      "cell_type": "markdown",
      "metadata": {
        "id": "hiCopyGZymwi"
      },
      "source": [
        "Print the first example input and target values:"
      ]
    },
    {
      "cell_type": "code",
      "execution_count": 21,
      "metadata": {
        "colab": {
          "base_uri": "https://localhost:8080/"
        },
        "id": "GNbw-iR0ymwj",
        "outputId": "1b13524d-31c8-4cdd-a828-222aa0f472d0"
      },
      "outputs": [
        {
          "output_type": "stream",
          "name": "stdout",
          "text": [
            "Input data:  'Александр Сергеевич Пушкин\\n\\n                                Евгений Онегин\\n                         '\n",
            "Target data: 'лександр Сергеевич Пушкин\\n\\n                                Евгений Онегин\\n                          '\n"
          ]
        }
      ],
      "source": [
        "for input_example, target_example in  dataset.take(1):\n",
        "    print('Input data: ', repr(''.join(idx2char[input_example.numpy()])))\n",
        "    print('Target data:', repr(''.join(idx2char[target_example.numpy()])))"
      ]
    },
    {
      "cell_type": "code",
      "execution_count": 22,
      "metadata": {
        "colab": {
          "base_uri": "https://localhost:8080/"
        },
        "id": "p2pGotuNzf-S",
        "outputId": "a80148d9-9643-4fc2-8521-38e995b60277"
      },
      "outputs": [
        {
          "output_type": "execute_result",
          "data": {
            "text/plain": [
              "<_BatchDataset element_spec=(TensorSpec(shape=(64, 100), dtype=tf.int64, name=None), TensorSpec(shape=(64, 100), dtype=tf.int64, name=None))>"
            ]
          },
          "metadata": {},
          "execution_count": 22
        }
      ],
      "source": [
        "# Batch size\n",
        "BATCH_SIZE = 64\n",
        "\n",
        "# Buffer size to shuffle the dataset\n",
        "# (TF data is designed to work with possibly infinite sequences,\n",
        "# so it doesn't attempt to shuffle the entire sequence in memory. Instead,\n",
        "# it maintains a buffer in which it shuffles elements).\n",
        "BUFFER_SIZE = 10000\n",
        "\n",
        "dataset = dataset.shuffle(BUFFER_SIZE).batch(BATCH_SIZE, drop_remainder=True)\n",
        "\n",
        "dataset"
      ]
    },
    {
      "cell_type": "code",
      "execution_count": 23,
      "metadata": {
        "id": "zHT8cLh7EAsg"
      },
      "outputs": [],
      "source": [
        "# Length of the vocabulary in chars\n",
        "vocab_size = len(vocab)\n",
        "\n",
        "# The embedding dimension\n",
        "embedding_dim = 128\n",
        "\n",
        "# Number of RNN units\n",
        "rnn_units = 1024"
      ]
    },
    {
      "cell_type": "code",
      "execution_count": 24,
      "metadata": {
        "id": "MtCrdfzEI2N0"
      },
      "outputs": [],
      "source": [
        "def build_model_LSTM(vocab_size, embedding_dim, rnn_units, batch_size):\n",
        "    model = tf.keras.Sequential([\n",
        "        tf.keras.layers.Embedding(vocab_size, embedding_dim,\n",
        "                                  batch_input_shape=[batch_size, None]),\n",
        "                                 \n",
        "        tf.keras.layers.LSTM(rnn_units,\n",
        "                            return_sequences=True,\n",
        "                            stateful=True,\n",
        "                            recurrent_initializer='glorot_uniform'),\n",
        "\n",
        "        tf.keras.layers.LSTM(rnn_units,\n",
        "                            return_sequences=True,\n",
        "                            stateful=True,\n",
        "                            recurrent_initializer='glorot_uniform'),\n",
        " \n",
        "         tf.keras.layers.LSTM(rnn_units,\n",
        "                            return_sequences=True,\n",
        "                            stateful=True,\n",
        "                            recurrent_initializer='glorot_uniform'),\n",
        "        \n",
        "        tf.keras.layers.LSTM(rnn_units,\n",
        "                            return_sequences=True,\n",
        "                            stateful=True,\n",
        "                            recurrent_initializer='glorot_uniform'),\n",
        "                                   \n",
        "        tf.keras.layers.Dense(vocab_size)\n",
        "    ])\n",
        "    return model"
      ]
    },
    {
      "cell_type": "code",
      "execution_count": 25,
      "metadata": {
        "id": "wwsrpOik5zhv"
      },
      "outputs": [],
      "source": [
        "model = build_model_LSTM(\n",
        "    vocab_size=len(vocab),\n",
        "    embedding_dim=embedding_dim,\n",
        "    rnn_units=rnn_units,\n",
        "    batch_size=BATCH_SIZE)"
      ]
    },
    {
      "cell_type": "code",
      "execution_count": 26,
      "metadata": {
        "colab": {
          "base_uri": "https://localhost:8080/"
        },
        "id": "C-_70kKAPrPU",
        "outputId": "d3927039-452e-4d38-d53e-60098a9552b4"
      },
      "outputs": [
        {
          "output_type": "stream",
          "name": "stdout",
          "text": [
            "(64, 100, 131) # (batch_size, sequence_length, vocab_size)\n"
          ]
        }
      ],
      "source": [
        "for input_example_batch, target_example_batch in dataset.take(1):\n",
        "    example_batch_predictions = model(input_example_batch)\n",
        "    print(example_batch_predictions.shape, \"# (batch_size, sequence_length, vocab_size)\")\n",
        "  #  print(example_batch_predictions)"
      ]
    },
    {
      "cell_type": "code",
      "execution_count": 27,
      "metadata": {
        "colab": {
          "base_uri": "https://localhost:8080/"
        },
        "id": "vPGmAAXmVLGC",
        "outputId": "686dd714-cbc2-47ad-9c6f-757e0963272a"
      },
      "outputs": [
        {
          "output_type": "stream",
          "name": "stdout",
          "text": [
            "Model: \"sequential\"\n",
            "_________________________________________________________________\n",
            " Layer (type)                Output Shape              Param #   \n",
            "=================================================================\n",
            " embedding (Embedding)       (64, None, 128)           16768     \n",
            "                                                                 \n",
            " lstm (LSTM)                 (64, None, 1024)          4722688   \n",
            "                                                                 \n",
            " lstm_1 (LSTM)               (64, None, 1024)          8392704   \n",
            "                                                                 \n",
            " lstm_2 (LSTM)               (64, None, 1024)          8392704   \n",
            "                                                                 \n",
            " lstm_3 (LSTM)               (64, None, 1024)          8392704   \n",
            "                                                                 \n",
            " dense (Dense)               (64, None, 131)           134275    \n",
            "                                                                 \n",
            "=================================================================\n",
            "Total params: 30,051,843\n",
            "Trainable params: 30,051,843\n",
            "Non-trainable params: 0\n",
            "_________________________________________________________________\n"
          ]
        }
      ],
      "source": [
        "model.summary()"
      ]
    },
    {
      "cell_type": "markdown",
      "metadata": {
        "id": "LJL0Q0YPY6Ee"
      },
      "source": [
        "## Train LSTM model"
      ]
    },
    {
      "cell_type": "code",
      "execution_count": 28,
      "metadata": {
        "colab": {
          "base_uri": "https://localhost:8080/"
        },
        "id": "4HrXTACTdzY-",
        "outputId": "64a6b57b-093b-4c73-ed24-86c19119cfdd"
      },
      "outputs": [
        {
          "output_type": "stream",
          "name": "stdout",
          "text": [
            "Prediction shape:  (64, 100, 131)  # (batch_size, sequence_length, vocab_size)\n",
            "scalar_loss:       4.8764973\n"
          ]
        }
      ],
      "source": [
        "def loss(labels, logits):\n",
        "    return tf.keras.losses.sparse_categorical_crossentropy(labels, logits, from_logits=True)\n",
        "\n",
        "example_batch_loss = loss(target_example_batch, example_batch_predictions)\n",
        "print(\"Prediction shape: \", example_batch_predictions.shape, \" # (batch_size, sequence_length, vocab_size)\")\n",
        "print(\"scalar_loss:      \", example_batch_loss.numpy().mean())"
      ]
    },
    {
      "cell_type": "code",
      "execution_count": 29,
      "metadata": {
        "id": "DDl1_Een6rL0"
      },
      "outputs": [],
      "source": [
        "model.compile(optimizer='adam', loss=loss)"
      ]
    },
    {
      "cell_type": "markdown",
      "metadata": {
        "id": "ieSJdchZggUj"
      },
      "source": [
        "### Configure checkpoints"
      ]
    },
    {
      "cell_type": "code",
      "execution_count": 30,
      "metadata": {
        "id": "W6fWTriUZP-n"
      },
      "outputs": [],
      "source": [
        "# Directory where the checkpoints will be saved\n",
        "checkpoint_dir = './training_checkpoints'\n",
        "# Name of the checkpoint files\n",
        "checkpoint_prefix = os.path.join(checkpoint_dir, \"ckpt_{epoch}\")\n",
        "\n",
        "checkpoint_callback = tf.keras.callbacks.ModelCheckpoint(\n",
        "    filepath=checkpoint_prefix,\n",
        "    save_freq=88*3,\n",
        "    save_weights_only=True)"
      ]
    },
    {
      "cell_type": "markdown",
      "metadata": {
        "id": "3Ky3F_BhgkTW"
      },
      "source": [
        "### Execute the training"
      ]
    },
    {
      "cell_type": "code",
      "execution_count": 31,
      "metadata": {
        "id": "7yGBE2zxMMHs"
      },
      "outputs": [],
      "source": [
        "EPOCHS = 80"
      ]
    },
    {
      "cell_type": "code",
      "execution_count": 32,
      "metadata": {
        "colab": {
          "base_uri": "https://localhost:8080/"
        },
        "id": "UK-hmKjYVoll",
        "outputId": "c4bba2d7-be39-4175-9f4a-34af8fb644c7"
      },
      "outputs": [
        {
          "output_type": "stream",
          "name": "stdout",
          "text": [
            "Epoch 1/80\n",
            "88/88 [==============================] - 51s 388ms/step - loss: 2.0995\n",
            "Epoch 2/80\n",
            "88/88 [==============================] - 31s 348ms/step - loss: 1.5297\n",
            "Epoch 3/80\n",
            "88/88 [==============================] - 33s 366ms/step - loss: 1.3826\n",
            "Epoch 4/80\n",
            "88/88 [==============================] - 33s 360ms/step - loss: 1.3483\n",
            "Epoch 5/80\n",
            "88/88 [==============================] - 33s 366ms/step - loss: 1.3052\n",
            "Epoch 6/80\n",
            "88/88 [==============================] - 34s 381ms/step - loss: 1.2819\n",
            "Epoch 7/80\n",
            "88/88 [==============================] - 34s 372ms/step - loss: 1.2565\n",
            "Epoch 8/80\n",
            "88/88 [==============================] - 34s 380ms/step - loss: 1.2242\n",
            "Epoch 9/80\n",
            "88/88 [==============================] - 35s 389ms/step - loss: 1.1948\n",
            "Epoch 10/80\n",
            "88/88 [==============================] - 34s 374ms/step - loss: 1.1674\n",
            "Epoch 11/80\n",
            "88/88 [==============================] - 34s 375ms/step - loss: 1.1283\n",
            "Epoch 12/80\n",
            "88/88 [==============================] - 35s 387ms/step - loss: 1.0870\n",
            "Epoch 13/80\n",
            "88/88 [==============================] - 34s 378ms/step - loss: 1.0239\n",
            "Epoch 14/80\n",
            "88/88 [==============================] - 35s 381ms/step - loss: 1.0114\n",
            "Epoch 15/80\n",
            "88/88 [==============================] - 36s 395ms/step - loss: 0.9468\n",
            "Epoch 16/80\n",
            "88/88 [==============================] - 34s 379ms/step - loss: 0.9307\n",
            "Epoch 17/80\n",
            "88/88 [==============================] - 35s 384ms/step - loss: 0.8919\n",
            "Epoch 18/80\n",
            "88/88 [==============================] - 37s 399ms/step - loss: 0.8426\n",
            "Epoch 19/80\n",
            "88/88 [==============================] - 35s 377ms/step - loss: 0.7965\n",
            "Epoch 20/80\n",
            "88/88 [==============================] - 35s 382ms/step - loss: 0.7394\n",
            "Epoch 21/80\n",
            "88/88 [==============================] - 35s 392ms/step - loss: 0.6847\n",
            "Epoch 22/80\n",
            "88/88 [==============================] - 35s 381ms/step - loss: 0.6534\n",
            "Epoch 23/80\n",
            "88/88 [==============================] - 35s 384ms/step - loss: 0.5808\n",
            "Epoch 24/80\n",
            "88/88 [==============================] - 36s 398ms/step - loss: 0.5261\n",
            "Epoch 25/80\n",
            "88/88 [==============================] - 35s 381ms/step - loss: 0.4977\n",
            "Epoch 26/80\n",
            "88/88 [==============================] - 35s 384ms/step - loss: 0.4476\n",
            "Epoch 27/80\n",
            "88/88 [==============================] - 36s 400ms/step - loss: 0.4121\n",
            "Epoch 28/80\n",
            "88/88 [==============================] - 35s 386ms/step - loss: 0.3877\n",
            "Epoch 29/80\n",
            "88/88 [==============================] - 35s 388ms/step - loss: 0.3679\n",
            "Epoch 30/80\n",
            "88/88 [==============================] - 36s 401ms/step - loss: 0.3534\n",
            "Epoch 31/80\n",
            "88/88 [==============================] - 35s 384ms/step - loss: 0.3430\n",
            "Epoch 32/80\n",
            "88/88 [==============================] - 34s 380ms/step - loss: 0.3333\n",
            "Epoch 33/80\n",
            "88/88 [==============================] - 36s 396ms/step - loss: 0.3276\n",
            "Epoch 34/80\n",
            "88/88 [==============================] - 35s 381ms/step - loss: 0.3216\n",
            "Epoch 35/80\n",
            "88/88 [==============================] - 34s 379ms/step - loss: 0.3158\n",
            "Epoch 36/80\n",
            "88/88 [==============================] - 36s 395ms/step - loss: 0.3109\n",
            "Epoch 37/80\n",
            "88/88 [==============================] - 35s 384ms/step - loss: 0.3221\n",
            "Epoch 38/80\n",
            "88/88 [==============================] - 34s 381ms/step - loss: 0.3152\n",
            "Epoch 39/80\n",
            "88/88 [==============================] - 35s 391ms/step - loss: 0.3016\n",
            "Epoch 40/80\n",
            "88/88 [==============================] - 34s 377ms/step - loss: 0.2973\n",
            "Epoch 41/80\n",
            "88/88 [==============================] - 34s 376ms/step - loss: 0.2922\n",
            "Epoch 42/80\n",
            "88/88 [==============================] - 37s 398ms/step - loss: 0.3277\n",
            "Epoch 43/80\n",
            "88/88 [==============================] - 35s 378ms/step - loss: 0.2962\n",
            "Epoch 44/80\n",
            "88/88 [==============================] - 35s 383ms/step - loss: 0.2848\n",
            "Epoch 45/80\n",
            "88/88 [==============================] - 36s 396ms/step - loss: 0.2825\n",
            "Epoch 46/80\n",
            "88/88 [==============================] - 35s 385ms/step - loss: 0.2764\n",
            "Epoch 47/80\n",
            "88/88 [==============================] - 35s 387ms/step - loss: 0.2718\n",
            "Epoch 48/80\n",
            "88/88 [==============================] - 37s 401ms/step - loss: 0.2666\n",
            "Epoch 49/80\n",
            "88/88 [==============================] - 35s 384ms/step - loss: 0.2648\n",
            "Epoch 50/80\n",
            "88/88 [==============================] - 35s 387ms/step - loss: 0.2612\n",
            "Epoch 51/80\n",
            "88/88 [==============================] - 37s 399ms/step - loss: 0.2561\n",
            "Epoch 52/80\n",
            "88/88 [==============================] - 35s 388ms/step - loss: 0.2517\n",
            "Epoch 53/80\n",
            "88/88 [==============================] - 35s 384ms/step - loss: 0.2464\n",
            "Epoch 54/80\n",
            "88/88 [==============================] - 36s 399ms/step - loss: 0.2434\n",
            "Epoch 55/80\n",
            "88/88 [==============================] - 35s 387ms/step - loss: 0.2401\n",
            "Epoch 56/80\n",
            "88/88 [==============================] - 35s 389ms/step - loss: 0.2334\n",
            "Epoch 57/80\n",
            "88/88 [==============================] - 37s 401ms/step - loss: 0.2435\n",
            "Epoch 58/80\n",
            "88/88 [==============================] - 35s 390ms/step - loss: 0.2298\n",
            "Epoch 59/80\n",
            "88/88 [==============================] - 35s 391ms/step - loss: 0.2351\n",
            "Epoch 60/80\n",
            "88/88 [==============================] - 37s 401ms/step - loss: 0.2196\n",
            "Epoch 61/80\n",
            "88/88 [==============================] - 35s 384ms/step - loss: 0.2127\n",
            "Epoch 62/80\n",
            "88/88 [==============================] - 35s 387ms/step - loss: 0.2084\n",
            "Epoch 63/80\n",
            "88/88 [==============================] - 37s 401ms/step - loss: 0.2050\n",
            "Epoch 64/80\n",
            "88/88 [==============================] - 35s 389ms/step - loss: 0.1998\n",
            "Epoch 65/80\n",
            "88/88 [==============================] - 35s 390ms/step - loss: 0.1957\n",
            "Epoch 66/80\n",
            "88/88 [==============================] - 37s 402ms/step - loss: 0.1921\n",
            "Epoch 67/80\n",
            "88/88 [==============================] - 35s 389ms/step - loss: 0.1878\n",
            "Epoch 68/80\n",
            "88/88 [==============================] - 35s 390ms/step - loss: 0.1859\n",
            "Epoch 69/80\n",
            "88/88 [==============================] - 36s 402ms/step - loss: 0.1832\n",
            "Epoch 70/80\n",
            "88/88 [==============================] - 35s 388ms/step - loss: 0.1799\n",
            "Epoch 71/80\n",
            "88/88 [==============================] - 36s 389ms/step - loss: 0.1797\n",
            "Epoch 72/80\n",
            "88/88 [==============================] - 36s 403ms/step - loss: 0.1853\n",
            "Epoch 73/80\n",
            "88/88 [==============================] - 35s 386ms/step - loss: 0.1923\n",
            "Epoch 74/80\n",
            "88/88 [==============================] - 35s 388ms/step - loss: 0.1762\n",
            "Epoch 75/80\n",
            "88/88 [==============================] - 36s 401ms/step - loss: 0.1733\n",
            "Epoch 76/80\n",
            "88/88 [==============================] - 35s 384ms/step - loss: 0.1700\n",
            "Epoch 77/80\n",
            "88/88 [==============================] - 35s 387ms/step - loss: 0.1684\n",
            "Epoch 78/80\n",
            "88/88 [==============================] - 37s 400ms/step - loss: 0.1664\n",
            "Epoch 79/80\n",
            "88/88 [==============================] - 35s 384ms/step - loss: 0.1645\n",
            "Epoch 80/80\n",
            "88/88 [==============================] - 35s 387ms/step - loss: 0.1631\n"
          ]
        }
      ],
      "source": [
        "history = model.fit(dataset, epochs=EPOCHS, callbacks=[checkpoint_callback])"
      ]
    },
    {
      "cell_type": "markdown",
      "metadata": {
        "id": "kKkD5M6eoSiN"
      },
      "source": [
        "## Generate text"
      ]
    },
    {
      "cell_type": "code",
      "execution_count": 33,
      "metadata": {
        "colab": {
          "base_uri": "https://localhost:8080/",
          "height": 35
        },
        "id": "zk2WJ2-XjkGz",
        "outputId": "105c394b-4787-4b28-8d02-2ddb779f05e7"
      },
      "outputs": [
        {
          "output_type": "execute_result",
          "data": {
            "text/plain": [
              "'./training_checkpoints/ckpt_78'"
            ],
            "application/vnd.google.colaboratory.intrinsic+json": {
              "type": "string"
            }
          },
          "metadata": {},
          "execution_count": 33
        }
      ],
      "source": [
        "tf.train.latest_checkpoint(checkpoint_dir)"
      ]
    },
    {
      "cell_type": "code",
      "execution_count": 34,
      "metadata": {
        "id": "LycQ-ot_jjyu"
      },
      "outputs": [],
      "source": [
        "model = build_model_LSTM(vocab_size, embedding_dim, rnn_units, batch_size=1)\n",
        "model.load_weights(tf.train.latest_checkpoint(checkpoint_dir))\n",
        "model.build(tf.TensorShape([1, None]))"
      ]
    },
    {
      "cell_type": "code",
      "execution_count": 35,
      "metadata": {
        "colab": {
          "base_uri": "https://localhost:8080/"
        },
        "id": "71xa6jnYVrAN",
        "outputId": "8bd806f0-a93e-49be-d440-1b954a79c200"
      },
      "outputs": [
        {
          "output_type": "stream",
          "name": "stdout",
          "text": [
            "Model: \"sequential_1\"\n",
            "_________________________________________________________________\n",
            " Layer (type)                Output Shape              Param #   \n",
            "=================================================================\n",
            " embedding_1 (Embedding)     (1, None, 128)            16768     \n",
            "                                                                 \n",
            " lstm_4 (LSTM)               (1, None, 1024)           4722688   \n",
            "                                                                 \n",
            " lstm_5 (LSTM)               (1, None, 1024)           8392704   \n",
            "                                                                 \n",
            " lstm_6 (LSTM)               (1, None, 1024)           8392704   \n",
            "                                                                 \n",
            " lstm_7 (LSTM)               (1, None, 1024)           8392704   \n",
            "                                                                 \n",
            " dense_1 (Dense)             (1, None, 131)            134275    \n",
            "                                                                 \n",
            "=================================================================\n",
            "Total params: 30,051,843\n",
            "Trainable params: 30,051,843\n",
            "Non-trainable params: 0\n",
            "_________________________________________________________________\n"
          ]
        }
      ],
      "source": [
        "model.summary()"
      ]
    },
    {
      "cell_type": "markdown",
      "source": [
        "**working with GRU model**"
      ],
      "metadata": {
        "id": "WjYZTPlQeaBP"
      }
    },
    {
      "cell_type": "code",
      "execution_count": 36,
      "metadata": {
        "id": "WvuwZBX5Ogfd"
      },
      "outputs": [],
      "source": [
        "def generate_text(model, start_string):\n",
        "    # Evaluation step (generating text using the learned model)\n",
        "\n",
        "    # Number of characters to generate\n",
        "    num_generate = 500\n",
        "\n",
        "    # Converting our start string to numbers (vectorizing)\n",
        "    input_eval = [char2idx[s] for s in start_string]\n",
        "    input_eval = tf.expand_dims(input_eval, 0)\n",
        "\n",
        "    # Empty string to store our results\n",
        "    text_generated = []\n",
        "\n",
        "    # Low temperature results in more predictable text.\n",
        "    # Higher temperature results in more surprising text.\n",
        "    # Experiment to find the best setting.\n",
        "    temperature = 1\n",
        "\n",
        "    # Here batch size == 1\n",
        "    model.reset_states()\n",
        "    for i in range(num_generate):\n",
        "        predictions = model(input_eval)\n",
        "        predictions = tf.squeeze(predictions, 0)\n",
        "        # using a categorical distribution to predict the character returned by the model\n",
        "        predictions = predictions / temperature\n",
        "        predicted_id = tf.random.categorical(predictions, num_samples=1)[-1, 0].numpy()\n",
        "\n",
        "        # Pass the predicted character as the next input to the model\n",
        "        # along with the previous hidden state\n",
        "        input_eval = tf.expand_dims([predicted_id], 0)\n",
        "\n",
        "        text_generated.append(idx2char[predicted_id])\n",
        "\n",
        "    return (start_string + ''.join(text_generated))"
      ]
    },
    {
      "cell_type": "code",
      "execution_count": 37,
      "metadata": {
        "colab": {
          "base_uri": "https://localhost:8080/"
        },
        "id": "ktovv0RFhrkn",
        "outputId": "fe849162-5842-441e-8e16-ec5457a2dac3"
      },
      "outputs": [
        {
          "output_type": "stream",
          "name": "stdout",
          "text": [
            "И вот идет уже сто наши лучшие желанья,\n",
            "                        Что я богата и знатна,\n",
            "                        Что муж в сраженьях изувечных,\n",
            "                            Из блюда, полного водою,\n",
            "                        Вошла и села у окна. -\n",
            "                    И пропую в сей небрежной\n",
            "                        Зарецкий тридцати случайной...\n",
            "                        Всего, что мой Онегин знал...\n",
            "                      Ночлег отдаминой\n",
            "                           И в сторону свой путь направим,\n",
            "                     \n"
          ]
        }
      ],
      "source": [
        "text_ = generate_text(model, start_string=u\"И вот идет уже \")\n",
        "print(text_)"
      ]
    },
    {
      "cell_type": "code",
      "execution_count": 38,
      "metadata": {
        "colab": {
          "base_uri": "https://localhost:8080/"
        },
        "id": "4wqVniuFpofL",
        "outputId": "ccc74706-f4aa-4463-91d0-5fc24623d7d7"
      },
      "outputs": [
        {
          "output_type": "execute_result",
          "data": {
            "text/plain": [
              "515"
            ]
          },
          "metadata": {},
          "execution_count": 38
        }
      ],
      "source": [
        "len(text_)"
      ]
    },
    {
      "cell_type": "code",
      "execution_count": 39,
      "metadata": {
        "id": "FNfDlxWZ8NXK"
      },
      "outputs": [],
      "source": [
        "def build_model_GRU(vocab_size, embedding_dim, rnn_units, batch_size):\n",
        "    model = tf.keras.Sequential([\n",
        "        tf.keras.layers.Embedding(vocab_size, embedding_dim),\n",
        "                                 \n",
        "        tf.keras.layers.GRU(rnn_units,\n",
        "                            return_sequences=True,\n",
        "                            stateful=False,\n",
        "                            recurrent_initializer='glorot_uniform'),\n",
        "\n",
        "        tf.keras.layers.GRU(rnn_units,\n",
        "                            return_sequences=True,\n",
        "                            stateful=False,\n",
        "                            recurrent_initializer='glorot_uniform'),\n",
        "\n",
        "         tf.keras.layers.GRU(rnn_units,\n",
        "                            return_sequences=True,\n",
        "                            stateful=False,\n",
        "                            recurrent_initializer='glorot_uniform'),\n",
        "                                   \n",
        "        tf.keras.layers.Dense(vocab_size)\n",
        "    ])\n",
        "    return model"
      ]
    },
    {
      "cell_type": "code",
      "execution_count": 40,
      "metadata": {
        "id": "0NlTtjbAeWLM"
      },
      "outputs": [],
      "source": [
        "model_GRU = build_model_GRU(\n",
        "    vocab_size=len(vocab),\n",
        "    embedding_dim=embedding_dim,\n",
        "    rnn_units=rnn_units,\n",
        "    batch_size=BATCH_SIZE)"
      ]
    },
    {
      "cell_type": "code",
      "source": [
        "model_GRU.compile(optimizer='adam', loss=loss)"
      ],
      "metadata": {
        "id": "IbJsi_Kdgh84"
      },
      "execution_count": 41,
      "outputs": []
    },
    {
      "cell_type": "code",
      "source": [
        "model_GRU.fit(dataset, epochs=EPOCHS, callbacks=[checkpoint_callback])"
      ],
      "metadata": {
        "colab": {
          "base_uri": "https://localhost:8080/"
        },
        "id": "ztOnhtFlizED",
        "outputId": "4e7c9166-cbac-4a4f-fb8d-7750bf56fccb"
      },
      "execution_count": null,
      "outputs": [
        {
          "output_type": "stream",
          "name": "stdout",
          "text": [
            "Epoch 1/80\n",
            "88/88 [==============================] - 25s 228ms/step - loss: 2.0011\n",
            "Epoch 2/80\n",
            "88/88 [==============================] - 19s 205ms/step - loss: 1.4994\n",
            "Epoch 3/80\n",
            "69/88 [======================>.......] - ETA: 3s - loss: 1.3312"
          ]
        }
      ]
    },
    {
      "cell_type": "code",
      "source": [
        "model_GRU.summary()"
      ],
      "metadata": {
        "id": "YjEILisfi9ak"
      },
      "execution_count": null,
      "outputs": []
    },
    {
      "cell_type": "code",
      "execution_count": null,
      "metadata": {
        "id": "hjuhCdppiVqy"
      },
      "outputs": [],
      "source": [
        "text_01 = generate_text(model_GRU, start_string=u\"Я памятник воздвиг \")\n",
        "print(text_01)"
      ]
    },
    {
      "cell_type": "code",
      "execution_count": null,
      "metadata": {
        "id": "6Gg4O1XnXRgK"
      },
      "outputs": [],
      "source": [
        "text_02 = generate_text(model_GRU, start_string=u\"                  О, Боже, Боже, все негоже\")\n",
        "print(text_02)"
      ]
    },
    {
      "cell_type": "code",
      "execution_count": null,
      "metadata": {
        "id": "a4QoN0jeXRgK"
      },
      "outputs": [],
      "source": []
    }
  ],
  "metadata": {
    "accelerator": "GPU",
    "colab": {
      "provenance": [],
      "toc_visible": true
    },
    "kernelspec": {
      "display_name": "Python 3 (ipykernel)",
      "language": "python",
      "name": "python3"
    },
    "language_info": {
      "codemirror_mode": {
        "name": "ipython",
        "version": 3
      },
      "file_extension": ".py",
      "mimetype": "text/x-python",
      "name": "python",
      "nbconvert_exporter": "python",
      "pygments_lexer": "ipython3",
      "version": "3.9.13"
    }
  },
  "nbformat": 4,
  "nbformat_minor": 0
}