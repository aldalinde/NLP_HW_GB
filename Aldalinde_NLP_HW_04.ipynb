{
  "cells": [
    {
      "cell_type": "markdown",
      "metadata": {
        "id": "D7S_r8lRyU6E"
      },
      "source": [
        "Задача тематическое моделирование\n",
        "\n",
        "продолжаем исследование датасета с твитами\n",
        "\n",
        "Скачиваем датасет (источник): положительные, отрицательные.\n",
        "\n",
        "или можно через ноутбук\n",
        "\n",
        "!wget https://www.dropbox.com/s/fnpq3z4bcnoktiv/positive.csv\n",
        "!wget https://www.dropbox.com/s/r6u59ljhhjdg6j0/negative.csv\n",
        "\n",
        "\n",
        "что надо сделать\n",
        "1. объединить в одну выборку (это только для твитов), для роспотребнадзора сформировать датасет из вопросов\n",
        "2. провести исследование и выявить тематики о которых говорят в твитах (для твитов), а для роспотребнадзора так же выявить тематики о которых люди пишут проанализировать\n",
        "3. сделать визуализацию кластеров тематик\n",
        "4. проинтерпритировать получившиеся тематики"
      ]
    },
    {
      "cell_type": "markdown",
      "source": [
        "**I think that most tweets are just emotional reactions to smth, aka BS. They are usually without any coherent contence, so it's very interesting to see the model's attempt to sqweeze anything worthy out of them**"
      ],
      "metadata": {
        "id": "khBMPvQ5Cyw-"
      }
    },
    {
      "cell_type": "code",
      "source": [
        "!apt-get --yes update\n",
        "!apt-get --yes install git make cmake build-essential libboost-all-dev\n",
        "!apt-get --yes install python-numpy python-pandas python-scipy\n",
        "!wget https://bootstrap.pypa.io/get-pip.py\n",
        "!python get-pip.py\n",
        "!pip install protobuf tqdm wheel\n",
        "!git clone --branch=stable https://github.com/bigartm/bigartm.git"
      ],
      "metadata": {
        "colab": {
          "base_uri": "https://localhost:8080/"
        },
        "id": "vdgxtsnj0Kps",
        "outputId": "dadf0255-be29-4840-bd95-6cdc54d246c6"
      },
      "execution_count": 1,
      "outputs": [
        {
          "output_type": "stream",
          "name": "stdout",
          "text": [
            "\r0% [Working]\r            \rHit:1 http://archive.ubuntu.com/ubuntu focal InRelease\n",
            "\r0% [Waiting for headers] [Connecting to security.ubuntu.com] [Connected to clou\r                                                                               \rGet:2 http://archive.ubuntu.com/ubuntu focal-updates InRelease [114 kB]\n",
            "\r0% [2 InRelease 88.0 kB/114 kB 77%] [Connecting to security.ubuntu.com (185.125\r                                                                               \rHit:3 https://cloud.r-project.org/bin/linux/ubuntu focal-cran40/ InRelease\n",
            "\r0% [2 InRelease 114 kB/114 kB 100%] [Connecting to security.ubuntu.com (185.125\r0% [Waiting for headers] [Connecting to security.ubuntu.com (185.125.190.39)] [\r                                                                               \rGet:4 http://archive.ubuntu.com/ubuntu focal-backports InRelease [108 kB]\n",
            "\r0% [4 InRelease 11.3 kB/108 kB 10%] [Connecting to security.ubuntu.com (185.125\r0% [Connecting to security.ubuntu.com (185.125.190.39)] [Connecting to ppa.laun\r                                                                               \rHit:5 https://developer.download.nvidia.com/compute/cuda/repos/ubuntu2004/x86_64  InRelease\n",
            "Get:6 http://security.ubuntu.com/ubuntu focal-security InRelease [114 kB]\n",
            "Hit:7 http://ppa.launchpad.net/c2d4u.team/c2d4u4.0+/ubuntu focal InRelease\n",
            "Hit:8 http://ppa.launchpad.net/cran/libgit2/ubuntu focal InRelease\n",
            "Hit:9 http://ppa.launchpad.net/deadsnakes/ppa/ubuntu focal InRelease\n",
            "Hit:10 http://ppa.launchpad.net/graphics-drivers/ppa/ubuntu focal InRelease\n",
            "Hit:11 http://ppa.launchpad.net/ubuntugis/ppa/ubuntu focal InRelease\n",
            "Fetched 336 kB in 3s (99.9 kB/s)\n",
            "Reading package lists... Done\n",
            "Reading package lists... Done\n",
            "Building dependency tree       \n",
            "Reading state information... Done\n",
            "make is already the newest version (4.2.1-1.2).\n",
            "libboost-all-dev is already the newest version (1.71.0.0ubuntu2).\n",
            "build-essential is already the newest version (12.8ubuntu1.1).\n",
            "cmake is already the newest version (3.16.3-1ubuntu1.20.04.1).\n",
            "git is already the newest version (1:2.25.1-1ubuntu3.11).\n",
            "0 upgraded, 0 newly installed, 0 to remove and 24 not upgraded.\n",
            "Reading package lists... Done\n",
            "Building dependency tree       \n",
            "Reading state information... Done\n",
            "Package python-scipy is not available, but is referred to by another package.\n",
            "This may mean that the package is missing, has been obsoleted, or\n",
            "is only available from another source\n",
            "\n",
            "E: Unable to locate package python-pandas\n",
            "E: Package 'python-scipy' has no installation candidate\n",
            "--2023-05-02 20:06:15--  https://bootstrap.pypa.io/get-pip.py\n",
            "Resolving bootstrap.pypa.io (bootstrap.pypa.io)... 151.101.0.175, 151.101.64.175, 151.101.128.175, ...\n",
            "Connecting to bootstrap.pypa.io (bootstrap.pypa.io)|151.101.0.175|:443... connected.\n",
            "HTTP request sent, awaiting response... 200 OK\n",
            "Length: 2578580 (2.5M) [text/x-python]\n",
            "Saving to: ‘get-pip.py.1’\n",
            "\n",
            "get-pip.py.1        100%[===================>]   2.46M  --.-KB/s    in 0.03s   \n",
            "\n",
            "2023-05-02 20:06:15 (70.8 MB/s) - ‘get-pip.py.1’ saved [2578580/2578580]\n",
            "\n",
            "Looking in indexes: https://pypi.org/simple, https://us-python.pkg.dev/colab-wheels/public/simple/\n",
            "Collecting pip\n",
            "  Using cached pip-23.1.2-py3-none-any.whl (2.1 MB)\n",
            "Installing collected packages: pip\n",
            "  Attempting uninstall: pip\n",
            "    Found existing installation: pip 23.1.2\n",
            "    Uninstalling pip-23.1.2:\n",
            "      Successfully uninstalled pip-23.1.2\n",
            "Successfully installed pip-23.1.2\n",
            "\u001b[33mWARNING: Running pip as the 'root' user can result in broken permissions and conflicting behaviour with the system package manager. It is recommended to use a virtual environment instead: https://pip.pypa.io/warnings/venv\u001b[0m\u001b[33m\n",
            "\u001b[0mLooking in indexes: https://pypi.org/simple, https://us-python.pkg.dev/colab-wheels/public/simple/\n",
            "Requirement already satisfied: protobuf in /usr/local/lib/python3.10/dist-packages (3.20.3)\n",
            "Requirement already satisfied: tqdm in /usr/local/lib/python3.10/dist-packages (4.65.0)\n",
            "Requirement already satisfied: wheel in /usr/local/lib/python3.10/dist-packages (0.40.0)\n",
            "\u001b[33mWARNING: Running pip as the 'root' user can result in broken permissions and conflicting behaviour with the system package manager. It is recommended to use a virtual environment instead: https://pip.pypa.io/warnings/venv\u001b[0m\u001b[33m\n",
            "\u001b[0mfatal: destination path 'bigartm' already exists and is not an empty directory.\n"
          ]
        }
      ]
    },
    {
      "cell_type": "markdown",
      "source": [
        "import os, sys\n",
        "\n",
        "module_path = os.path.abspath(os.path.join(os.pardir))\n",
        "if module_path not in sys.path:\n",
        "    sys.path.append(module_path) "
      ],
      "metadata": {
        "id": "X6IefWIa0R-A"
      }
    },
    {
      "cell_type": "code",
      "execution_count": 2,
      "metadata": {
        "colab": {
          "base_uri": "https://localhost:8080/"
        },
        "id": "0oLimaY5yU6H",
        "outputId": "560bdd80-6767-448b-9d69-77b5faf12971"
      },
      "outputs": [
        {
          "output_type": "stream",
          "name": "stdout",
          "text": [
            "/content/bigartm\n"
          ]
        }
      ],
      "source": [
        "%cd bigartm"
      ]
    },
    {
      "cell_type": "code",
      "source": [
        "!mkdir build"
      ],
      "metadata": {
        "colab": {
          "base_uri": "https://localhost:8080/"
        },
        "id": "_hKJod8L0e7n",
        "outputId": "21ee5eb3-b9b3-49f6-cb53-1fc0769f44ca"
      },
      "execution_count": 3,
      "outputs": [
        {
          "output_type": "stream",
          "name": "stdout",
          "text": [
            "mkdir: cannot create directory ‘build’: File exists\n"
          ]
        }
      ]
    },
    {
      "cell_type": "code",
      "source": [
        "%cd build"
      ],
      "metadata": {
        "colab": {
          "base_uri": "https://localhost:8080/"
        },
        "id": "xllFKEMm0e_p",
        "outputId": "f2860ea2-62cb-42b6-89fd-33c1420e5497"
      },
      "execution_count": 4,
      "outputs": [
        {
          "output_type": "stream",
          "name": "stdout",
          "text": [
            "/content/bigartm/build\n"
          ]
        }
      ]
    },
    {
      "cell_type": "code",
      "source": [
        "!cmake .."
      ],
      "metadata": {
        "colab": {
          "base_uri": "https://localhost:8080/"
        },
        "id": "XpPUhsWW0fGH",
        "outputId": "57a14447-8522-4a50-d4b4-4059c29860d2"
      },
      "execution_count": 5,
      "outputs": [
        {
          "output_type": "stream",
          "name": "stdout",
          "text": [
            "\u001b[0m-- Build type: Release\u001b[0m\n",
            "-- Found Boost: /usr/lib/x86_64-linux-gnu/cmake/Boost-1.71.0/BoostConfig.cmake (found version \"1.71.0\")  \n",
            "-- Found Boost: /usr/lib/x86_64-linux-gnu/cmake/Boost-1.71.0/BoostConfig.cmake (found version \"1.71.0\") found components: thread program_options date_time filesystem iostreams system \n",
            "\u001b[0mCMake Deprecation Warning at 3rdparty/CMakeLists.txt:1 (cmake_minimum_required):\n",
            "  Compatibility with CMake < 2.8.12 will be removed from a future version of\n",
            "  CMake.\n",
            "\n",
            "  Update the VERSION argument <min> value or use a ...<max> suffix to tell\n",
            "  CMake that the project does not need compatibility with older versions.\n",
            "\n",
            "\u001b[0m\n",
            "\u001b[33mCMake Warning (dev) at 3rdparty/CMakeLists.txt:13 (set):\n",
            "  implicitly converting '' to 'STRING' type.\n",
            "This warning is for project developers.  Use -Wno-dev to suppress it.\n",
            "\u001b[0m\n",
            "\u001b[33mCMake Warning (dev) at 3rdparty/CMakeLists.txt:19 (set):\n",
            "  implicitly converting '' to 'STRING' type.\n",
            "This warning is for project developers.  Use -Wno-dev to suppress it.\n",
            "\u001b[0m\n",
            "\u001b[33mCMake Warning (dev) at 3rdparty/protobuf-3.0.0/cmake/install.cmake:41 (message):\n",
            "  The file\n",
            "  \"/content/bigartm/3rdparty/protobuf-3.0.0/src/google/protobuf/repeated_field_reflection.h\"\n",
            "  is listed in\n",
            "  \"/content/bigartm/3rdparty/protobuf-3.0.0/cmake/cmake/extract_includes.bat.in\"\n",
            "  but there not exists.  The file will not be installed.\n",
            "Call Stack (most recent call first):\n",
            "  3rdparty/protobuf-3.0.0/cmake/CMakeLists.txt:159 (include)\n",
            "This warning is for project developers.  Use -Wno-dev to suppress it.\n",
            "\u001b[0m\n",
            "\u001b[33mCMake Warning (dev) at 3rdparty/CMakeLists.txt:37 (set):\n",
            "  implicitly converting '' to 'STRING' type.\n",
            "This warning is for project developers.  Use -Wno-dev to suppress it.\n",
            "\u001b[0m\n",
            "-- Configuring done\n",
            "-- Generating done\n",
            "-- Build files have been written to: /content/bigartm/build\n"
          ]
        }
      ]
    },
    {
      "cell_type": "code",
      "source": [
        "!make"
      ],
      "metadata": {
        "colab": {
          "base_uri": "https://localhost:8080/"
        },
        "id": "7XiqJ63I01Ju",
        "outputId": "35122cd2-f54f-4f9c-a5c5-7d616982473e"
      },
      "execution_count": 6,
      "outputs": [
        {
          "output_type": "stream",
          "name": "stdout",
          "text": [
            "[ 28%] Built target libprotobuf\n",
            "[ 61%] Built target libprotoc\n",
            "[ 63%] Built target protoc\n",
            "[ 63%] Built target proto_generation\n",
            "[ 64%] Built target internals_proto\n",
            "[ 65%] Built target gflags_static\n",
            "[ 68%] Built target glog\n",
            "[ 69%] Built target messages_proto\n",
            "[ 89%] Built target artm-static\n",
            "[ 90%] Built target artm\n",
            "[ 97%] Built target artm_tests\n",
            "[ 98%] Built target bigartm\n",
            "[ 98%] \u001b[34m\u001b[1mBuilding python package bigartm\u001b[0m\n",
            "/usr/local/lib/python3.10/dist-packages/setuptools/__init__.py:84: _DeprecatedInstaller: setuptools.installer and fetch_build_eggs are deprecated.\n",
            "!!\n",
            "\n",
            "        ********************************************************************************\n",
            "        Requirements should be satisfied by a PEP 517 installer.\n",
            "        If you are using pip, you can try `pip install --use-pep517`.\n",
            "        ********************************************************************************\n",
            "\n",
            "!!\n",
            "  dist.fetch_build_eggs(dist.setup_requires)\n",
            "running build\n",
            "running build_py\n",
            "[ 98%] Built target python_bigartm_build\n",
            "[100%] \u001b[34m\u001b[1mBuilding wheel bigartm\u001b[0m\n",
            "/usr/local/lib/python3.10/dist-packages/setuptools/__init__.py:84: _DeprecatedInstaller: setuptools.installer and fetch_build_eggs are deprecated.\n",
            "!!\n",
            "\n",
            "        ********************************************************************************\n",
            "        Requirements should be satisfied by a PEP 517 installer.\n",
            "        If you are using pip, you can try `pip install --use-pep517`.\n",
            "        ********************************************************************************\n",
            "\n",
            "!!\n",
            "  dist.fetch_build_eggs(dist.setup_requires)\n",
            "running bdist_wheel\n",
            "running build\n",
            "running build_py\n",
            "running build_ext\n",
            "/usr/lib/python3.10/distutils/cmd.py:62: SetuptoolsDeprecationWarning: setup.py install is deprecated.\n",
            "!!\n",
            "\n",
            "        ********************************************************************************\n",
            "        Please avoid running ``setup.py`` directly.\n",
            "        Instead, use pypa/build, pypa/installer, pypa/build or\n",
            "        other standards-based tools.\n",
            "\n",
            "        See https://blog.ganssle.io/articles/2021/10/setup-py-deprecated.html for details.\n",
            "        ********************************************************************************\n",
            "\n",
            "!!\n",
            "  self.initialize_options()\n",
            "installing to build/bdist.linux-x86_64/wheel\n",
            "running install\n",
            "running install_lib\n",
            "creating build/bdist.linux-x86_64/wheel\n",
            "creating build/bdist.linux-x86_64/wheel/bigartm-0.10.0.data\n",
            "creating build/bdist.linux-x86_64/wheel/bigartm-0.10.0.data/purelib\n",
            "creating build/bdist.linux-x86_64/wheel/bigartm-0.10.0.data/purelib/artm\n",
            "creating build/bdist.linux-x86_64/wheel/bigartm-0.10.0.data/purelib/artm/wrapper\n",
            "copying build/lib/artm/wrapper/messages_pb2.py -> build/bdist.linux-x86_64/wheel/bigartm-0.10.0.data/purelib/artm/wrapper\n",
            "copying build/lib/artm/wrapper/constants.py -> build/bdist.linux-x86_64/wheel/bigartm-0.10.0.data/purelib/artm/wrapper\n",
            "copying build/lib/artm/wrapper/utils.py -> build/bdist.linux-x86_64/wheel/bigartm-0.10.0.data/purelib/artm/wrapper\n",
            "copying build/lib/artm/wrapper/api.py -> build/bdist.linux-x86_64/wheel/bigartm-0.10.0.data/purelib/artm/wrapper\n",
            "copying build/lib/artm/wrapper/exceptions.py -> build/bdist.linux-x86_64/wheel/bigartm-0.10.0.data/purelib/artm/wrapper\n",
            "copying build/lib/artm/wrapper/__init__.py -> build/bdist.linux-x86_64/wheel/bigartm-0.10.0.data/purelib/artm/wrapper\n",
            "copying build/lib/artm/wrapper/spec.py -> build/bdist.linux-x86_64/wheel/bigartm-0.10.0.data/purelib/artm/wrapper\n",
            "copying build/lib/artm/libartm.so -> build/bdist.linux-x86_64/wheel/bigartm-0.10.0.data/purelib/artm\n",
            "copying build/lib/artm/master_component.py -> build/bdist.linux-x86_64/wheel/bigartm-0.10.0.data/purelib/artm\n",
            "copying build/lib/artm/hierarchy_utils.py -> build/bdist.linux-x86_64/wheel/bigartm-0.10.0.data/purelib/artm\n",
            "copying build/lib/artm/score_tracker.py -> build/bdist.linux-x86_64/wheel/bigartm-0.10.0.data/purelib/artm\n",
            "copying build/lib/artm/scores.py -> build/bdist.linux-x86_64/wheel/bigartm-0.10.0.data/purelib/artm\n",
            "copying build/lib/artm/__init__.py -> build/bdist.linux-x86_64/wheel/bigartm-0.10.0.data/purelib/artm\n",
            "copying build/lib/artm/regularizers.py -> build/bdist.linux-x86_64/wheel/bigartm-0.10.0.data/purelib/artm\n",
            "copying build/lib/artm/batches_utils.py -> build/bdist.linux-x86_64/wheel/bigartm-0.10.0.data/purelib/artm\n",
            "copying build/lib/artm/artm_model.py -> build/bdist.linux-x86_64/wheel/bigartm-0.10.0.data/purelib/artm\n",
            "copying build/lib/artm/dictionary.py -> build/bdist.linux-x86_64/wheel/bigartm-0.10.0.data/purelib/artm\n",
            "copying build/lib/artm/lda_model.py -> build/bdist.linux-x86_64/wheel/bigartm-0.10.0.data/purelib/artm\n",
            "running install_egg_info\n",
            "running egg_info\n",
            "writing bigartm.egg-info/PKG-INFO\n",
            "writing dependency_links to bigartm.egg-info/dependency_links.txt\n",
            "writing requirements to bigartm.egg-info/requires.txt\n",
            "writing top-level names to bigartm.egg-info/top_level.txt\n",
            "reading manifest file 'bigartm.egg-info/SOURCES.txt'\n",
            "writing manifest file 'bigartm.egg-info/SOURCES.txt'\n",
            "Copying bigartm.egg-info to build/bdist.linux-x86_64/wheel/bigartm-0.10.0.data/purelib/bigartm-0.10.0-py3.10.egg-info\n",
            "running install_scripts\n",
            "creating build/bdist.linux-x86_64/wheel/bigartm-0.10.0.dist-info/WHEEL\n",
            "creating '/content/bigartm/build/python/bigartm-0.10.0-cp310-cp310-linux_x86_64.whl' and adding 'build/bdist.linux-x86_64/wheel' to it\n",
            "adding 'bigartm-0.10.0.data/purelib/artm/__init__.py'\n",
            "adding 'bigartm-0.10.0.data/purelib/artm/artm_model.py'\n",
            "adding 'bigartm-0.10.0.data/purelib/artm/batches_utils.py'\n",
            "adding 'bigartm-0.10.0.data/purelib/artm/dictionary.py'\n",
            "adding 'bigartm-0.10.0.data/purelib/artm/hierarchy_utils.py'\n",
            "adding 'bigartm-0.10.0.data/purelib/artm/lda_model.py'\n",
            "adding 'bigartm-0.10.0.data/purelib/artm/libartm.so'\n",
            "adding 'bigartm-0.10.0.data/purelib/artm/master_component.py'\n",
            "adding 'bigartm-0.10.0.data/purelib/artm/regularizers.py'\n",
            "adding 'bigartm-0.10.0.data/purelib/artm/score_tracker.py'\n",
            "adding 'bigartm-0.10.0.data/purelib/artm/scores.py'\n",
            "adding 'bigartm-0.10.0.data/purelib/artm/wrapper/__init__.py'\n",
            "adding 'bigartm-0.10.0.data/purelib/artm/wrapper/api.py'\n",
            "adding 'bigartm-0.10.0.data/purelib/artm/wrapper/constants.py'\n",
            "adding 'bigartm-0.10.0.data/purelib/artm/wrapper/exceptions.py'\n",
            "adding 'bigartm-0.10.0.data/purelib/artm/wrapper/messages_pb2.py'\n",
            "adding 'bigartm-0.10.0.data/purelib/artm/wrapper/spec.py'\n",
            "adding 'bigartm-0.10.0.data/purelib/artm/wrapper/utils.py'\n",
            "adding 'bigartm-0.10.0.dist-info/METADATA'\n",
            "adding 'bigartm-0.10.0.dist-info/WHEEL'\n",
            "adding 'bigartm-0.10.0.dist-info/top_level.txt'\n",
            "adding 'bigartm-0.10.0.dist-info/RECORD'\n",
            "removing build/bdist.linux-x86_64/wheel\n",
            "[100%] Built target python_bigartm_wheel\n"
          ]
        }
      ]
    },
    {
      "cell_type": "code",
      "source": [
        "!make install"
      ],
      "metadata": {
        "colab": {
          "base_uri": "https://localhost:8080/"
        },
        "id": "uavEBR2g01Mw",
        "outputId": "8206b211-d1be-4d29-bd9f-6a47fa0cc8a2"
      },
      "execution_count": 7,
      "outputs": [
        {
          "output_type": "stream",
          "name": "stdout",
          "text": [
            "[ 28%] Built target libprotobuf\n",
            "[ 61%] Built target libprotoc\n",
            "[ 63%] Built target protoc\n",
            "[ 63%] Built target proto_generation\n",
            "[ 64%] Built target internals_proto\n",
            "[ 65%] Built target gflags_static\n",
            "[ 68%] Built target glog\n",
            "[ 69%] Built target messages_proto\n",
            "[ 89%] Built target artm-static\n",
            "[ 90%] Built target artm\n",
            "[ 97%] Built target artm_tests\n",
            "[ 98%] Built target bigartm\n",
            "[ 98%] \u001b[34m\u001b[1mBuilding python package bigartm\u001b[0m\n",
            "/usr/local/lib/python3.10/dist-packages/setuptools/__init__.py:84: _DeprecatedInstaller: setuptools.installer and fetch_build_eggs are deprecated.\n",
            "!!\n",
            "\n",
            "        ********************************************************************************\n",
            "        Requirements should be satisfied by a PEP 517 installer.\n",
            "        If you are using pip, you can try `pip install --use-pep517`.\n",
            "        ********************************************************************************\n",
            "\n",
            "!!\n",
            "  dist.fetch_build_eggs(dist.setup_requires)\n",
            "running build\n",
            "running build_py\n",
            "[ 98%] Built target python_bigartm_build\n",
            "[100%] \u001b[34m\u001b[1mBuilding wheel bigartm\u001b[0m\n",
            "/usr/local/lib/python3.10/dist-packages/setuptools/__init__.py:84: _DeprecatedInstaller: setuptools.installer and fetch_build_eggs are deprecated.\n",
            "!!\n",
            "\n",
            "        ********************************************************************************\n",
            "        Requirements should be satisfied by a PEP 517 installer.\n",
            "        If you are using pip, you can try `pip install --use-pep517`.\n",
            "        ********************************************************************************\n",
            "\n",
            "!!\n",
            "  dist.fetch_build_eggs(dist.setup_requires)\n",
            "running bdist_wheel\n",
            "running build\n",
            "running build_py\n",
            "running build_ext\n",
            "/usr/lib/python3.10/distutils/cmd.py:62: SetuptoolsDeprecationWarning: setup.py install is deprecated.\n",
            "!!\n",
            "\n",
            "        ********************************************************************************\n",
            "        Please avoid running ``setup.py`` directly.\n",
            "        Instead, use pypa/build, pypa/installer, pypa/build or\n",
            "        other standards-based tools.\n",
            "\n",
            "        See https://blog.ganssle.io/articles/2021/10/setup-py-deprecated.html for details.\n",
            "        ********************************************************************************\n",
            "\n",
            "!!\n",
            "  self.initialize_options()\n",
            "installing to build/bdist.linux-x86_64/wheel\n",
            "running install\n",
            "running install_lib\n",
            "creating build/bdist.linux-x86_64/wheel\n",
            "creating build/bdist.linux-x86_64/wheel/bigartm-0.10.0.data\n",
            "creating build/bdist.linux-x86_64/wheel/bigartm-0.10.0.data/purelib\n",
            "creating build/bdist.linux-x86_64/wheel/bigartm-0.10.0.data/purelib/artm\n",
            "creating build/bdist.linux-x86_64/wheel/bigartm-0.10.0.data/purelib/artm/wrapper\n",
            "copying build/lib/artm/wrapper/messages_pb2.py -> build/bdist.linux-x86_64/wheel/bigartm-0.10.0.data/purelib/artm/wrapper\n",
            "copying build/lib/artm/wrapper/constants.py -> build/bdist.linux-x86_64/wheel/bigartm-0.10.0.data/purelib/artm/wrapper\n",
            "copying build/lib/artm/wrapper/utils.py -> build/bdist.linux-x86_64/wheel/bigartm-0.10.0.data/purelib/artm/wrapper\n",
            "copying build/lib/artm/wrapper/api.py -> build/bdist.linux-x86_64/wheel/bigartm-0.10.0.data/purelib/artm/wrapper\n",
            "copying build/lib/artm/wrapper/exceptions.py -> build/bdist.linux-x86_64/wheel/bigartm-0.10.0.data/purelib/artm/wrapper\n",
            "copying build/lib/artm/wrapper/__init__.py -> build/bdist.linux-x86_64/wheel/bigartm-0.10.0.data/purelib/artm/wrapper\n",
            "copying build/lib/artm/wrapper/spec.py -> build/bdist.linux-x86_64/wheel/bigartm-0.10.0.data/purelib/artm/wrapper\n",
            "copying build/lib/artm/libartm.so -> build/bdist.linux-x86_64/wheel/bigartm-0.10.0.data/purelib/artm\n",
            "copying build/lib/artm/master_component.py -> build/bdist.linux-x86_64/wheel/bigartm-0.10.0.data/purelib/artm\n",
            "copying build/lib/artm/hierarchy_utils.py -> build/bdist.linux-x86_64/wheel/bigartm-0.10.0.data/purelib/artm\n",
            "copying build/lib/artm/score_tracker.py -> build/bdist.linux-x86_64/wheel/bigartm-0.10.0.data/purelib/artm\n",
            "copying build/lib/artm/scores.py -> build/bdist.linux-x86_64/wheel/bigartm-0.10.0.data/purelib/artm\n",
            "copying build/lib/artm/__init__.py -> build/bdist.linux-x86_64/wheel/bigartm-0.10.0.data/purelib/artm\n",
            "copying build/lib/artm/regularizers.py -> build/bdist.linux-x86_64/wheel/bigartm-0.10.0.data/purelib/artm\n",
            "copying build/lib/artm/batches_utils.py -> build/bdist.linux-x86_64/wheel/bigartm-0.10.0.data/purelib/artm\n",
            "copying build/lib/artm/artm_model.py -> build/bdist.linux-x86_64/wheel/bigartm-0.10.0.data/purelib/artm\n",
            "copying build/lib/artm/dictionary.py -> build/bdist.linux-x86_64/wheel/bigartm-0.10.0.data/purelib/artm\n",
            "copying build/lib/artm/lda_model.py -> build/bdist.linux-x86_64/wheel/bigartm-0.10.0.data/purelib/artm\n",
            "running install_egg_info\n",
            "running egg_info\n",
            "writing bigartm.egg-info/PKG-INFO\n",
            "writing dependency_links to bigartm.egg-info/dependency_links.txt\n",
            "writing requirements to bigartm.egg-info/requires.txt\n",
            "writing top-level names to bigartm.egg-info/top_level.txt\n",
            "reading manifest file 'bigartm.egg-info/SOURCES.txt'\n",
            "writing manifest file 'bigartm.egg-info/SOURCES.txt'\n",
            "Copying bigartm.egg-info to build/bdist.linux-x86_64/wheel/bigartm-0.10.0.data/purelib/bigartm-0.10.0-py3.10.egg-info\n",
            "running install_scripts\n",
            "creating build/bdist.linux-x86_64/wheel/bigartm-0.10.0.dist-info/WHEEL\n",
            "creating '/content/bigartm/build/python/bigartm-0.10.0-cp310-cp310-linux_x86_64.whl' and adding 'build/bdist.linux-x86_64/wheel' to it\n",
            "adding 'bigartm-0.10.0.data/purelib/artm/__init__.py'\n",
            "adding 'bigartm-0.10.0.data/purelib/artm/artm_model.py'\n",
            "adding 'bigartm-0.10.0.data/purelib/artm/batches_utils.py'\n",
            "adding 'bigartm-0.10.0.data/purelib/artm/dictionary.py'\n",
            "adding 'bigartm-0.10.0.data/purelib/artm/hierarchy_utils.py'\n",
            "adding 'bigartm-0.10.0.data/purelib/artm/lda_model.py'\n",
            "adding 'bigartm-0.10.0.data/purelib/artm/libartm.so'\n",
            "adding 'bigartm-0.10.0.data/purelib/artm/master_component.py'\n",
            "adding 'bigartm-0.10.0.data/purelib/artm/regularizers.py'\n",
            "adding 'bigartm-0.10.0.data/purelib/artm/score_tracker.py'\n",
            "adding 'bigartm-0.10.0.data/purelib/artm/scores.py'\n",
            "adding 'bigartm-0.10.0.data/purelib/artm/wrapper/__init__.py'\n",
            "adding 'bigartm-0.10.0.data/purelib/artm/wrapper/api.py'\n",
            "adding 'bigartm-0.10.0.data/purelib/artm/wrapper/constants.py'\n",
            "adding 'bigartm-0.10.0.data/purelib/artm/wrapper/exceptions.py'\n",
            "adding 'bigartm-0.10.0.data/purelib/artm/wrapper/messages_pb2.py'\n",
            "adding 'bigartm-0.10.0.data/purelib/artm/wrapper/spec.py'\n",
            "adding 'bigartm-0.10.0.data/purelib/artm/wrapper/utils.py'\n",
            "adding 'bigartm-0.10.0.dist-info/METADATA'\n",
            "adding 'bigartm-0.10.0.dist-info/WHEEL'\n",
            "adding 'bigartm-0.10.0.dist-info/top_level.txt'\n",
            "adding 'bigartm-0.10.0.dist-info/RECORD'\n",
            "removing build/bdist.linux-x86_64/wheel\n",
            "[100%] Built target python_bigartm_wheel\n",
            "\u001b[36mInstall the project...\u001b[0m\n",
            "-- Install configuration: \"Release\"\n",
            "-- Up-to-date: /usr/local/lib/libartm.so\n",
            "-- Up-to-date: /usr/local/include/artm/c_interface.h\n",
            "-- Up-to-date: /usr/local/include/artm/cpp_interface.h\n",
            "-- Up-to-date: /usr/local/include/artm/messages.pb.h\n",
            "-- Up-to-date: /usr/local/include/artm/messages.proto\n",
            "-- Up-to-date: /usr/local/include/artm/artm_export.h\n",
            "-- Up-to-date: /usr/local/lib/cmake/artm/artm-targets.cmake\n",
            "-- Up-to-date: /usr/local/lib/cmake/artm/artm-targets-release.cmake\n",
            "-- Up-to-date: /usr/local/lib/cmake/artm/artm-config.cmake\n",
            "-- Up-to-date: /usr/local/include/artm/google/protobuf/any.h\n",
            "-- Up-to-date: /usr/local/include/artm/google/protobuf/any.pb.h\n",
            "-- Up-to-date: /usr/local/include/artm/google/protobuf/api.pb.h\n",
            "-- Up-to-date: /usr/local/include/artm/google/protobuf/arena.h\n",
            "-- Up-to-date: /usr/local/include/artm/google/protobuf/arenastring.h\n",
            "-- Up-to-date: /usr/local/include/artm/google/protobuf/compiler/code_generator.h\n",
            "-- Up-to-date: /usr/local/include/artm/google/protobuf/compiler/command_line_interface.h\n",
            "-- Up-to-date: /usr/local/include/artm/google/protobuf/compiler/cpp/cpp_generator.h\n",
            "-- Up-to-date: /usr/local/include/artm/google/protobuf/compiler/csharp/csharp_generator.h\n",
            "-- Up-to-date: /usr/local/include/artm/google/protobuf/compiler/csharp/csharp_names.h\n",
            "-- Up-to-date: /usr/local/include/artm/google/protobuf/compiler/csharp/csharp_options.h\n",
            "-- Up-to-date: /usr/local/include/artm/google/protobuf/compiler/importer.h\n",
            "-- Up-to-date: /usr/local/include/artm/google/protobuf/compiler/java/java_generator.h\n",
            "-- Up-to-date: /usr/local/include/artm/google/protobuf/compiler/java/java_names.h\n",
            "-- Up-to-date: /usr/local/include/artm/google/protobuf/compiler/javanano/javanano_generator.h\n",
            "-- Up-to-date: /usr/local/include/artm/google/protobuf/compiler/js/js_generator.h\n",
            "-- Up-to-date: /usr/local/include/artm/google/protobuf/compiler/objectivec/objectivec_generator.h\n",
            "-- Up-to-date: /usr/local/include/artm/google/protobuf/compiler/objectivec/objectivec_helpers.h\n",
            "-- Up-to-date: /usr/local/include/artm/google/protobuf/compiler/parser.h\n",
            "-- Up-to-date: /usr/local/include/artm/google/protobuf/compiler/plugin.h\n",
            "-- Up-to-date: /usr/local/include/artm/google/protobuf/compiler/plugin.pb.h\n",
            "-- Up-to-date: /usr/local/include/artm/google/protobuf/compiler/python/python_generator.h\n",
            "-- Up-to-date: /usr/local/include/artm/google/protobuf/compiler/ruby/ruby_generator.h\n",
            "-- Up-to-date: /usr/local/include/artm/google/protobuf/descriptor.h\n",
            "-- Up-to-date: /usr/local/include/artm/google/protobuf/descriptor.pb.h\n",
            "-- Up-to-date: /usr/local/include/artm/google/protobuf/descriptor_database.h\n",
            "-- Up-to-date: /usr/local/include/artm/google/protobuf/duration.pb.h\n",
            "-- Up-to-date: /usr/local/include/artm/google/protobuf/dynamic_message.h\n",
            "-- Up-to-date: /usr/local/include/artm/google/protobuf/empty.pb.h\n",
            "-- Up-to-date: /usr/local/include/artm/google/protobuf/extension_set.h\n",
            "-- Up-to-date: /usr/local/include/artm/google/protobuf/field_mask.pb.h\n",
            "-- Up-to-date: /usr/local/include/artm/google/protobuf/generated_enum_reflection.h\n",
            "-- Up-to-date: /usr/local/include/artm/google/protobuf/generated_enum_util.h\n",
            "-- Up-to-date: /usr/local/include/artm/google/protobuf/generated_message_reflection.h\n",
            "-- Up-to-date: /usr/local/include/artm/google/protobuf/generated_message_util.h\n",
            "-- Up-to-date: /usr/local/include/artm/google/protobuf/io/coded_stream.h\n",
            "-- Up-to-date: /usr/local/include/artm/google/protobuf/io/gzip_stream.h\n",
            "-- Up-to-date: /usr/local/include/artm/google/protobuf/io/printer.h\n",
            "-- Up-to-date: /usr/local/include/artm/google/protobuf/io/strtod.h\n",
            "-- Up-to-date: /usr/local/include/artm/google/protobuf/io/tokenizer.h\n",
            "-- Up-to-date: /usr/local/include/artm/google/protobuf/io/zero_copy_stream.h\n",
            "-- Up-to-date: /usr/local/include/artm/google/protobuf/io/zero_copy_stream_impl.h\n",
            "-- Up-to-date: /usr/local/include/artm/google/protobuf/io/zero_copy_stream_impl_lite.h\n",
            "-- Up-to-date: /usr/local/include/artm/google/protobuf/map.h\n",
            "-- Up-to-date: /usr/local/include/artm/google/protobuf/map_entry.h\n",
            "-- Up-to-date: /usr/local/include/artm/google/protobuf/map_entry_lite.h\n",
            "-- Up-to-date: /usr/local/include/artm/google/protobuf/map_field.h\n",
            "-- Up-to-date: /usr/local/include/artm/google/protobuf/map_field_inl.h\n",
            "-- Up-to-date: /usr/local/include/artm/google/protobuf/map_field_lite.h\n",
            "-- Up-to-date: /usr/local/include/artm/google/protobuf/map_type_handler.h\n",
            "-- Up-to-date: /usr/local/include/artm/google/protobuf/message.h\n",
            "-- Up-to-date: /usr/local/include/artm/google/protobuf/message_lite.h\n",
            "-- Up-to-date: /usr/local/include/artm/google/protobuf/metadata.h\n",
            "-- Up-to-date: /usr/local/include/artm/google/protobuf/reflection.h\n",
            "-- Up-to-date: /usr/local/include/artm/google/protobuf/reflection_ops.h\n",
            "-- Up-to-date: /usr/local/include/artm/google/protobuf/repeated_field.h\n",
            "-- Up-to-date: /usr/local/include/artm/google/protobuf/service.h\n",
            "-- Up-to-date: /usr/local/include/artm/google/protobuf/source_context.pb.h\n",
            "-- Up-to-date: /usr/local/include/artm/google/protobuf/struct.pb.h\n",
            "-- Up-to-date: /usr/local/include/artm/google/protobuf/stubs/atomic_sequence_num.h\n",
            "-- Up-to-date: /usr/local/include/artm/google/protobuf/stubs/atomicops.h\n",
            "-- Up-to-date: /usr/local/include/artm/google/protobuf/stubs/atomicops_internals_arm64_gcc.h\n",
            "-- Up-to-date: /usr/local/include/artm/google/protobuf/stubs/atomicops_internals_arm_gcc.h\n",
            "-- Up-to-date: /usr/local/include/artm/google/protobuf/stubs/atomicops_internals_arm_qnx.h\n",
            "-- Up-to-date: /usr/local/include/artm/google/protobuf/stubs/atomicops_internals_atomicword_compat.h\n",
            "-- Up-to-date: /usr/local/include/artm/google/protobuf/stubs/atomicops_internals_generic_gcc.h\n",
            "-- Up-to-date: /usr/local/include/artm/google/protobuf/stubs/atomicops_internals_macosx.h\n",
            "-- Up-to-date: /usr/local/include/artm/google/protobuf/stubs/atomicops_internals_mips_gcc.h\n",
            "-- Up-to-date: /usr/local/include/artm/google/protobuf/stubs/atomicops_internals_pnacl.h\n",
            "-- Up-to-date: /usr/local/include/artm/google/protobuf/stubs/atomicops_internals_power.h\n",
            "-- Up-to-date: /usr/local/include/artm/google/protobuf/stubs/atomicops_internals_solaris.h\n",
            "-- Up-to-date: /usr/local/include/artm/google/protobuf/stubs/atomicops_internals_tsan.h\n",
            "-- Up-to-date: /usr/local/include/artm/google/protobuf/stubs/atomicops_internals_x86_gcc.h\n",
            "-- Up-to-date: /usr/local/include/artm/google/protobuf/stubs/atomicops_internals_x86_msvc.h\n",
            "-- Up-to-date: /usr/local/include/artm/google/protobuf/stubs/bytestream.h\n",
            "-- Up-to-date: /usr/local/include/artm/google/protobuf/stubs/callback.h\n",
            "-- Up-to-date: /usr/local/include/artm/google/protobuf/stubs/casts.h\n",
            "-- Up-to-date: /usr/local/include/artm/google/protobuf/stubs/common.h\n",
            "-- Up-to-date: /usr/local/include/artm/google/protobuf/stubs/fastmem.h\n",
            "-- Up-to-date: /usr/local/include/artm/google/protobuf/stubs/hash.h\n",
            "-- Up-to-date: /usr/local/include/artm/google/protobuf/stubs/logging.h\n",
            "-- Up-to-date: /usr/local/include/artm/google/protobuf/stubs/macros.h\n",
            "-- Up-to-date: /usr/local/include/artm/google/protobuf/stubs/mutex.h\n",
            "-- Up-to-date: /usr/local/include/artm/google/protobuf/stubs/once.h\n",
            "-- Up-to-date: /usr/local/include/artm/google/protobuf/stubs/platform_macros.h\n",
            "-- Up-to-date: /usr/local/include/artm/google/protobuf/stubs/port.h\n",
            "-- Up-to-date: /usr/local/include/artm/google/protobuf/stubs/scoped_ptr.h\n",
            "-- Up-to-date: /usr/local/include/artm/google/protobuf/stubs/shared_ptr.h\n",
            "-- Up-to-date: /usr/local/include/artm/google/protobuf/stubs/singleton.h\n",
            "-- Up-to-date: /usr/local/include/artm/google/protobuf/stubs/status.h\n",
            "-- Up-to-date: /usr/local/include/artm/google/protobuf/stubs/stl_util.h\n",
            "-- Up-to-date: /usr/local/include/artm/google/protobuf/stubs/stringpiece.h\n",
            "-- Up-to-date: /usr/local/include/artm/google/protobuf/stubs/template_util.h\n",
            "-- Up-to-date: /usr/local/include/artm/google/protobuf/stubs/type_traits.h\n",
            "-- Up-to-date: /usr/local/include/artm/google/protobuf/text_format.h\n",
            "-- Up-to-date: /usr/local/include/artm/google/protobuf/timestamp.pb.h\n",
            "-- Up-to-date: /usr/local/include/artm/google/protobuf/type.pb.h\n",
            "-- Up-to-date: /usr/local/include/artm/google/protobuf/unknown_field_set.h\n",
            "-- Up-to-date: /usr/local/include/artm/google/protobuf/util/field_comparator.h\n",
            "-- Up-to-date: /usr/local/include/artm/google/protobuf/util/field_mask_util.h\n",
            "-- Up-to-date: /usr/local/include/artm/google/protobuf/util/json_util.h\n",
            "-- Up-to-date: /usr/local/include/artm/google/protobuf/util/message_differencer.h\n",
            "-- Up-to-date: /usr/local/include/artm/google/protobuf/util/time_util.h\n",
            "-- Up-to-date: /usr/local/include/artm/google/protobuf/util/type_resolver.h\n",
            "-- Up-to-date: /usr/local/include/artm/google/protobuf/util/type_resolver_util.h\n",
            "-- Up-to-date: /usr/local/include/artm/google/protobuf/wire_format.h\n",
            "-- Up-to-date: /usr/local/include/artm/google/protobuf/wire_format_lite.h\n",
            "-- Up-to-date: /usr/local/include/artm/google/protobuf/wire_format_lite_inl.h\n",
            "-- Up-to-date: /usr/local/include/artm/google/protobuf/wrappers.pb.h\n",
            "-- Up-to-date: /usr/local/include/artm/google/protobuf/descriptor.proto\n",
            "-- Up-to-date: /usr/local/include/artm/google/protobuf/any.proto\n",
            "-- Up-to-date: /usr/local/include/artm/google/protobuf/api.proto\n",
            "-- Up-to-date: /usr/local/include/artm/google/protobuf/duration.proto\n",
            "-- Up-to-date: /usr/local/include/artm/google/protobuf/empty.proto\n",
            "-- Up-to-date: /usr/local/include/artm/google/protobuf/field_mask.proto\n",
            "-- Up-to-date: /usr/local/include/artm/google/protobuf/source_context.proto\n",
            "-- Up-to-date: /usr/local/include/artm/google/protobuf/struct.proto\n",
            "-- Up-to-date: /usr/local/include/artm/google/protobuf/timestamp.proto\n",
            "-- Up-to-date: /usr/local/include/artm/google/protobuf/type.proto\n",
            "-- Up-to-date: /usr/local/include/artm/google/protobuf/wrappers.proto\n",
            "-- Up-to-date: /usr/local/include/artm/google/protobuf/compiler/plugin.proto\n",
            "-- Up-to-date: /usr/local/bin/bigartm\n"
          ]
        }
      ]
    },
    {
      "cell_type": "code",
      "source": [
        "!pip install python/bigartm*.whl"
      ],
      "metadata": {
        "colab": {
          "base_uri": "https://localhost:8080/"
        },
        "id": "FnYiAUX501Pr",
        "outputId": "224f7771-187d-44c4-9c39-aea0297de10a"
      },
      "execution_count": 8,
      "outputs": [
        {
          "output_type": "stream",
          "name": "stdout",
          "text": [
            "Looking in indexes: https://pypi.org/simple, https://us-python.pkg.dev/colab-wheels/public/simple/\n",
            "Processing ./python/bigartm-0.10.0-cp310-cp310-linux_x86_64.whl\n",
            "Requirement already satisfied: pandas in /usr/local/lib/python3.10/dist-packages (from bigartm==0.10.0) (1.5.3)\n",
            "Requirement already satisfied: numpy in /usr/local/lib/python3.10/dist-packages (from bigartm==0.10.0) (1.22.4)\n",
            "Requirement already satisfied: python-dateutil>=2.8.1 in /usr/local/lib/python3.10/dist-packages (from pandas->bigartm==0.10.0) (2.8.2)\n",
            "Requirement already satisfied: pytz>=2020.1 in /usr/local/lib/python3.10/dist-packages (from pandas->bigartm==0.10.0) (2022.7.1)\n",
            "Requirement already satisfied: six>=1.5 in /usr/local/lib/python3.10/dist-packages (from python-dateutil>=2.8.1->pandas->bigartm==0.10.0) (1.16.0)\n",
            "bigartm is already installed with the same version as the provided wheel. Use --force-reinstall to force an installation of the wheel.\n",
            "\u001b[33mWARNING: Running pip as the 'root' user can result in broken permissions and conflicting behaviour with the system package manager. It is recommended to use a virtual environment instead: https://pip.pypa.io/warnings/venv\u001b[0m\u001b[33m\n",
            "\u001b[0m"
          ]
        }
      ]
    },
    {
      "cell_type": "code",
      "execution_count": 9,
      "metadata": {
        "id": "J5YiZNCPLVPe"
      },
      "outputs": [],
      "source": [
        "import numpy as np\n",
        "import re"
      ]
    },
    {
      "cell_type": "code",
      "source": [
        "from collections import Counter"
      ],
      "metadata": {
        "id": "BimiDZQN11It"
      },
      "execution_count": 10,
      "outputs": []
    },
    {
      "cell_type": "code",
      "source": [
        "from google.colab import drive\n",
        "drive.mount('/content/MyDrive')"
      ],
      "metadata": {
        "colab": {
          "base_uri": "https://localhost:8080/"
        },
        "id": "MpESNNEt15QW",
        "outputId": "0ca67e59-6bf1-4b18-d989-59397123f8ce"
      },
      "execution_count": 11,
      "outputs": [
        {
          "output_type": "stream",
          "name": "stdout",
          "text": [
            "Drive already mounted at /content/MyDrive; to attempt to forcibly remount, call drive.mount(\"/content/MyDrive\", force_remount=True).\n"
          ]
        }
      ]
    },
    {
      "cell_type": "code",
      "execution_count": 12,
      "metadata": {
        "id": "Rl-0E4UxyU6I"
      },
      "outputs": [],
      "source": [
        "import artm"
      ]
    },
    {
      "cell_type": "code",
      "source": [
        "artm.version()"
      ],
      "metadata": {
        "colab": {
          "base_uri": "https://localhost:8080/",
          "height": 90
        },
        "id": "DJksHL-B1LXY",
        "outputId": "5334fa9f-e625-4104-9081-b1b2ce91d7b3"
      },
      "execution_count": 13,
      "outputs": [
        {
          "output_type": "stream",
          "name": "stderr",
          "text": [
            "/usr/local/lib/python3.10/dist-packages/ipykernel/ipkernel.py:283: DeprecationWarning: `should_run_async` will not call `transform_cell` automatically in the future. Please pass the result to `transformed_cell` argument and any exception that happen during thetransform in `preprocessing_exc_tuple` in IPython 7.17 and above.\n",
            "  and should_run_async(code)\n"
          ]
        },
        {
          "output_type": "execute_result",
          "data": {
            "text/plain": [
              "'0.10.0'"
            ],
            "application/vnd.google.colaboratory.intrinsic+json": {
              "type": "string"
            }
          },
          "metadata": {},
          "execution_count": 13
        }
      ]
    },
    {
      "cell_type": "code",
      "source": [
        "artm.ARTM(num_topics=10).info"
      ],
      "metadata": {
        "colab": {
          "base_uri": "https://localhost:8080/"
        },
        "id": "xMUFveZ81SYo",
        "outputId": "aea44e0c-c7a2-4bce-8a92-0191fcea58a8"
      },
      "execution_count": 14,
      "outputs": [
        {
          "output_type": "execute_result",
          "data": {
            "text/plain": [
              "config {\n",
              "  topic_name: \"topic_0\"\n",
              "  topic_name: \"topic_1\"\n",
              "  topic_name: \"topic_2\"\n",
              "  topic_name: \"topic_3\"\n",
              "  topic_name: \"topic_4\"\n",
              "  topic_name: \"topic_5\"\n",
              "  topic_name: \"topic_6\"\n",
              "  topic_name: \"topic_7\"\n",
              "  topic_name: \"topic_8\"\n",
              "  topic_name: \"topic_9\"\n",
              "  score_config {\n",
              "    name: \"^^^ItemsProcessedScore^^^\"\n",
              "    type: ScoreType_ItemsProcessed\n",
              "    config: \"\"\n",
              "  }\n",
              "  pwt_name: \"pwt\"\n",
              "  nwt_name: \"nwt\"\n",
              "  num_document_passes: 10\n",
              "  reuse_theta: false\n",
              "  cache_theta: false\n",
              "}\n",
              "score {\n",
              "  name: \"^^^ItemsProcessedScore^^^\"\n",
              "  type: \"N4artm5score14ItemsProcessedE\"\n",
              "}\n",
              "processor_queue_size: 0\n",
              "num_processors: 2"
            ]
          },
          "metadata": {},
          "execution_count": 14
        }
      ]
    },
    {
      "cell_type": "code",
      "execution_count": 15,
      "metadata": {
        "colab": {
          "base_uri": "https://localhost:8080/"
        },
        "id": "L6o5p6payU6J",
        "outputId": "671445f7-f8e8-46b4-f692-5e8b2dd1639f"
      },
      "outputs": [
        {
          "output_type": "stream",
          "name": "stderr",
          "text": [
            "<ipython-input-15-5b7176a9d163>:4: FutureWarning: Passing a negative integer is deprecated in version 1.0 and will not be supported in future version. Instead, use None to not limit the column width.\n",
            "  pd.set_option('max_colwidth', -1)\n"
          ]
        }
      ],
      "source": [
        "import pandas as pd\n",
        "pd.set_option('display.max_columns', None)  \n",
        "pd.set_option('display.expand_frame_repr', False)\n",
        "pd.set_option('max_colwidth', -1)"
      ]
    },
    {
      "cell_type": "code",
      "execution_count": 16,
      "metadata": {
        "id": "8BnqngjnyU6K"
      },
      "outputs": [],
      "source": [
        "import matplotlib.pyplot as plt\n",
        "%matplotlib inline"
      ]
    },
    {
      "cell_type": "code",
      "source": [
        "!pip install contractions"
      ],
      "metadata": {
        "colab": {
          "base_uri": "https://localhost:8080/"
        },
        "id": "CV7-nmp653Q-",
        "outputId": "b0473cb2-e36a-47e9-afa2-4985a6260828"
      },
      "execution_count": 17,
      "outputs": [
        {
          "output_type": "stream",
          "name": "stdout",
          "text": [
            "Looking in indexes: https://pypi.org/simple, https://us-python.pkg.dev/colab-wheels/public/simple/\n",
            "Requirement already satisfied: contractions in /usr/local/lib/python3.10/dist-packages (0.1.73)\n",
            "Requirement already satisfied: textsearch>=0.0.21 in /usr/local/lib/python3.10/dist-packages (from contractions) (0.0.24)\n",
            "Requirement already satisfied: anyascii in /usr/local/lib/python3.10/dist-packages (from textsearch>=0.0.21->contractions) (0.3.2)\n",
            "Requirement already satisfied: pyahocorasick in /usr/local/lib/python3.10/dist-packages (from textsearch>=0.0.21->contractions) (2.0.0)\n",
            "\u001b[33mWARNING: Running pip as the 'root' user can result in broken permissions and conflicting behaviour with the system package manager. It is recommended to use a virtual environment instead: https://pip.pypa.io/warnings/venv\u001b[0m\u001b[33m\n",
            "\u001b[0m"
          ]
        }
      ]
    },
    {
      "cell_type": "code",
      "execution_count": 18,
      "metadata": {
        "id": "OdRF7rlyLVRS"
      },
      "outputs": [],
      "source": [
        "import contractions\n",
        "from string import punctuation\n",
        "from collections import Counter"
      ]
    },
    {
      "cell_type": "code",
      "execution_count": 19,
      "metadata": {
        "id": "IJK7koTkyU6L"
      },
      "outputs": [],
      "source": [
        "import pickle\n",
        "with open('/content/MyDrive/MyDrive/Python/data/Emoji_Dict.p', 'rb') as fp:\n",
        "    Emoji_Dict = pickle.load(fp)\n",
        "    Emoji_Dict = {v: k for k, v in Emoji_Dict.items() if ('face' in k or 'hand' in k)}"
      ]
    },
    {
      "cell_type": "code",
      "source": [
        "def convert_to_vw_format(index, row):\n",
        "    return f'doc{index} {row.text}'"
      ],
      "metadata": {
        "id": "B8Aqz0li1do3"
      },
      "execution_count": 20,
      "outputs": []
    },
    {
      "cell_type": "code",
      "execution_count": 21,
      "metadata": {
        "id": "cKDUSOfuyU6L"
      },
      "outputs": [],
      "source": [
        "def preprocess_text(texts_list): # texts_list - an iterable of tweets\n",
        "    prepared_texts = []\n",
        "    \n",
        "    for text in texts_list:\n",
        "        \n",
        "        # 1) Удалим @user из всех твитов с помощью паттерна \"@[\\w]*\". \n",
        "        text = re.sub(r\"@[\\w]*\", \" \", text)\n",
        "        \n",
        "        # 3) Заменим сокращения с апострофами (пример: ain't, can't) на пробел & 4)Заменим сокращения на их полные формы\n",
        "        expanded_words = []   \n",
        "        for word in text.split():\n",
        "            # using contractions.fix to expand the shortened words\n",
        "            expanded_words.append(contractions.fix(word))            \n",
        "        text = ' '.join(expanded_words)\n",
        "        \n",
        "        # 5) Заменим эмотиконы (пример: \":)\" = \"happy\") на пробелы \n",
        "        # \n",
        "        for emot in Emoji_Dict:\n",
        "            text = re.sub(r'('+emot+')', ' ', text)\n",
        "        \n",
        "        # 6) пунктуацию, используя re.sub() и паттерн r'[^\\w\\s]'\n",
        "        text = re.sub(r'[^\\w\\s]', \" \", text)\n",
        "        \n",
        "           \n",
        "        # 9) Удалим из текста слова длиной в 2 символa, используя ' '.join([w for w in x.split() if len(w)>2])\n",
        "        \n",
        "        text = ' '.join([w for w in text.split() if len(w)>2])\n",
        "        prepared_texts.append(text)\n",
        "        \n",
        "    \n",
        "    return prepared_texts"
      ]
    },
    {
      "cell_type": "code",
      "execution_count": 22,
      "metadata": {
        "id": "DFLtXAZ-LVPq",
        "colab": {
          "base_uri": "https://localhost:8080/"
        },
        "outputId": "cb50636d-f7b9-4709-a3cb-04d582e9c55b"
      },
      "outputs": [
        {
          "output_type": "stream",
          "name": "stderr",
          "text": [
            "<ipython-input-22-2ea93172f874>:4: FutureWarning: The frame.append method is deprecated and will be removed from pandas in a future version. Use pandas.concat instead.\n",
            "  df = positive.append(negative)\n"
          ]
        }
      ],
      "source": [
        "# считываем данные и заполняем общий датасет\n",
        "positive = pd.read_csv(\"/content/MyDrive/MyDrive/Python/data/positive.csv\", sep=';', usecols=[3], names=['text'])\n",
        "negative = pd.read_csv(\"/content/MyDrive/MyDrive/Python/data/negative.csv\", sep=';', usecols=[3], names=['text'])\n",
        "df = positive.append(negative)\n"
      ]
    },
    {
      "cell_type": "code",
      "source": [
        "df.head(2)"
      ],
      "metadata": {
        "colab": {
          "base_uri": "https://localhost:8080/",
          "height": 167
        },
        "id": "rzf0H7QS3-Fx",
        "outputId": "de3b4bc0-a5c0-46b8-d68c-76fe0eaebb2b"
      },
      "execution_count": 23,
      "outputs": [
        {
          "output_type": "stream",
          "name": "stderr",
          "text": [
            "/usr/local/lib/python3.10/dist-packages/ipykernel/ipkernel.py:283: DeprecationWarning: `should_run_async` will not call `transform_cell` automatically in the future. Please pass the result to `transformed_cell` argument and any exception that happen during thetransform in `preprocessing_exc_tuple` in IPython 7.17 and above.\n",
            "  and should_run_async(code)\n"
          ]
        },
        {
          "output_type": "execute_result",
          "data": {
            "text/plain": [
              "                                                                                                  text\n",
              "0  @first_timee хоть я и школота, но поверь, у нас то же самое :D общество профилирующий предмет типа)\n",
              "1  Да, все-таки он немного похож на него. Но мой мальчик все равно лучше:D                            "
            ],
            "text/html": [
              "\n",
              "  <div id=\"df-6e423da2-1357-4b64-a3dd-0446dba6c156\">\n",
              "    <div class=\"colab-df-container\">\n",
              "      <div>\n",
              "<style scoped>\n",
              "    .dataframe tbody tr th:only-of-type {\n",
              "        vertical-align: middle;\n",
              "    }\n",
              "\n",
              "    .dataframe tbody tr th {\n",
              "        vertical-align: top;\n",
              "    }\n",
              "\n",
              "    .dataframe thead th {\n",
              "        text-align: right;\n",
              "    }\n",
              "</style>\n",
              "<table border=\"1\" class=\"dataframe\">\n",
              "  <thead>\n",
              "    <tr style=\"text-align: right;\">\n",
              "      <th></th>\n",
              "      <th>text</th>\n",
              "    </tr>\n",
              "  </thead>\n",
              "  <tbody>\n",
              "    <tr>\n",
              "      <th>0</th>\n",
              "      <td>@first_timee хоть я и школота, но поверь, у нас то же самое :D общество профилирующий предмет типа)</td>\n",
              "    </tr>\n",
              "    <tr>\n",
              "      <th>1</th>\n",
              "      <td>Да, все-таки он немного похож на него. Но мой мальчик все равно лучше:D</td>\n",
              "    </tr>\n",
              "  </tbody>\n",
              "</table>\n",
              "</div>\n",
              "      <button class=\"colab-df-convert\" onclick=\"convertToInteractive('df-6e423da2-1357-4b64-a3dd-0446dba6c156')\"\n",
              "              title=\"Convert this dataframe to an interactive table.\"\n",
              "              style=\"display:none;\">\n",
              "        \n",
              "  <svg xmlns=\"http://www.w3.org/2000/svg\" height=\"24px\"viewBox=\"0 0 24 24\"\n",
              "       width=\"24px\">\n",
              "    <path d=\"M0 0h24v24H0V0z\" fill=\"none\"/>\n",
              "    <path d=\"M18.56 5.44l.94 2.06.94-2.06 2.06-.94-2.06-.94-.94-2.06-.94 2.06-2.06.94zm-11 1L8.5 8.5l.94-2.06 2.06-.94-2.06-.94L8.5 2.5l-.94 2.06-2.06.94zm10 10l.94 2.06.94-2.06 2.06-.94-2.06-.94-.94-2.06-.94 2.06-2.06.94z\"/><path d=\"M17.41 7.96l-1.37-1.37c-.4-.4-.92-.59-1.43-.59-.52 0-1.04.2-1.43.59L10.3 9.45l-7.72 7.72c-.78.78-.78 2.05 0 2.83L4 21.41c.39.39.9.59 1.41.59.51 0 1.02-.2 1.41-.59l7.78-7.78 2.81-2.81c.8-.78.8-2.07 0-2.86zM5.41 20L4 18.59l7.72-7.72 1.47 1.35L5.41 20z\"/>\n",
              "  </svg>\n",
              "      </button>\n",
              "      \n",
              "  <style>\n",
              "    .colab-df-container {\n",
              "      display:flex;\n",
              "      flex-wrap:wrap;\n",
              "      gap: 12px;\n",
              "    }\n",
              "\n",
              "    .colab-df-convert {\n",
              "      background-color: #E8F0FE;\n",
              "      border: none;\n",
              "      border-radius: 50%;\n",
              "      cursor: pointer;\n",
              "      display: none;\n",
              "      fill: #1967D2;\n",
              "      height: 32px;\n",
              "      padding: 0 0 0 0;\n",
              "      width: 32px;\n",
              "    }\n",
              "\n",
              "    .colab-df-convert:hover {\n",
              "      background-color: #E2EBFA;\n",
              "      box-shadow: 0px 1px 2px rgba(60, 64, 67, 0.3), 0px 1px 3px 1px rgba(60, 64, 67, 0.15);\n",
              "      fill: #174EA6;\n",
              "    }\n",
              "\n",
              "    [theme=dark] .colab-df-convert {\n",
              "      background-color: #3B4455;\n",
              "      fill: #D2E3FC;\n",
              "    }\n",
              "\n",
              "    [theme=dark] .colab-df-convert:hover {\n",
              "      background-color: #434B5C;\n",
              "      box-shadow: 0px 1px 3px 1px rgba(0, 0, 0, 0.15);\n",
              "      filter: drop-shadow(0px 1px 2px rgba(0, 0, 0, 0.3));\n",
              "      fill: #FFFFFF;\n",
              "    }\n",
              "  </style>\n",
              "\n",
              "      <script>\n",
              "        const buttonEl =\n",
              "          document.querySelector('#df-6e423da2-1357-4b64-a3dd-0446dba6c156 button.colab-df-convert');\n",
              "        buttonEl.style.display =\n",
              "          google.colab.kernel.accessAllowed ? 'block' : 'none';\n",
              "\n",
              "        async function convertToInteractive(key) {\n",
              "          const element = document.querySelector('#df-6e423da2-1357-4b64-a3dd-0446dba6c156');\n",
              "          const dataTable =\n",
              "            await google.colab.kernel.invokeFunction('convertToInteractive',\n",
              "                                                     [key], {});\n",
              "          if (!dataTable) return;\n",
              "\n",
              "          const docLinkHtml = 'Like what you see? Visit the ' +\n",
              "            '<a target=\"_blank\" href=https://colab.research.google.com/notebooks/data_table.ipynb>data table notebook</a>'\n",
              "            + ' to learn more about interactive tables.';\n",
              "          element.innerHTML = '';\n",
              "          dataTable['output_type'] = 'display_data';\n",
              "          await google.colab.output.renderOutput(dataTable, element);\n",
              "          const docLink = document.createElement('div');\n",
              "          docLink.innerHTML = docLinkHtml;\n",
              "          element.appendChild(docLink);\n",
              "        }\n",
              "      </script>\n",
              "    </div>\n",
              "  </div>\n",
              "  "
            ]
          },
          "metadata": {},
          "execution_count": 23
        }
      ]
    },
    {
      "cell_type": "code",
      "execution_count": 24,
      "metadata": {
        "colab": {
          "base_uri": "https://localhost:8080/"
        },
        "id": "BIEZDcaUyU6N",
        "outputId": "eb5c212a-7485-4569-b860-02b98b4424e5"
      },
      "outputs": [
        {
          "output_type": "stream",
          "name": "stderr",
          "text": [
            "/usr/local/lib/python3.10/dist-packages/ipykernel/ipkernel.py:283: DeprecationWarning: `should_run_async` will not call `transform_cell` automatically in the future. Please pass the result to `transformed_cell` argument and any exception that happen during thetransform in `preprocessing_exc_tuple` in IPython 7.17 and above.\n",
            "  and should_run_async(code)\n"
          ]
        }
      ],
      "source": [
        "prepared_texts = preprocess_text(df.text)"
      ]
    },
    {
      "cell_type": "code",
      "execution_count": 25,
      "metadata": {
        "id": "OFJOcKe7yU6N"
      },
      "outputs": [],
      "source": [
        "df_prepared = pd.DataFrame(prepared_texts, columns=['text'])\n",
        "df_prepared = df_prepared.sample(frac=1).reset_index(drop=True)\n"
      ]
    },
    {
      "cell_type": "code",
      "execution_count": 26,
      "metadata": {
        "colab": {
          "base_uri": "https://localhost:8080/",
          "height": 198
        },
        "id": "fgeLAqbMyU6O",
        "outputId": "032ab3a4-4cdb-4a6d-b31d-27d74ec13b45"
      },
      "outputs": [
        {
          "output_type": "stream",
          "name": "stderr",
          "text": [
            "/usr/local/lib/python3.10/dist-packages/ipykernel/ipkernel.py:283: DeprecationWarning: `should_run_async` will not call `transform_cell` automatically in the future. Please pass the result to `transformed_cell` argument and any exception that happen during thetransform in `preprocessing_exc_tuple` in IPython 7.17 and above.\n",
            "  and should_run_async(code)\n"
          ]
        },
        {
          "output_type": "execute_result",
          "data": {
            "text/plain": [
              "                                                                                                        text\n",
              "0  ура восстановили стим без каких либо вопросов                                                            \n",
              "1  Посл нед дерьмонастроение сегодня днем было норм была теми людьми кем хорошо сейчас началось опять дерьмо\n",
              "2  Котик коварный Нужно его наказать                                                                        "
            ],
            "text/html": [
              "\n",
              "  <div id=\"df-bae3794a-a494-4f53-aca2-0ed35948c95e\">\n",
              "    <div class=\"colab-df-container\">\n",
              "      <div>\n",
              "<style scoped>\n",
              "    .dataframe tbody tr th:only-of-type {\n",
              "        vertical-align: middle;\n",
              "    }\n",
              "\n",
              "    .dataframe tbody tr th {\n",
              "        vertical-align: top;\n",
              "    }\n",
              "\n",
              "    .dataframe thead th {\n",
              "        text-align: right;\n",
              "    }\n",
              "</style>\n",
              "<table border=\"1\" class=\"dataframe\">\n",
              "  <thead>\n",
              "    <tr style=\"text-align: right;\">\n",
              "      <th></th>\n",
              "      <th>text</th>\n",
              "    </tr>\n",
              "  </thead>\n",
              "  <tbody>\n",
              "    <tr>\n",
              "      <th>0</th>\n",
              "      <td>ура восстановили стим без каких либо вопросов</td>\n",
              "    </tr>\n",
              "    <tr>\n",
              "      <th>1</th>\n",
              "      <td>Посл нед дерьмонастроение сегодня днем было норм была теми людьми кем хорошо сейчас началось опять дерьмо</td>\n",
              "    </tr>\n",
              "    <tr>\n",
              "      <th>2</th>\n",
              "      <td>Котик коварный Нужно его наказать</td>\n",
              "    </tr>\n",
              "  </tbody>\n",
              "</table>\n",
              "</div>\n",
              "      <button class=\"colab-df-convert\" onclick=\"convertToInteractive('df-bae3794a-a494-4f53-aca2-0ed35948c95e')\"\n",
              "              title=\"Convert this dataframe to an interactive table.\"\n",
              "              style=\"display:none;\">\n",
              "        \n",
              "  <svg xmlns=\"http://www.w3.org/2000/svg\" height=\"24px\"viewBox=\"0 0 24 24\"\n",
              "       width=\"24px\">\n",
              "    <path d=\"M0 0h24v24H0V0z\" fill=\"none\"/>\n",
              "    <path d=\"M18.56 5.44l.94 2.06.94-2.06 2.06-.94-2.06-.94-.94-2.06-.94 2.06-2.06.94zm-11 1L8.5 8.5l.94-2.06 2.06-.94-2.06-.94L8.5 2.5l-.94 2.06-2.06.94zm10 10l.94 2.06.94-2.06 2.06-.94-2.06-.94-.94-2.06-.94 2.06-2.06.94z\"/><path d=\"M17.41 7.96l-1.37-1.37c-.4-.4-.92-.59-1.43-.59-.52 0-1.04.2-1.43.59L10.3 9.45l-7.72 7.72c-.78.78-.78 2.05 0 2.83L4 21.41c.39.39.9.59 1.41.59.51 0 1.02-.2 1.41-.59l7.78-7.78 2.81-2.81c.8-.78.8-2.07 0-2.86zM5.41 20L4 18.59l7.72-7.72 1.47 1.35L5.41 20z\"/>\n",
              "  </svg>\n",
              "      </button>\n",
              "      \n",
              "  <style>\n",
              "    .colab-df-container {\n",
              "      display:flex;\n",
              "      flex-wrap:wrap;\n",
              "      gap: 12px;\n",
              "    }\n",
              "\n",
              "    .colab-df-convert {\n",
              "      background-color: #E8F0FE;\n",
              "      border: none;\n",
              "      border-radius: 50%;\n",
              "      cursor: pointer;\n",
              "      display: none;\n",
              "      fill: #1967D2;\n",
              "      height: 32px;\n",
              "      padding: 0 0 0 0;\n",
              "      width: 32px;\n",
              "    }\n",
              "\n",
              "    .colab-df-convert:hover {\n",
              "      background-color: #E2EBFA;\n",
              "      box-shadow: 0px 1px 2px rgba(60, 64, 67, 0.3), 0px 1px 3px 1px rgba(60, 64, 67, 0.15);\n",
              "      fill: #174EA6;\n",
              "    }\n",
              "\n",
              "    [theme=dark] .colab-df-convert {\n",
              "      background-color: #3B4455;\n",
              "      fill: #D2E3FC;\n",
              "    }\n",
              "\n",
              "    [theme=dark] .colab-df-convert:hover {\n",
              "      background-color: #434B5C;\n",
              "      box-shadow: 0px 1px 3px 1px rgba(0, 0, 0, 0.15);\n",
              "      filter: drop-shadow(0px 1px 2px rgba(0, 0, 0, 0.3));\n",
              "      fill: #FFFFFF;\n",
              "    }\n",
              "  </style>\n",
              "\n",
              "      <script>\n",
              "        const buttonEl =\n",
              "          document.querySelector('#df-bae3794a-a494-4f53-aca2-0ed35948c95e button.colab-df-convert');\n",
              "        buttonEl.style.display =\n",
              "          google.colab.kernel.accessAllowed ? 'block' : 'none';\n",
              "\n",
              "        async function convertToInteractive(key) {\n",
              "          const element = document.querySelector('#df-bae3794a-a494-4f53-aca2-0ed35948c95e');\n",
              "          const dataTable =\n",
              "            await google.colab.kernel.invokeFunction('convertToInteractive',\n",
              "                                                     [key], {});\n",
              "          if (!dataTable) return;\n",
              "\n",
              "          const docLinkHtml = 'Like what you see? Visit the ' +\n",
              "            '<a target=\"_blank\" href=https://colab.research.google.com/notebooks/data_table.ipynb>data table notebook</a>'\n",
              "            + ' to learn more about interactive tables.';\n",
              "          element.innerHTML = '';\n",
              "          dataTable['output_type'] = 'display_data';\n",
              "          await google.colab.output.renderOutput(dataTable, element);\n",
              "          const docLink = document.createElement('div');\n",
              "          docLink.innerHTML = docLinkHtml;\n",
              "          element.appendChild(docLink);\n",
              "        }\n",
              "      </script>\n",
              "    </div>\n",
              "  </div>\n",
              "  "
            ]
          },
          "metadata": {},
          "execution_count": 26
        }
      ],
      "source": [
        "df_prepared.head(3)"
      ]
    },
    {
      "cell_type": "code",
      "execution_count": 27,
      "metadata": {
        "colab": {
          "base_uri": "https://localhost:8080/",
          "height": 90
        },
        "id": "lQbFEQMGyU6O",
        "outputId": "63735068-e1f9-4f5b-c3f6-8c1a9541c033"
      },
      "outputs": [
        {
          "output_type": "stream",
          "name": "stderr",
          "text": [
            "/usr/local/lib/python3.10/dist-packages/ipykernel/ipkernel.py:283: DeprecationWarning: `should_run_async` will not call `transform_cell` automatically in the future. Please pass the result to `transformed_cell` argument and any exception that happen during thetransform in `preprocessing_exc_tuple` in IPython 7.17 and above.\n",
            "  and should_run_async(code)\n"
          ]
        },
        {
          "output_type": "execute_result",
          "data": {
            "text/plain": [
              "'боже моя мечта'"
            ],
            "application/vnd.google.colaboratory.intrinsic+json": {
              "type": "string"
            }
          },
          "metadata": {},
          "execution_count": 27
        }
      ],
      "source": [
        "df_prepared['text'].iloc[4]"
      ]
    },
    {
      "cell_type": "code",
      "execution_count": 28,
      "metadata": {
        "id": "j1AEISlBLVP0"
      },
      "outputs": [],
      "source": [
        "with open(\"/content/MyDrive/MyDrive/Python/data/tweets_wv.wv\", \"w\") as f:\n",
        "    for index, row in df_prepared.iterrows():\n",
        "        vw_string = convert_to_vw_format(index, row)\n",
        "        f.write(vw_string)\n",
        "        f.write('\\n')"
      ]
    },
    {
      "cell_type": "code",
      "source": [
        "batch_vectorizer = artm.BatchVectorizer(data_path='/content/MyDrive/MyDrive/Python/data/tweets_wv.wv', \n",
        "                                        data_format='vowpal_wabbit',\n",
        "                                        target_folder='lenta_batches')"
      ],
      "metadata": {
        "id": "css8_h-z49vh"
      },
      "execution_count": 29,
      "outputs": []
    },
    {
      "cell_type": "code",
      "source": [
        "%%time \n",
        "lda = artm.LDA(num_topics=10, alpha=0.1, beta=0.001, \n",
        "               cache_theta=True,\n",
        "               num_document_passes=5, \n",
        "               dictionary=batch_vectorizer.dictionary)\n",
        "\n",
        "lda.fit_offline(batch_vectorizer=batch_vectorizer, \n",
        "                num_collection_passes=10)"
      ],
      "metadata": {
        "colab": {
          "base_uri": "https://localhost:8080/"
        },
        "id": "IAsOVkXl49ye",
        "outputId": "be83bcc9-043f-46ad-8988-3ff9e5be47b3"
      },
      "execution_count": 30,
      "outputs": [
        {
          "output_type": "stream",
          "name": "stdout",
          "text": [
            "CPU times: user 2min 12s, sys: 1.91 s, total: 2min 14s\n",
            "Wall time: 1min 31s\n"
          ]
        }
      ]
    },
    {
      "cell_type": "code",
      "source": [
        "lda.perplexity_value"
      ],
      "metadata": {
        "colab": {
          "base_uri": "https://localhost:8080/"
        },
        "id": "_Ewve9rA491F",
        "outputId": "59d89de4-ab93-4fd9-89d6-d9be684ce6fc"
      },
      "execution_count": 31,
      "outputs": [
        {
          "output_type": "stream",
          "name": "stderr",
          "text": [
            "/usr/local/lib/python3.10/dist-packages/ipykernel/ipkernel.py:283: DeprecationWarning: `should_run_async` will not call `transform_cell` automatically in the future. Please pass the result to `transformed_cell` argument and any exception that happen during thetransform in `preprocessing_exc_tuple` in IPython 7.17 and above.\n",
            "  and should_run_async(code)\n"
          ]
        },
        {
          "output_type": "execute_result",
          "data": {
            "text/plain": [
              "[222661.25,\n",
              " 8844.7197265625,\n",
              " 7371.00390625,\n",
              " 6597.4296875,\n",
              " 6209.28662109375,\n",
              " 5972.47265625,\n",
              " 5806.52001953125,\n",
              " 5682.28955078125,\n",
              " 5586.052734375,\n",
              " 5509.8466796875]"
            ]
          },
          "metadata": {},
          "execution_count": 31
        }
      ]
    },
    {
      "cell_type": "code",
      "source": [
        "np.log(lda.perplexity_last_value)"
      ],
      "metadata": {
        "colab": {
          "base_uri": "https://localhost:8080/"
        },
        "id": "yl65pzBU493z",
        "outputId": "83281ec6-475d-478e-8936-56eef4bdae96"
      },
      "execution_count": 32,
      "outputs": [
        {
          "output_type": "execute_result",
          "data": {
            "text/plain": [
              "8.614292075931775"
            ]
          },
          "metadata": {},
          "execution_count": 32
        }
      ]
    },
    {
      "cell_type": "code",
      "source": [
        "top_tokens = lda.get_top_tokens(num_tokens=20)\n",
        "for i, token_list in enumerate(top_tokens):\n",
        "     print ('Topic #{0}: {1}'.format(i, token_list))"
      ],
      "metadata": {
        "colab": {
          "base_uri": "https://localhost:8080/"
        },
        "id": "PcCZt7PS496V",
        "outputId": "9fe8e513-bb61-489a-c873-a26923d29260"
      },
      "execution_count": 57,
      "outputs": [
        {
          "output_type": "stream",
          "name": "stdout",
          "text": [
            "Topic #0: ['так', 'что', 'будет', 'это', 'есть', 'вот', 'как', 'все', 'буду', 'хорошо', 'теперь', 'меня', 'пока', 'сейчас', 'завтра', 'была', 'где', 'опять', 'раз', 'если']\n",
            "Topic #1: ['только', 'тебя', 'когда', 'как', 'очень', 'сегодня', 'люблю', 'было', 'уже', 'день', 'завтра', 'всем', 'без', 'они', 'Мне', 'хоть', 'плохо', 'могу', 'тоже', 'вчера']\n",
            "Topic #2: ['что', 'нет', 'надо', 'день', 'вообще', 'все', 'даже', 'ничего', 'делать', 'меня', 'как', 'уже', 'много', 'без', 'там', 'этого', 'после', 'домой', 'было', 'человек']\n",
            "Topic #3: ['меня', 'все', 'как', 'его', 'если', 'больше', 'потом', 'тоже', 'тут', 'через', 'там', 'часа', 'два', 'было', 'всегда', 'был', 'друг', 'или', 'чего', 'для']\n",
            "Topic #4: ['мне', 'http', 'кто', 'его', 'она', 'всегда', 'нравится', 'все', 'мной', 'таки', 'моя', 'уже', 'мой', 'о_О', 'себе', 'нибудь', 'чем', 'Новый', 'время', 'наверное']\n",
            "Topic #5: ['это', 'что', 'тебе', 'знаю', 'меня', 'http', 'как', 'вот', 'она', 'чем', 'или', 'всех', 'для', 'понимаю', 'кого', 'нам', 'жаль', 'сижу', 'эту', 'такой']\n",
            "Topic #6: ['http', 'про', 'год', 'блин', 'что', 'новый', 'все', 'конечно', 'Так', 'Спасибо', 'буду', 'нас', 'писать', 'уже', 'там', 'сегодня', 'пару', 'утром', 'сидеть', 'быть']\n",
            "Topic #7: ['http', 'хочу', 'уже', 'Как', 'почему', 'спать', 'Вот', 'хочется', 'такая', 'такие', 'как', 'можно', 'Что', 'это', 'вот', 'все', 'чуть', 'давно', 'нас', 'прям']\n",
            "Topic #8: ['http', 'спасибо', 'ещё', 'ведь', 'утра', 'Хочу', 'болит', 'вас', 'как', 'просто', 'теперь', 'ночь', 'фильм', 'под', 'всю', 'круто', 'очень', 'дома', 'года', 'настроение']\n",
            "Topic #9: ['еще', 'всё', 'просто', 'могу', 'может', 'там', 'тобой', 'себя', 'мой', 'какая', 'какой', 'нормально', 'Кто', 'привет', 'никак', 'для', 'найти', 'моей', 'ага', 'пойду']\n"
          ]
        }
      ]
    },
    {
      "cell_type": "markdown",
      "source": [
        "**total bs )))))))))) Trying out to exclude frequente and rare words**"
      ],
      "metadata": {
        "id": "XJJkRmn2Ah8S"
      }
    },
    {
      "cell_type": "code",
      "source": [
        "batch_vectorizer.dictionary.filter(min_tf=10, max_tf=5000)"
      ],
      "metadata": {
        "colab": {
          "base_uri": "https://localhost:8080/"
        },
        "id": "oCtwqJkr499Q",
        "outputId": "55d681e1-c449-4965-a926-bba669354247"
      },
      "execution_count": 34,
      "outputs": [
        {
          "output_type": "execute_result",
          "data": {
            "text/plain": [
              "artm.Dictionary(name=dac0a18d-abd0-429f-9867-f16892de0b0d, num_entries=18446)"
            ]
          },
          "metadata": {},
          "execution_count": 34
        }
      ]
    },
    {
      "cell_type": "code",
      "source": [
        "plsa = artm.ARTM(num_topics=10, \n",
        "                 dictionary=batch_vectorizer.dictionary)\n",
        "plsa.scores.add(artm.PerplexityScore(name='lenta_perplexity_score',\n",
        "                dictionary=batch_vectorizer.dictionary))\n",
        "\n",
        "plsa.scores.add(artm.TopTokensScore(name='TopTokensScore', \n",
        "                                    num_tokens=6))\n",
        "plsa.fit_offline(batch_vectorizer=batch_vectorizer, \n",
        "                 num_collection_passes=20)"
      ],
      "metadata": {
        "id": "A5Z0fRdJ49_q"
      },
      "execution_count": 35,
      "outputs": []
    },
    {
      "cell_type": "code",
      "source": [
        "for topic_name in plsa.topic_names:\n",
        "    print (topic_name + ': ', plsa.score_tracker['TopTokensScore'].last_tokens[topic_name])"
      ],
      "metadata": {
        "colab": {
          "base_uri": "https://localhost:8080/"
        },
        "id": "y5d9xkxA4-C3",
        "outputId": "dae0761f-8caa-42d7-9d75-0336e0686087"
      },
      "execution_count": 36,
      "outputs": [
        {
          "output_type": "stream",
          "name": "stdout",
          "text": [
            "topic_0:  ['есть', 'завтра', 'буду', 'сейчас', 'раз', 'где']\n",
            "topic_1:  ['без', 'они', 'Сегодня', 'всем', 'Мне', 'Все']\n",
            "topic_2:  ['надо', 'вообще', 'ничего', 'делать', 'после', 'много']\n",
            "topic_3:  ['его', 'если', 'для', 'тут', 'больше', 'был']\n",
            "topic_4:  ['кто', 'она', 'всегда', 'Это', 'себя', 'себе']\n",
            "topic_5:  ['знаю', 'или', 'чем', 'такой', 'всех', 'один']\n",
            "topic_6:  ['даже', 'про', 'блин', 'год', 'плохо', 'нибудь']\n",
            "topic_7:  ['нас', 'Как', 'люблю', 'почему', 'можно', 'Вот']\n",
            "topic_8:  ['теперь', 'спасибо', 'дома', 'время', 'ещё', 'вас']\n",
            "topic_9:  ['там', 'всё', 'могу', 'хорошо', 'мой', 'может']\n"
          ]
        },
        {
          "output_type": "stream",
          "name": "stderr",
          "text": [
            "/usr/local/lib/python3.10/dist-packages/ipykernel/ipkernel.py:283: DeprecationWarning: `should_run_async` will not call `transform_cell` automatically in the future. Please pass the result to `transformed_cell` argument and any exception that happen during thetransform in `preprocessing_exc_tuple` in IPython 7.17 and above.\n",
            "  and should_run_async(code)\n"
          ]
        }
      ]
    },
    {
      "cell_type": "markdown",
      "source": [
        "**stop_words**"
      ],
      "metadata": {
        "id": "iWzughxGGrG4"
      }
    },
    {
      "cell_type": "code",
      "source": [
        "import nltk\n",
        "nltk.download('stopwords')"
      ],
      "metadata": {
        "colab": {
          "base_uri": "https://localhost:8080/"
        },
        "id": "PJEItVuOG3fj",
        "outputId": "93ed4923-f240-485a-ad9d-5c5c92b83c6e"
      },
      "execution_count": 42,
      "outputs": [
        {
          "output_type": "stream",
          "name": "stderr",
          "text": [
            "[nltk_data] Downloading package stopwords to /root/nltk_data...\n",
            "[nltk_data]   Unzipping corpora/stopwords.zip.\n"
          ]
        },
        {
          "output_type": "execute_result",
          "data": {
            "text/plain": [
              "True"
            ]
          },
          "metadata": {},
          "execution_count": 42
        }
      ]
    },
    {
      "cell_type": "code",
      "source": [
        "stop_words = stopwords.words('russian')"
      ],
      "metadata": {
        "id": "wxwdHnUwG1fw"
      },
      "execution_count": 43,
      "outputs": []
    },
    {
      "cell_type": "code",
      "source": [
        "def excl_stopwords(texts_list): # texts_list - an iterable of tweets\n",
        "    prepared_texts = []\n",
        "    \n",
        "    for text in texts_list:\n",
        "        \n",
        "        text = ' '.join([w for w in text.split() if w not in stop_words])\n",
        "        prepared_texts.append(text)\n",
        "    \n",
        "    return prepared_texts"
      ],
      "metadata": {
        "id": "hI-r9SnWKmi9"
      },
      "execution_count": 49,
      "outputs": []
    },
    {
      "cell_type": "code",
      "source": [
        "stopwords_tweets = excl_stopwords(df_prepared.text)\n",
        "df_stopwords = pd.DataFrame(stopwords_tweets, columns=['text'])"
      ],
      "metadata": {
        "id": "YyD3boB3H2DC"
      },
      "execution_count": 50,
      "outputs": []
    },
    {
      "cell_type": "code",
      "source": [
        "df_stopwords.iloc[145]"
      ],
      "metadata": {
        "colab": {
          "base_uri": "https://localhost:8080/"
        },
        "id": "u7rdq2eVMA6r",
        "outputId": "81cdb75b-d2c4-45dc-a211-291a53f31519"
      },
      "execution_count": 51,
      "outputs": [
        {
          "output_type": "execute_result",
          "data": {
            "text/plain": [
              "text    Серега молодой лет страшно ппц Сын наверно возил\n",
              "Name: 145, dtype: object"
            ]
          },
          "metadata": {},
          "execution_count": 51
        }
      ]
    },
    {
      "cell_type": "code",
      "execution_count": 52,
      "metadata": {
        "id": "_NNylkYZMe3u"
      },
      "outputs": [],
      "source": [
        "with open(\"/content/MyDrive/MyDrive/Python/data/tweets_stopwords_wv.wv\", \"w\") as f:\n",
        "    for index, row in df_stopwords.iterrows():\n",
        "        vw_string = convert_to_vw_format(index, row)\n",
        "        f.write(vw_string)\n",
        "        f.write('\\n')"
      ]
    },
    {
      "cell_type": "code",
      "source": [
        "batch_vectorizer_stop = artm.BatchVectorizer(data_path='/content/MyDrive/MyDrive/Python/data/tweets_stopwords_wv.wv', \n",
        "                                        data_format='vowpal_wabbit',\n",
        "                                        target_folder='lenta_batches')"
      ],
      "metadata": {
        "id": "5zOIWydfMe3v"
      },
      "execution_count": 53,
      "outputs": []
    },
    {
      "cell_type": "code",
      "source": [
        "%%time \n",
        "lda_stop = artm.LDA(num_topics=10, alpha=0.1, beta=0.001, \n",
        "               cache_theta=True,\n",
        "               num_document_passes=5, \n",
        "               dictionary=batch_vectorizer_stop.dictionary)\n",
        "\n",
        "lda_stop.fit_offline(batch_vectorizer=batch_vectorizer_stop, \n",
        "                num_collection_passes=10)"
      ],
      "metadata": {
        "colab": {
          "base_uri": "https://localhost:8080/"
        },
        "outputId": "69c75ee7-c49b-493c-e26a-73bb1633d948",
        "id": "rz8Y7e2xMe3v"
      },
      "execution_count": 58,
      "outputs": [
        {
          "output_type": "stream",
          "name": "stdout",
          "text": [
            "CPU times: user 2min 14s, sys: 2.21 s, total: 2min 17s\n",
            "Wall time: 1min 36s\n"
          ]
        }
      ]
    },
    {
      "cell_type": "code",
      "source": [
        "lda_stop.perplexity_value"
      ],
      "metadata": {
        "colab": {
          "base_uri": "https://localhost:8080/"
        },
        "outputId": "c870cf87-e7fa-42fe-fb59-d8ad1454ea3b",
        "id": "K3eoL8iDMe3v"
      },
      "execution_count": 59,
      "outputs": [
        {
          "output_type": "stream",
          "name": "stderr",
          "text": [
            "/usr/local/lib/python3.10/dist-packages/ipykernel/ipkernel.py:283: DeprecationWarning: `should_run_async` will not call `transform_cell` automatically in the future. Please pass the result to `transformed_cell` argument and any exception that happen during thetransform in `preprocessing_exc_tuple` in IPython 7.17 and above.\n",
            "  and should_run_async(code)\n"
          ]
        },
        {
          "output_type": "execute_result",
          "data": {
            "text/plain": [
              "[220152.5,\n",
              " 16048.15625,\n",
              " 12803.2919921875,\n",
              " 11196.8642578125,\n",
              " 10428.4267578125,\n",
              " 9973.8076171875,\n",
              " 9662.775390625,\n",
              " 9432.6015625,\n",
              " 9254.98046875,\n",
              " 9114.7802734375]"
            ]
          },
          "metadata": {},
          "execution_count": 59
        }
      ]
    },
    {
      "cell_type": "code",
      "source": [
        "np.log(lda_stop.perplexity_last_value)"
      ],
      "metadata": {
        "colab": {
          "base_uri": "https://localhost:8080/"
        },
        "outputId": "1935dd74-a99f-4841-966c-97b1b34274b5",
        "id": "Ynv-2t0fMe3w"
      },
      "execution_count": 61,
      "outputs": [
        {
          "output_type": "execute_result",
          "data": {
            "text/plain": [
              "9.11765258078134"
            ]
          },
          "metadata": {},
          "execution_count": 61
        }
      ]
    },
    {
      "cell_type": "code",
      "source": [
        "top_tokens_stop = lda_stop.get_top_tokens(num_tokens=20)\n",
        "for i, token_list in enumerate(top_tokens_stop):\n",
        "     print ('Topic #{0}: {1}'.format(i, token_list))"
      ],
      "metadata": {
        "colab": {
          "base_uri": "https://localhost:8080/"
        },
        "outputId": "b1dafc56-7693-46f7-f735-ee38f34bb817",
        "id": "v8EUXQU5Me3w"
      },
      "execution_count": 62,
      "outputs": [
        {
          "output_type": "stream",
          "name": "stdout",
          "text": [
            "Topic #0: ['буду', 'http', 'пока', 'это', 'смотреть', 'правда', 'скоро', 'Очень', 'надеюсь', 'кстати', 'будут', 'думаю', 'смотрю', 'первый', 'одной', 'боюсь', 'завтра', 'жду', 'снова', 'реально']\n",
            "Topic #1: ['сегодня', 'очень', 'завтра', 'всем', 'Мне', 'равно', 'утро', 'Завтра', 'день', 'школу', 'вчера', 'ночи', 'мало', 'школе', 'долго', 'ладно', 'скучно', 'Все', 'будем', 'дня']\n",
            "Topic #2: ['день', 'вообще', 'делать', 'домой', 'ахах', 'никто', 'весь', 'человек', 'Сегодня', 'идти', 'Блин', 'раньше', 'каждый', 'сколько', 'времени', 'сделать', 'настроение', 'рождения', 'сказать', 'уроки']\n",
            "Topic #3: ['Спасибо', 'часа', 'нужно', 'друг', 'работу', 'поняла', 'давай', 'лет', 'самое', 'столько', 'ахахах', 'назад', 'amp', 'ехать', 'боль', 'дня', 'рано', 'скорее', 'хватает', 'подарок']\n",
            "Topic #4: ['http', 'Это', 'мной', 'такое', 'таки', 'Только', 'о_О', 'наверное', 'значит', 'Новый', 'жизни', 'жалко', 'пиздец', 'рядом', 'читать', 'написать', 'зима', 'время', 'євромайдан', 'ужасно']\n",
            "Topic #5: ['это', 'тебе', 'знаю', 'http', 'нам', 'понимаю', 'жаль', 'скучаю', 'думала', 'Теперь', 'сижу', 'кого', 'кем', 'кажется', 'пор', 'стоит', 'улице', 'сих', 'холодно', 'жизнь']\n",
            "Topic #6: ['http', 'блин', 'год', 'новый', 'Так', 'плохо', 'писать', 'хочет', 'норм', 'пару', 'осталось', 'утром', 'сидеть', 'Кто', 'буду', 'обидно', 'обычно', 'походу', 'любовь', 'вопрос']\n",
            "Topic #7: ['http', 'хочу', 'Как', 'спать', 'Вот', 'почему', 'такая', 'такие', 'хочется', 'Что', 'люблю', 'это', 'вроде', 'которые', 'прям', 'люди', 'снег', 'давно', 'мои', 'нравится']\n",
            "Topic #8: ['http', 'спасибо', 'ещё', 'очень', 'люблю', 'время', 'дома', 'болит', 'просто', 'Хочу', 'утра', 'года', 'ночь', 'фильм', 'круто', 'приятно', 'сильно', 'настроение', 'часов', 'голова']\n",
            "Topic #9: ['просто', 'всё', 'могу', 'вообще', 'тобой', 'нормально', 'моей', 'настроения', 'почему', 'пойду', 'привет', 'немного', 'неделю', 'никак', 'сказал', 'дела', 'сразу', 'найти', 'ага', 'второй']\n"
          ]
        }
      ]
    },
    {
      "cell_type": "markdown",
      "source": [
        "**Not much better. Last attempt with word frequency**"
      ],
      "metadata": {
        "id": "-6nfhA9xOXIg"
      }
    },
    {
      "cell_type": "code",
      "source": [],
      "metadata": {
        "id": "XfjCtfI4O9VN"
      },
      "execution_count": null,
      "outputs": []
    },
    {
      "cell_type": "code",
      "source": [
        "batch_vectorizer_stop.dictionary.filter(min_tf=10, max_tf=5000)"
      ],
      "metadata": {
        "colab": {
          "base_uri": "https://localhost:8080/"
        },
        "outputId": "36780df0-131e-4e61-8986-05ef8d94e210",
        "id": "YG4LbwBnO5OW"
      },
      "execution_count": 63,
      "outputs": [
        {
          "output_type": "execute_result",
          "data": {
            "text/plain": [
              "artm.Dictionary(name=a378eafc-ad2a-406c-8058-70269cce1b1a, num_entries=18347)"
            ]
          },
          "metadata": {},
          "execution_count": 63
        }
      ]
    },
    {
      "cell_type": "code",
      "source": [
        "plsa_stop = artm.ARTM(num_topics=10, \n",
        "                 dictionary=batch_vectorizer.dictionary)\n",
        "plsa_stop.scores.add(artm.PerplexityScore(name='lenta_perplexity_score',\n",
        "                dictionary=batch_vectorizer_stop.dictionary))\n",
        "\n",
        "plsa_stop.scores.add(artm.TopTokensScore(name='TopTokensScore', \n",
        "                                    num_tokens=15))\n",
        "plsa_stop.fit_offline(batch_vectorizer=batch_vectorizer_stop, \n",
        "                 num_collection_passes=20)"
      ],
      "metadata": {
        "id": "bELmJabaO5OW"
      },
      "execution_count": 66,
      "outputs": []
    },
    {
      "cell_type": "code",
      "source": [
        "for topic_name in plsa_stop.topic_names:\n",
        "    print (topic_name + ': ', plsa_stop.score_tracker['TopTokensScore'].last_tokens[topic_name])"
      ],
      "metadata": {
        "colab": {
          "base_uri": "https://localhost:8080/"
        },
        "outputId": "d670d051-e107-4676-b43d-47486308ccd6",
        "id": "-GSGFK2gO5OW"
      },
      "execution_count": 67,
      "outputs": [
        {
          "output_type": "stream",
          "name": "stdout",
          "text": [
            "topic_0:  ['завтра', 'буду', 'пока', 'скоро', 'школу', 'думаю', 'правда', 'снова', 'идти', 'скучаю', 'надеюсь', 'будут', 'кому', 'Очень', 'первый']\n",
            "topic_1:  ['всем', 'Мне', 'Все', 'дня', 'утро', 'равно', 'Если', 'Завтра', 'сразу', 'ночи', 'мало', 'ладно', 'школе', 'долго', 'будем']\n",
            "topic_2:  ['вообще', 'делать', 'домой', 'ахах', 'никто', 'человек', 'Блин', 'сделать', 'сильно', 'раньше', 'времени', 'сколько', 'свой', 'каждый', 'сказать']\n",
            "topic_3:  ['нужно', 'Спасибо', 'лет', 'часа', 'который', 'столько', 'самое', 'друг', 'фото', 'работу', 'ахахах', 'такого', 'человека', 'давай', 'поняла']\n",
            "topic_4:  ['Это', 'время', 'такое', 'жизни', 'жизнь', 'мной', 'таки', 'Только', 'о_О', 'наверное', 'значит', 'Новый', 'пиздец', 'жалко', 'рядом']\n",
            "topic_5:  ['знаю', 'нам', 'кого', 'весь', 'одна', 'понимаю', 'жаль', 'кажется', 'Теперь', 'сижу', 'Почему', 'думала', 'улице', 'Когда', 'кем']\n",
            "topic_6:  ['блин', 'год', 'плохо', 'Так', 'новый', 'ахаха', 'хотела', 'писать', 'минут', 'хочет', 'норм', 'ужасно', 'обидно', 'недели', 'осталось']\n",
            "topic_7:  ['Как', 'люблю', 'почему', 'Вот', 'спать', 'хочется', 'такая', 'такие', 'Что', 'мои', 'люди', 'нравится', 'вроде', 'людей', 'давно']\n",
            "topic_8:  ['спасибо', 'дома', 'ещё', 'настроение', 'утра', 'вчера', 'года', 'болит', 'мама', 'Хочу', 'круто', 'ночь', 'фильм', 'бля', 'вечер']\n",
            "topic_9:  ['всё', 'могу', 'хотя', 'моей', 'тобой', 'точно', 'пойду', 'нормально', 'настроения', 'самый', 'приятно', 'немного', 'привет', 'какие', 'сказал']\n"
          ]
        }
      ]
    },
    {
      "cell_type": "markdown",
      "source": [
        "**Q.E.D.**"
      ],
      "metadata": {
        "id": "ZBFjp6z2O5OX"
      }
    },
    {
      "cell_type": "code",
      "source": [],
      "metadata": {
        "id": "XnJSRaNKOV3V"
      },
      "execution_count": 62,
      "outputs": []
    }
  ],
  "metadata": {
    "colab": {
      "collapsed_sections": [
        "gJABxhalLVQu",
        "IaQMCGHFLVQ6",
        "5AJk1B39LVRP",
        "RJlvqWuALVRs",
        "rck5OVqhLVSA",
        "mV3fmzp-LVSU",
        "H5THCOjMLVSg",
        "02s2Vh7MLVSj",
        "b1khxRFDLVSm",
        "sfUmWcAQLVSt",
        "BxvtN-3zLVS5",
        "gyrHhYkgLVTB"
      ],
      "provenance": []
    },
    "kernelspec": {
      "display_name": "Python 3",
      "language": "python",
      "name": "python3"
    },
    "language_info": {
      "codemirror_mode": {
        "name": "ipython",
        "version": 3
      },
      "file_extension": ".py",
      "mimetype": "text/x-python",
      "name": "python",
      "nbconvert_exporter": "python",
      "pygments_lexer": "ipython3",
      "version": "3.7.9"
    }
  },
  "nbformat": 4,
  "nbformat_minor": 0
}